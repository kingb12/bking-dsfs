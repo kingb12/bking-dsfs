{
 "cells": [
  {
   "cell_type": "markdown",
   "metadata": {},
   "source": [
    "# Basic Statistics in Python from Scratch\n",
    "\n",
    "Will again collect relevant functions into modules"
   ]
  },
  {
   "cell_type": "code",
   "execution_count": 1,
   "metadata": {},
   "outputs": [],
   "source": [
    "from collections import Counter\n",
    "from typing import List\n",
    "import matplotlib.pyplot as plt\n",
    "import random, math\n",
    "from linalg import Vector, sum_of_squares, subtract, dot\n",
    "import numpy as np"
   ]
  },
  {
   "cell_type": "code",
   "execution_count": 2,
   "metadata": {},
   "outputs": [],
   "source": [
    "# seed random\n",
    "random.seed(42)"
   ]
  },
  {
   "cell_type": "code",
   "execution_count": 3,
   "metadata": {},
   "outputs": [],
   "source": [
    "# lets say we have 1000 user who each have k friends \n",
    "# where k is normally distributed mean=50, stddev=25, min=1, max=100\n",
    "def sample_friend_count() -> int:\n",
    "    sample = int(math.ceil(random.gauss(50, 15)))\n",
    "    return max(1, min(100, sample))\n",
    "num_friends = [sample_friend_count() for i in range(1000)]\n"
   ]
  },
  {
   "cell_type": "code",
   "execution_count": 4,
   "metadata": {},
   "outputs": [],
   "source": [
    "# now lets add synthetic co-variant data for daily minutes on site. We'll say # minutes is correlated by num friends\n",
    "def sample_daily_minutes(friend_count: int) -> int:\n",
    "    noise = int(math.ceil(random.gauss(30, 12)))\n",
    "    noise_corrected = max(1, min(120, noise))\n",
    "    # cap at 140 for friend count\n",
    "    return int((140 * (friend_count / 100.)) + noise)\n",
    "daily_minutes = [sample_daily_minutes(num_friends[i]) for i in num_friends]\n",
    "    "
   ]
  },
  {
   "cell_type": "code",
   "execution_count": 5,
   "metadata": {},
   "outputs": [
    {
     "data": {
      "image/png": "[encoded data removed]",
      "text/plain": [
       "<Figure size 432x288 with 1 Axes>"
      ]
     },
     "metadata": {
      "needs_background": "light"
     },
     "output_type": "display_data"
    }
   ],
   "source": [
    "friend_counts = Counter(num_friends)\n",
    "xs = range(101)\n",
    "ys = [friend_counts[i] for i in xs]\n",
    "plt.bar(xs, ys)\n",
    "plt.axis([0, 101, 0, 50])\n",
    "plt.title('Histogram of Friend Counts')\n",
    "plt.xlabel('# of friends')\n",
    "plt.ylabel('# of people')\n",
    "plt.show()\n"
   ]
  },
  {
   "cell_type": "code",
   "execution_count": 6,
   "metadata": {},
   "outputs": [
    {
     "name": "stdout",
     "output_type": "stream",
     "text": [
      "Max: 100 Min: 3 Count: 1000\n"
     ]
    }
   ],
   "source": [
    "# report max, min, count of values\n",
    "print('Max:', max(num_friends), 'Min:', min(num_friends), 'Count:', len(num_friends))"
   ]
  },
  {
   "cell_type": "code",
   "execution_count": 7,
   "metadata": {},
   "outputs": [
    {
     "name": "stdout",
     "output_type": "stream",
     "text": [
      "Max: 100 Min: 3 Count: 1000 Median: 50\n"
     ]
    }
   ],
   "source": [
    "\n"
   ]
  },
  {
   "cell_type": "code",
   "execution_count": 8,
   "metadata": {},
   "outputs": [],
   "source": [
    "def mean(xs: Vector) -> float:\n",
    "    \"returns mean value of vector\"\n",
    "    return sum(xs) / len(xs)\n",
    "assert abs(mean(sorted_values) - 50) < 3 # our data should be normally distributed around 50, give or take a little bit"
   ]
  },
  {
   "cell_type": "code",
   "execution_count": 9,
   "metadata": {},
   "outputs": [],
   "source": [
    "def median(xs: Vector) -> float:\n",
    "    \"returns the median value of the vector\"\n",
    "    # edit: x // y provides simpler floor-division than math.floor(x / y)\n",
    "    assert xs and len(xs) > 0, 'cannot get median of a null or empty vector'\n",
    "    xs_sorted = sorted(xs)\n",
    "    mid_index = len(xs_sorted) // 2\n",
    "    # if len(xs_sorted) is odd: mid index contains true median (e.g. 5 element list has median at index 2)\n",
    "    # if len(xs_sorted) is even: mid index is the right-half of the median values to average\n",
    "    # (e.g. a 6 element list has mid index 3, but median is defined by indices 2 & 3)\n",
    "    if len(xs_sorted) % 2 == 1:\n",
    "        return xs_sorted[mid_index] \n",
    "    else:\n",
    "        return (xs_sorted[mid_index] + xs_sorted[mid_index - 1]) / 2\n",
    "assert abs(median(sorted_values) - 50) < 3 # our data should be normally distributed around 50, give or take a little bit\n",
    "assert median([1,2,3,4,5,6,70000]) == 4.\n",
    "assert median([-1,3,4,5,6,70000]) == 4.5"
   ]
  },
  {
   "cell_type": "markdown",
   "metadata": {},
   "source": [
    "An interesting article on [QuickSelect is found here](https://en.wikipedia.org/wiki/Quickselect), which is an algorithm for finding the kth smallest element in an un-ordered list. This finds the median\n",
    "as part of a sort algorithm with O(n) average case, O(n^2) worst case performance, but can short circuit prior to finding the element (in short, you only need to sort part of the list to find the median) \n"
   ]
  },
  {
   "cell_type": "code",
   "execution_count": 10,
   "metadata": {},
   "outputs": [],
   "source": [
    "# quantile generalization of median\n",
    "def quantile(xs: Vector, p: float) -> float:\n",
    "    \"\"\"Returns the value for the pth-percentile of the data (e.g. median for p=.5)\"\"\"\n",
    "    assert xs and len(xs) > 0, 'cannot get median of a null or empty vector'\n",
    "    xs_sorted = sorted(xs)\n",
    "    p_index = int(len(xs_sorted) * p)\n",
    "    return xs_sorted[p_index]\n",
    "assert quantile([1,2,3,4,5,6,70000], .5) == 4.\n",
    "assert quantile([-1,3,4,5,6,70000], .5) == 5. # note the difference here, is this correct?\n",
    "assert quantile([-1,3,4,5,6,70000], .99) == 70000"
   ]
  },
  {
   "cell_type": "code",
   "execution_count": 11,
   "metadata": {},
   "outputs": [],
   "source": [
    "def mode(xs: Vector) -> List[float]:\n",
    "    \"\"\"finds the mode of the vector, returning a list in case there is more than one mode\"\"\"\n",
    "    counter = Counter(xs)\n",
    "    max_count = max(counter.values())\n",
    "    return [val for val, count in counter.items() if count == max_count]\n",
    "assert set(mode([1,1,1, 3, 3, 3, 2, 2, 4, 4, 5, 5, 5, 6])) == {1, 3, 5}\n"
   ]
  },
  {
   "cell_type": "code",
   "execution_count": 12,
   "metadata": {},
   "outputs": [],
   "source": [
    "def data_range(xs: Vector) -> float:\n",
    "    \"\"\"returns the range of a vector\"\"\"\n",
    "    assert xs, 'need a vector!'\n",
    "    return max(xs) - min(xs)"
   ]
  },
  {
   "cell_type": "code",
   "execution_count": 13,
   "metadata": {},
   "outputs": [],
   "source": [
    "def variance(xs: Vector) -> float:\n",
    "    \"\"\"returns the variance of a vector\"\"\"\n",
    "    assert xs and len(xs) >= 2, 'variance requires at least two elements'\n",
    "    sample_mean = mean(xs)\n",
    "    v_diff = [x - sample_mean for x in xs]\n",
    "    return sum_of_squares(v_diff) / (len(v_diff) - 1)\n",
    "\n",
    "# verify we agree with numpy\n",
    "data = list(np.random.rand(100))\n",
    "assert abs(variance(data) - np.var(data, ddof=1)) < 10**-9\n",
    "# interesting note about ddof here: \n",
    "# https://stackoverflow.com/questions/41204400/what-is-the-difference-between-numpy-var-and-statistics-variance-in-python\n"
   ]
  },
  {
   "cell_type": "markdown",
   "metadata": {},
   "source": [
    "More interesting info here, but essentially it is impossible to get an un-biased estimate of the standard deviation from only a sample, and the `-1` and `ddof` in the variance equation are known as Bessel's correction, which reduces bias in variance estimation and some of the bias in std_dev estmation\n",
    "\n",
    "See article [here](https://en.wikipedia.org/wiki/Unbiased_estimation_of_standard_deviation)"
   ]
  },
  {
   "cell_type": "code",
   "execution_count": 14,
   "metadata": {},
   "outputs": [],
   "source": [
    "def standard_deviation(xs: Vector) -> float:\n",
    "    \"\"\"returns the standard deviation of a vector, which is sqrt variance\n",
    "    \n",
    "    Units: if xs is in meters, returns std dev in meters\n",
    "    \"\"\"\n",
    "    assert xs and len(xs) >= 2, 'std dev requires at least two elements'\n",
    "    return math.sqrt(variance(xs))\n",
    "# verify we agree with numpy\n",
    "data = list(np.random.rand(100))\n",
    "assert abs(standard_deviation(data) - np.std(data, ddof=1)) < 10**-9"
   ]
  },
  {
   "cell_type": "code",
   "execution_count": 15,
   "metadata": {},
   "outputs": [],
   "source": [
    "def interquantile_range(xs: Vector) -> float:\n",
    "    \"\"\"returns the difference between the 75th and 25th percent quantile\"\"\"\n",
    "    return quantile(xs, .75) - quantile(xs, .25)"
   ]
  },
  {
   "cell_type": "code",
   "execution_count": 16,
   "metadata": {},
   "outputs": [],
   "source": [
    "def covariance(xs: Vector, ys: Vector) -> float:\n",
    "    \"\"\"return the covariance of two vectors\"\"\"\n",
    "    assert xs and ys and len(xs) == len(ys), 'vectors must exist and have equal length'\n",
    "    x_mean, y_mean = mean(xs), mean(ys)\n",
    "    x_bar, y_bar = [x - x_mean for x in xs], [y - y_mean for y in ys]\n",
    "    # now we have two vectors of the form x_i - x_mean, the total covariance \n",
    "    # is a dot product sum((x_i - x_mean)*(y_i - y_mean)) / length (length alone shouldn't dictate covariance)\n",
    "    return dot(x_bar, y_bar) / (len(xs) - 1) # Note the Bessel correction\n",
    "data_xs = list(np.random.rand(100))\n",
    "data_ys = list(np.random.rand(100))\n",
    "\n",
    "# np.cov returns full covariance matrix (0, 0) is variance in xs, (1, 1) is variance in ys, \n",
    "# (0, 1) and (1, 0) are covariance xs, ys\n",
    "assert abs(np.cov(data_xs, y=data_ys, ddof=1)[0][1] - covariance(data_xs, data_ys)) < 10**-9"
   ]
  },
  {
   "cell_type": "markdown",
   "metadata": {},
   "source": [
    "### Covariance\n",
    "\n",
    "![covariance eq](https://wikimedia.org/api/rest_v1/media/math/render/svg/7120384a1c843727d9589e2b33dbc33901d14f42)\n",
    "From above, one describe the covariance of two real-valued variables to be the Expected value of the product of the difference from expected value of each variable. In (many/most/all?) cases of observed data `E[x]` is the sample mean.\n",
    "\n",
    "#### Interpretting Covariance\n",
    "\n",
    "Since this is the summed-product of differences from a mean, values in the sum are positive when the diff from the mean share signs, negative otherwise. Thus positive covariance suggests positive correlation*, negative covariance suggests negative correlation*.\n",
    "\n",
    "##### Units of Covariance\n",
    "Covariance units are hard to interpret: Looking at example\n",
    "`xs`: the number of friends of each user (friends)\n",
    "`ys`: the number of minutes spent online for each user (minutes)\n",
    "`covariance`: friend-minutes (a nonsensical value)\n",
    "\n",
    "An interesting note: if each user had 2x as many friends, covariance would be twice as large (sum now has (2x - 2x_hat)(y - y_hat) where it used to have (x - x_hat)(y - y_hat). However, a transform like this isn't really impacting the nature of the correlation*, so magnitude of covariance also lacks clear meaning.\n",
    "\n",
    "\n",
    "\\* so apparently `correlation` has an actual statistical meaning: it is the covariance with the std dev of each variable divided from the sum"
   ]
  },
  {
   "cell_type": "code",
   "execution_count": 17,
   "metadata": {},
   "outputs": [],
   "source": [
    "# this is the correlation coefficient, which can be sensitive to outliers\n",
    "def correlation(xs: Vector, ys: Vector) -> float:\n",
    "        \"\"\"return the correlation of two vectors\"\"\"\n",
    "        cov = covariance(xs, ys)\n",
    "        std_x = standard_deviation(xs)\n",
    "        std_y = standard_deviation(ys)\n",
    "        # if there is no variance in either xs or ys, there is no correlation\n",
    "        return cov / (std_x * std_y) if std_x > 0 and std_y > 0 else 0\n",
    "\n",
    "data_xs = list(np.random.rand(100))\n",
    "# same matrix issue with np.cov\n",
    "assert abs(np.corrcoef(data_xs, data_ys)[0][1] - correlation(data_xs, data_ys)) < 10**-9"
   ]
  },
  {
   "cell_type": "markdown",
   "metadata": {},
   "source": [
    "### Simpsons Paradox\n",
    "\n",
    "Interesting note on this relative to other explanations. My favorite remains this one from [colah's blog](https://colah.github.io/posts/2015-09-Visual-Information/). \n",
    "\n",
    "From the book: One not uncommon surprise when analyzing data is *Simpson's Paradox* in which correlations can be misleading when confounding variables are ignored ... the problem is that correlation measures the relationship between your two variabled *all else being equal*. If your data classes are assigned at random, this might not be a terrible assumption in a well designed experiment. When there is a deeper pattern to class assignments, *all else being equal* becomes a very poor assumption.\n",
    "\n",
    "Confounding variables need to be carefully reasoned about, and might not always be in the data directly. In the famous UC case, they were able to show the imbalanced class assignment into competitive programs across gender because they had the applicant data. If your dataset lacks this class defining parameter, you're s.o.l without enough knowledge of the domain to consider the potential confounders. "
   ]
  },
  {
   "cell_type": "markdown",
   "metadata": {},
   "source": [
    "### Correlation Caveats\n",
    "\n",
    "##### Correlation captures only linear relationships between x_i, y_i pairs\n",
    "An interesting example of two functions with zero correlation:\n",
    "\n",
    "`xs: x for x in (-inf, inf)`\n",
    "`ys: abs(x) for x in (-inf, inf)`\n",
    "\n",
    "These have zero correlation but are clearly deeply related. Correlation only looks for one kind of relationship (in this case also linear): what information about `y_i` does knowing `x_i - mean(xs)` provide? Other relationships might not be captured or can be misrepresented.\n",
    "\n",
    "##### Correlation does not indicate the size of the relationship\n",
    "\n",
    "E.g.\n",
    "`xs: [0, 1, 2, 3, 4, 5]` = running days per week\n",
    "`ys: [600, 599, 598, 597, 596]` = seconds in a mile time"
   ]
  },
  {
   "cell_type": "code",
   "execution_count": 18,
   "metadata": {},
   "outputs": [
    {
     "data": {
      "text/plain": [
       "-1.0"
      ]
     },
     "execution_count": 18,
     "metadata": {},
     "output_type": "execute_result"
    }
   ],
   "source": [
    "xs = [0, 1, 2, 3, 4, 5]\n",
    "ys = [600, 599, 598, 597, 596, 595]\n",
    "correlation(xs, ys)"
   ]
  },
  {
   "cell_type": "markdown",
   "metadata": {},
   "source": [
    "As one can see above: perfectly negative correlation. The pattern isn't that interesting though, considering the data: running between 0-5 times per week on average should have more than a 1 second impact per daily average on a mile time (10:00 -> 9:55)"
   ]
  },
  {
   "cell_type": "code",
   "execution_count": null,
   "metadata": {},
   "outputs": [],
   "source": []
  }
 ],
 "metadata": {
  "kernelspec": {
   "display_name": "dsfsvenv",
   "language": "python",
   "name": "dsfsvenv"
  },
  "language_info": {
   "codemirror_mode": {
    "name": "ipython",
    "version": 3
   },
   "file_extension": ".py",
   "mimetype": "text/x-python",
   "name": "python",
   "nbconvert_exporter": "python",
   "pygments_lexer": "ipython3",
   "version": "3.7.6"
  }
 },
 "nbformat": 4,
 "nbformat_minor": 4
}
