{
 "cells": [
  {
   "cell_type": "markdown",
   "metadata": {},
   "source": [
    "# Simple Linear Regression\n",
    "\n",
    "This chapter (and notebook) will go through linear regression of a single variable. The worked example is testing modeling the hypothesis that the number of minutes a user spends on a social network is linearly dependent on their number of friends. In an equation:\n",
    "\n",
    "$$ y_i = \\alpha x_i + \\beta + \\epsilon $$\n",
    "\n",
    "Where $y_i$ is the number of minutes spent on the social network, $x_i$ is the number of friends of that user, $\\alpha$ and $\\beta$ are learned parameters, and $\\epsilon$ is (hopefully small) random error term that accounts for the influence of other factors.\n",
    "\n",
    "Thus predictions from a linear regressed model come from:"
   ]
  },
  {
   "cell_type": "code",
   "execution_count": 54,
   "metadata": {},
   "outputs": [],
   "source": [
    "import sys, random, tqdm, math\n",
    "sys.path.insert(0, \"../\")\n",
    "from linalg import Vector\n",
    "from typing import Tuple\n",
    "from stats import correlation, standard_deviation, mean\n",
    "from matplotlib import pyplot as plt\n",
    "from gradient_descent import gradient_step\n",
    "import numpy as np"
   ]
  },
  {
   "cell_type": "code",
   "execution_count": 4,
   "metadata": {},
   "outputs": [],
   "source": [
    "def predict(alpha: float, beta: float, x_i: float) -> float:\n",
    "    \"\"\"\n",
    "    for some alpha, beta, x_i, return the estimate for y_i\n",
    "    \"\"\"\n",
    "    return alpha * x_i + beta"
   ]
  },
  {
   "cell_type": "markdown",
   "metadata": {},
   "source": [
    "Arbitrary $\\alpha$, $\\beta$ can give arbitrarily bad predictions for $y_i$ even in the case that a linear model is a good fit for the data. We want to find the $\\alpha$, $\\beta$ that provide the best fit for the data. To do this, we first need to know how wrong we are:"
   ]
  },
  {
   "cell_type": "code",
   "execution_count": 5,
   "metadata": {},
   "outputs": [],
   "source": [
    "def error(alpha: float, beta: float, x_i: float, y_i: float) -> float:\n",
    "    \"\"\"\n",
    "    for some alpha, beta, x_i, and true value for y_i, return the difference between our estimate and the real value\n",
    "    \"\"\"\n",
    "    return predict(alpha, beta, x_i) - y_i"
   ]
  },
  {
   "cell_type": "markdown",
   "metadata": {},
   "source": [
    "This is incomplete in two ways:\n",
    "\n",
    "1. positive and negative error terms negate each other leading to an incorrect defintion of global 'error' across an $X \\rightarrow Y$ dataset.\n",
    "\n",
    "2. large errors are (should be?) *much* worse than small ones: we want to discourage large errors.\n",
    "\n",
    "So for a whole dataset of xs and ys, we can sum the square of errors and minimize this to get a good fit"
   ]
  },
  {
   "cell_type": "code",
   "execution_count": 8,
   "metadata": {},
   "outputs": [],
   "source": [
    "def sum_of_squared_errors(alpha: float, beta: float, xs: Vector, ys: Vector) -> float:\n",
    "    \"\"\"\n",
    "    for some alpha, beta and dataset xs, ys, return the sum of squared errors when predicting ys from xs using alpha and beta\n",
    "    \"\"\"\n",
    "    errors = [error(alpha, beta, x_i, y_i) for x_i, y_i in zip(xs, ys)]\n",
    "    return sum(e**2 for e in errors)"
   ]
  },
  {
   "cell_type": "code",
   "execution_count": 16,
   "metadata": {},
   "outputs": [],
   "source": [
    "def least_squares_fit(xs: Vector, ys: Vector) -> Tuple[float, float]:\n",
    "    \"\"\"\n",
    "    Given a dataset represented by xs and ys, return the alpha, beta that provide the least squared error fit for a\n",
    "    function y_i = alpha * x_i + beta\n",
    "    \"\"\"\n",
    "    alpha = correlation(xs, ys) * standard_deviation(ys) / standard_deviation(xs)\n",
    "    beta = mean(ys) - alpha * mean(xs)\n",
    "    return alpha, beta\n",
    "xs = [i for i in range(-100, 110, 10)]\n",
    "ys = [3* x - 5 for x in xs]\n",
    "# we should get exactly alpha=3, beta=-5\n",
    "assert least_squares_fit(xs, ys) == (3, -5)"
   ]
  },
  {
   "cell_type": "markdown",
   "metadata": {},
   "source": [
    "Lets try it with data from the book ([here](https://github.com/joelgrus/data-science-from-scratch/blob/master/scratch/statistics.py))"
   ]
  },
  {
   "cell_type": "code",
   "execution_count": 20,
   "metadata": {},
   "outputs": [],
   "source": [
    "num_friends = [100.0,49,41,40,25,21,21,19,19,18,18,16,15,15,15,15,14,14,13,13,13,13,12,12,11,10,10,10,10,10,10,10,\n",
    "               10,10,10,10,10,10,10,10,9,9,9,9,9,9,9,9,9,9,9,9,9,9,9,9,9,9,8,8,8,8,8,8,8,8,8,8,8,8,8,7,7,7,7,7,7,\n",
    "               7,7,7,7,7,7,7,7,7,6,6,6,6,6,6,6,6,6,6,6,6,6,6,6,6,6,6,6,6,6,6,5,5,5,5,5,5,5,5,5,5,5,5,5,5,5,5,5,4,\n",
    "               4,4,4,4,4,4,4,4,4,4,4,4,4,4,4,4,4,4,4,3,3,3,3,3,3,3,3,3,3,3,3,3,3,3,3,3,3,3,3,2,2,2,2,2,2,2,2,2,2,\n",
    "               2,2,2,2,2,2,2,1,1,1,1,1,1,1,1,1,1,1,1,1,1,1,1,1,1,1,1,1,1]\n",
    "daily_minutes = [1,68.77,51.25,52.08,38.36,44.54,57.13,51.4,41.42,31.22,34.76,54.01,38.79,47.59,49.1,27.66,41.03,\n",
    "                 36.73,48.65,28.12,46.62,35.57,32.98,35,26.07,23.77,39.73,40.57,31.65,31.21,36.32,20.45,21.93,26.02,\n",
    "                 27.34,23.49,46.94,30.5,33.8,24.23,21.4,27.94,32.24,40.57,25.07,19.42,22.39,18.42,46.96,23.72,26.41,\n",
    "                 26.97,36.76,40.32,35.02,29.47,30.2,31,38.11,38.18,36.31,21.03,30.86,36.07,28.66,29.08,37.28,15.28,\n",
    "                 24.17,22.31,30.17,25.53,19.85,35.37,44.6,17.23,13.47,26.33,35.02,32.09,24.81,19.33,28.77,24.26,\n",
    "                 31.98,25.73,24.86,16.28,34.51,15.23,39.72,40.8,26.06,35.76,34.76,16.13,44.04,18.03,19.65,32.62,\n",
    "                 35.59,39.43,14.18,35.24,40.13,41.82,35.45,36.07,43.67,24.61,20.9,21.9,18.79,27.61,27.21,26.61,29.77,\n",
    "                 20.59,27.53,13.82,33.2,25,33.1,36.65,18.63,14.87,22.2,36.81,25.53,24.62,26.25,18.21,28.08,19.42,\n",
    "                 29.79,32.8,35.99,28.32,27.79,35.88,29.06,36.28,14.1,36.63,37.49,26.9,18.58,38.48,24.48,18.95,\n",
    "                 33.55,14.24,29.04,32.51,25.63,22.22,19,32.73,15.16,13.9,27.2,32.01,29.27,33,13.74,20.42,27.32,\n",
    "                 18.23,35.35,28.48,9.08,24.62,20.12,35.26,19.92,31.02,16.49,12.16,30.7,31.22,34.65,13.13,27.51,\n",
    "                 33.2,31.57,14.1,33.42,17.44,10.12,24.42,9.82,23.39,30.93,15.03,21.67,31.09,33.29,22.61,26.89,\n",
    "                 23.48,8.38,27.81,32.35,23.84]\n",
    "outlier = num_friends.index(100)    # index of outlier\n",
    "num_friends_good = [x\n",
    "                    for i, x in enumerate(num_friends)\n",
    "                    if i != outlier]\n",
    "daily_minutes_good = [x\n",
    "                      for i, x in enumerate(daily_minutes)\n",
    "                      if i != outlier]"
   ]
  },
  {
   "cell_type": "code",
   "execution_count": 22,
   "metadata": {},
   "outputs": [],
   "source": [
    "alpha, beta = least_squares_fit(num_friends_good, daily_minutes_good)\n",
    "assert 22.9 < beta < 23.0\n",
    "assert 0.9 < alpha < 0.905"
   ]
  },
  {
   "cell_type": "code",
   "execution_count": 25,
   "metadata": {},
   "outputs": [
    {
     "data": {
      "image/png": "[encoded data removed]",
      "text/plain": [
       "<Figure size 432x288 with 1 Axes>"
      ]
     },
     "metadata": {},
     "output_type": "display_data"
    }
   ],
   "source": [
    "# plotting our 'line of best fit'\n",
    "plt.style.use('seaborn-whitegrid') # neat\n",
    "plt.title('Linear Regression of Daily Minutes vs. Friend Count')\n",
    "plt.xlabel('Number of Friends')\n",
    "plt.ylabel('Daily Minutes Online')\n",
    "# our actual data\n",
    "plt.scatter(num_friends_good, daily_minutes_good)\n",
    "# our line of best fit\n",
    "xs = range(0, max(num_friends_good) + 5)\n",
    "ys = [alpha * x + beta for x in xs]\n",
    "plt.plot(xs, ys, color='red')\n",
    "plt.show()"
   ]
  },
  {
   "cell_type": "markdown",
   "metadata": {},
   "source": [
    "### R-Squared: the coefficient of determination\n",
    "\n",
    "We need a better way to figure out how well our line fits our data than just looking at the graph. We can use the *R-squared* value to give a numeric answer:"
   ]
  },
  {
   "cell_type": "code",
   "execution_count": 35,
   "metadata": {},
   "outputs": [],
   "source": [
    "def total_sum_of_squares(ys: Vector) -> float:\n",
    "    \"\"\"\n",
    "    For a given vector (in this R-squared context our y values), return the total squared distance from the mean\n",
    "    \"\"\"\n",
    "    mu = mean(ys)\n",
    "    return sum((y - mu)**2 for y in ys)\n",
    "\n",
    "def r_squared(alpha: float, beta: float, xs: Vector, ys: Vector) -> float:\n",
    "    \"\"\"\n",
    "    give the R-squared value of our line of best fit relative to actual data xs, ys. This is equivalent to the \n",
    "    fraction of the variance in ys that we account for in our predictions, itself equivalent to 1.0 - the fraction we\n",
    "    miss\n",
    "    \"\"\"\n",
    "    var_missed = sum_of_squared_errors(alpha, beta, xs, ys)\n",
    "    var_present = total_sum_of_squares(ys)\n",
    "    return 1.0 - (var_missed / var_present)\n",
    "assert abs(r_squared(alpha, beta, num_friends_good, daily_minutes_good) - .329) < 10**-3"
   ]
  },
  {
   "cell_type": "markdown",
   "metadata": {},
   "source": [
    "Our R value of `.329` isn't actually very good and implies are linear hypothesis doesn't adequately explain whats going on"
   ]
  },
  {
   "cell_type": "markdown",
   "metadata": {},
   "source": [
    "### Using Gradient Descent\n",
    "\n",
    "Sometimes its faster, sometimes its all that is tractable, sometimes there is no defined solution to the system of equations that minimizes least squared errors for all hypothesis functions (ours being single variable linear in this case). Anyway, we can use gradient descent to perform linear regression.\n",
    "\n",
    "Recall we are predicting with the equation: \n",
    "\n",
    "$$ \\hat{y_i} = \\alpha x_i + \\beta $$\n",
    "\n",
    "Our loss $\\lambda$ is then:\n",
    "\n",
    "$$ loss(x_i, y_i) = (\\hat{y_i} - y_i)^2  = (\\alpha x_i + \\beta - y_i)^2$$\n",
    "\n",
    "We can compute partial gradients like so:\n",
    "\n",
    "$$\\frac{\\partial \\lambda}{\\partial \\alpha} =  2(\\alpha x_i + \\beta - y_i) * x_i $$\n",
    "\n",
    "$$\\frac{\\partial \\lambda}{\\partial \\beta} =  2(\\alpha x_i + \\beta - y_i) $$"
   ]
  },
  {
   "cell_type": "code",
   "execution_count": 74,
   "metadata": {},
   "outputs": [
    {
     "name": "stderr",
     "output_type": "stream",
     "text": [
      "loss: 13196.620: 100%|██████████| 5000/5000 [00:04<00:00, 1049.49it/s]\n"
     ]
    }
   ],
   "source": [
    "num_epochs = 5000\n",
    "random.seed(0)\n",
    "\n",
    "guess = (random.random(), random.random())\n",
    "lr = 10**-5\n",
    "# lets do gradient descent!\n",
    "xs = num_friends_good\n",
    "ys = daily_minutes_good\n",
    "losses = []\n",
    "params = []\n",
    "with tqdm.trange(num_epochs) as t:\n",
    "    for _ in t:\n",
    "        alpha, beta = guess\n",
    "        params.append(guess)\n",
    "        # partial derivative of alpha, beta\n",
    "        grad_a = sum(2*error(alpha, beta, x, y)*x for x, y in zip(xs, ys))\n",
    "        grad_b = sum(2*error(alpha, beta, x, y) for x, y in zip(xs, ys))\n",
    "        loss = sum_of_squared_errors(alpha, beta, xs, ys)\n",
    "        losses.append(loss)\n",
    "        t.set_description(f\"loss: {loss:.3f}\")\n",
    "        \n",
    "        # finally, update the guess\n",
    "        guess = gradient_step(guess, [grad_a, grad_b], -lr)\n",
    "alpha, beta = guess\n",
    "assert 22.9 < beta < 23\n",
    "assert .9 < alpha < .905"
   ]
  },
  {
   "cell_type": "code",
   "execution_count": 48,
   "metadata": {},
   "outputs": [
    {
     "data": {
      "image/png": "[encoded data removed]",
      "text/plain": [
       "<Figure size 432x288 with 1 Axes>"
      ]
     },
     "metadata": {},
     "output_type": "display_data"
    }
   ],
   "source": [
    "# Now we can plot a loss curve!\n",
    "plt.title(\"Loss Curve for Gradient Descent on daily mins vs num friends\")\n",
    "plt.plot(range(num_epochs), losses)\n",
    "plt.xlabel('Epochs')\n",
    "plt.ylabel('Squared Error')\n",
    "plt.show()"
   ]
  },
  {
   "cell_type": "code",
   "execution_count": 82,
   "metadata": {},
   "outputs": [
    {
     "data": {
      "image/png": "[encoded data removed]",
      "text/plain": [
       "<Figure size 432x288 with 1 Axes>"
      ]
     },
     "metadata": {},
     "output_type": "display_data"
    }
   ],
   "source": [
    "# We can also plot our path across theoretical losses\n",
    "plt.title(\"Path to Minimum-ish loss\")\n",
    "# contour of losses: first define a grid (will be 0-9 * 0-9 and we'll shift to real values with an arg)\n",
    "dim_x = np.arange(1, 10)\n",
    "dim_y = dim_x.reshape(-1, 1)\n",
    "loss_plane = dim_x * dim_y\n",
    "min_loss = losses[-1]\n",
    "max_loss = 0\n",
    "\n",
    "# now set the actual values\n",
    "for i in dim_x:\n",
    "    for j in dim_x:\n",
    "        a = (-1 + .2 * i) + alpha\n",
    "        b = (-1 + .2 * j) + beta\n",
    "        loss = sum_of_squared_errors(a, b, xs, ys)\n",
    "        loss_plane[i - 1][j - 1] = loss\n",
    "        max_loss = loss if loss > max_loss else max_loss\n",
    "loss_diff = max_loss - min_loss\n",
    "levels = [i for i in range(math.floor(min_loss) + 100, math.floor(max_loss) - 100, int(math.floor(loss_diff / 3.)))]\n",
    "cs = plt.contourf(loss_plane, \n",
    "                  levels=levels,\n",
    "                  colors=['#808080', '#A0A0A0', '#C0C0C0'],\n",
    "                  extend='both')\n",
    "cs.changed()\n"
   ]
  },
  {
   "cell_type": "markdown",
   "metadata": {},
   "source": [
    "This doesn't actually do what I thought it would: turns out getting the right contour shape will be tough since alpha, beta aren't at the same scale. **This is also why gradient descent can struggle on un-scaled data**"
   ]
  },
  {
   "cell_type": "markdown",
   "metadata": {},
   "source": [
    "#### Why least squares?\n",
    "\n",
    "Blah blah math shows that the parameters of alpha, beta that provide the maximum likelihood estimate for any data defined by $ y_i = \\alpha x_i + \\beta + \\epsilon $ are equivalent to those that minimize squared error. Importantly * this assumes that the $\\eps"
   ]
  }
 ],
 "metadata": {
  "kernelspec": {
   "display_name": "dsfsvenv",
   "language": "python",
   "name": "dsfsvenv"
  },
  "language_info": {
   "codemirror_mode": {
    "name": "ipython",
    "version": 3
   },
   "file_extension": ".py",
   "mimetype": "text/x-python",
   "name": "python",
   "nbconvert_exporter": "python",
   "pygments_lexer": "ipython3",
   "version": "3.7.6"
  }
 },
 "nbformat": 4,
 "nbformat_minor": 4
}
