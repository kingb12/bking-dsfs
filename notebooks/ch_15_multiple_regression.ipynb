{
 "cells": [
  {
   "cell_type": "markdown",
   "metadata": {},
   "source": [
    "# Multiple Regression\n",
    "\n",
    "Multiple regression is the natural extension of linear regression such that we fit a single value from a collection of parameters.\n",
    "\n",
    "**NOTE: in the last notebooks I went against the book and swapped alpha ($\\alpha$) and beta ($\\beta$) in usage, as I believed it to be the notation I was already familiar with. This was probably wrong, and in any case will only get increasingly hard to maintain. From here on out\n",
    "In the linear regression case: \n",
    "$$ y_i = \\beta x_i + \\alpha + \\epsilon $$\n",
    "\n",
    "In the multiple regression case:\n",
    "\n",
    "$$ y_i = \\beta_0 x_{i0} + ... + \\beta_n x_{in} + \\alpha + \\epsilon $$\n",
    "\n",
    "where we learn $n + 1$ parameters for $n$ features (+1 = beta/bias). In this context, $x$ is a vector\n",
    "\n",
    "### The Model in Code\n",
    "\n",
    "For simplicity, we combine the alpha term into the beta vector and transform our inputs to include a constant term: `[x_0 ... x_n]` becomes `[1, x_0 ... x_n]` and our `beta` vector is really `[alpha, beta_0 ... beta_n]` Prediction is straight-forward"
   ]
  },
  {
   "cell_type": "code",
   "execution_count": 1,
   "metadata": {},
   "outputs": [],
   "source": [
    "# Awful hack to import past chapter modules\n",
    "import sys\n",
    "sys.path.insert(0, \"../\")\n",
    "import tqdm, random\n",
    "from linalg import dot, Vector, vector_mean, vector_sum, scalar_multiply, subtract, add\n",
    "from probability import normal_cdf\n",
    "from simple_linear_regression import total_sum_of_squares\n",
    "from gradient_descent import gradient_step\n",
    "from typing import List, TypeVar, Callable, Tuple\n",
    "from stats import median, standard_deviation"
   ]
  },
  {
   "cell_type": "code",
   "execution_count": 2,
   "metadata": {},
   "outputs": [],
   "source": [
    "def predict(x: Vector, beta: Vector) -> float:\n",
    "    \"\"\"\n",
    "    Given values for x and parameters beta, give a prediction for y. This assumes any bias transform \n",
    "    [1, x_0 ... x_n] has already been performed on x, beta\n",
    "    \"\"\"\n",
    "    return dot(x, beta)\n",
    "    "
   ]
  },
  {
   "cell_type": "markdown",
   "metadata": {},
   "source": [
    "### Further Assumptions of the Least Squares Model\n",
    "\n",
    "Minimizing squared-error in multiple regression makes some assumptions about our data that are important to keep in mind, as they aren't always known to be true:\n",
    "\n",
    "1. Features in $x$ are *linearly independent*, i.e. no single feature in $x$ can be described as a linear combination of any others. A least-squares solution cannot always be determined when this is not true. This often requires careful data cleaning to verify.\n",
    "\n",
    "2. The columns of $x$ must be uncorrelated with the errors $\\epsilon$. Otherwise, our model will be systematically wrong. An example:\n",
    "  - Consider the relationship between number of friends in a social network ($friends$), number of hours spent working ($work hours$), and number of minutes ($minutes$) spent on the social networks site.\n",
    "    - Lets say the true relationship is defined as $minutes  = \\beta_1 friends + \\beta_2 work hours + \\epsilon$\n",
    "    - Lets also say that $work hours$ is correlated with $friends$, i.e. $friends ~ k * work hours + \\epsilon_2$\n",
    "  - If we are trying to fit regression to $minutes = \\beta_1 friends + \\epsilon$, we will systematically under-estimate $\\beta_1$: our predictions will necessarily be less correct for users with *many* friends because the error terms increase as the number of friends increase, due in this case to the hidden relationship with work hours\n",
    "  - This is known as [*heteroskedacity*](http://www.statsmakemecry.com/smmctheblog/confusing-stats-terms-explained-heteroscedasticity-heteroske.html), and can be explained visually here:\n",
    "    - ![heteroskedatic data](https://upload.wikimedia.org/wikipedia/en/thumb/5/5d/Hsked_residual_compare.svg/1024px-Hsked_residual_compare.svg.png)\n",
    "    \n",
    "  - When data is *heteroskedatic* we get a biased estimate of $\\beta$ with respect to the feature(s) correlated with $\\epsilon$"
   ]
  },
  {
   "cell_type": "markdown",
   "metadata": {},
   "source": [
    "### Fitting the Model\n",
    "\n",
    "We will again fit by minimizing mean squared error\n"
   ]
  },
  {
   "cell_type": "code",
   "execution_count": 3,
   "metadata": {},
   "outputs": [],
   "source": [
    "def error(x: Vector, y: float, beta: Vector) -> float:\n",
    "    \"\"\"\n",
    "    with a prediction defined by x * beta, return the error w.r.t the true value y\n",
    "    \"\"\"\n",
    "    return predict(x, beta) - y\n",
    "\n",
    "\n",
    "def squared_error(x: Vector, y: float, beta: Vector) -> float:\n",
    "    \"\"\"\n",
    "    with a prediction defined by x * beta, return the squared error w.r.t the true value y\n",
    "    \"\"\"\n",
    "    return error(x, y, beta) ** 2\n",
    "\n",
    "\n",
    "def sq_error_gradient(x: Vector, y: float, beta: Vector) -> Vector:\n",
    "    \"\"\"\n",
    "    For each input in x, return the gradient with respect to that input for a squared-error loss\n",
    "    \"\"\"\n",
    "    err: float = error(x, y, beta)\n",
    "    return [2 * err * x_i for x_i in x]\n",
    "\n",
    "def _grad_step(beta: Vector, grad: Vector, lr: float = 10**-3) -> Vector:\n",
    "    # repeating this to check my knowledge of the gradient update\n",
    "    update: Vector = scalar_multiply(-1 * lr, grad)\n",
    "    return vector_sum([beta, update])\n",
    "\n",
    "x = [1, 2, 3]\n",
    "y = 30\n",
    "beta = [4, 4, 4]\n",
    "assert error(x, y, beta) == -6  # (4 + 8 + 12) - 30 = -6\n",
    "assert squared_error(x, y, beta) == 36  # ((4 + 8 + 12) - 30)**2 = 36\n",
    "assert sq_error_gradient(x, y, beta) == [-12, -24, -36]  # -6 * 2 * 1 ...\n",
    "assert _grad_step(beta, sq_error_gradient(x, y, beta), lr=.01) == [4.12, 4.24, 4.36]\n",
    "assert gradient_step(beta, sq_error_gradient(x, y, beta), -1 * .01) == [4.12, 4.24, 4.36]"
   ]
  },
  {
   "cell_type": "code",
   "execution_count": 4,
   "metadata": {},
   "outputs": [],
   "source": [
    "def least_squares_fit(xs: List[Vector], ys: List[Vector], lr:float = 10**-3, num_steps: int = 1000, batch_size: int = 1) -> Vector:\n",
    "    \"\"\"\n",
    "    For the given inputs (`xs`) and outputs (`ys`), find the parameters (`beta`) that provide the best fit \n",
    "    via multiple regression. Performs `num_steps` gradient descent steps with batch sizes of `batch_size` \n",
    "    and a learning rate of `lr`.\n",
    "    \"\"\"\n",
    "    # paired = list(zip(xs, ys))\n",
    "    # random.shuffle(paired)  doing this seems correct and exerimentally valid, but gets slightly worse results than the\n",
    "    # book. Maybe the book has well-selected hyper parameters?\n",
    "    # xs, ys = zip(*paired)\n",
    "    beta = [random.random() for r in range(0, len(xs[0]))]\n",
    "    for _ in tqdm.trange(num_steps, desc=\"least squares fit\"):\n",
    "        for start in range(0, len(xs), batch_size):\n",
    "            # prepare a batch\n",
    "            batch_xs = xs[start:start + batch_size]\n",
    "            batch_ys = ys[start:start + batch_size]\n",
    "            # compute an average gradient across the batch\n",
    "            grads = [sq_error_gradient(x, y, beta) for (x, y) in zip(batch_xs, batch_ys)]\n",
    "            avg_grad: Vector = vector_mean(grads)\n",
    "            # update beta according to the gradient\n",
    "            beta = gradient_step(beta, avg_grad, lr * -1)  # by negative one b/c we are minimizing\n",
    "    return beta\n",
    "\n",
    "\n",
    "            \n",
    "            \n",
    "            \n",
    "\n",
    "    "
   ]
  },
  {
   "cell_type": "code",
   "execution_count": 5,
   "metadata": {},
   "outputs": [
    {
     "name": "stderr",
     "output_type": "stream",
     "text": [
      "least squares fit: 100%|██████████| 5000/5000 [00:03<00:00, 1521.51it/s]"
     ]
    },
    {
     "name": "stdout",
     "output_type": "stream",
     "text": [
      "[30.51473922791934, 0.9748304586429777, -1.850689215018137, 0.9141219850728525]\n"
     ]
    },
    {
     "name": "stderr",
     "output_type": "stream",
     "text": [
      "\n"
     ]
    }
   ],
   "source": [
    "# stolen from: https://github.com/joelgrus/data-science-from-scratch/blob/master/scratch/multiple_regression.py\n",
    "# [1 for bias, num friends, work hours per day, has PhD]\n",
    "inputs: List[List[float]] = [[1.,49,4,0],[1,41,9,0],[1,40,8,0],[1,25,6,0],[1,21,1,0],[1,21,0,0],[1,19,3,0],[1,19,0,0],[1,18,9,0],[1,18,8,0],[1,16,4,0],[1,15,3,0],[1,15,0,0],[1,15,2,0],[1,15,7,0],[1,14,0,0],[1,14,1,0],[1,13,1,0],[1,13,7,0],[1,13,4,0],[1,13,2,0],[1,12,5,0],[1,12,0,0],[1,11,9,0],[1,10,9,0],[1,10,1,0],[1,10,1,0],[1,10,7,0],[1,10,9,0],[1,10,1,0],[1,10,6,0],[1,10,6,0],[1,10,8,0],[1,10,10,0],[1,10,6,0],[1,10,0,0],[1,10,5,0],[1,10,3,0],[1,10,4,0],[1,9,9,0],[1,9,9,0],[1,9,0,0],[1,9,0,0],[1,9,6,0],[1,9,10,0],[1,9,8,0],[1,9,5,0],[1,9,2,0],[1,9,9,0],[1,9,10,0],[1,9,7,0],[1,9,2,0],[1,9,0,0],[1,9,4,0],[1,9,6,0],[1,9,4,0],[1,9,7,0],[1,8,3,0],[1,8,2,0],[1,8,4,0],[1,8,9,0],[1,8,2,0],[1,8,3,0],[1,8,5,0],[1,8,8,0],[1,8,0,0],[1,8,9,0],[1,8,10,0],[1,8,5,0],[1,8,5,0],[1,7,5,0],[1,7,5,0],[1,7,0,0],[1,7,2,0],[1,7,8,0],[1,7,10,0],[1,7,5,0],[1,7,3,0],[1,7,3,0],[1,7,6,0],[1,7,7,0],[1,7,7,0],[1,7,9,0],[1,7,3,0],[1,7,8,0],[1,6,4,0],[1,6,6,0],[1,6,4,0],[1,6,9,0],[1,6,0,0],[1,6,1,0],[1,6,4,0],[1,6,1,0],[1,6,0,0],[1,6,7,0],[1,6,0,0],[1,6,8,0],[1,6,4,0],[1,6,2,1],[1,6,1,1],[1,6,3,1],[1,6,6,1],[1,6,4,1],[1,6,4,1],[1,6,1,1],[1,6,3,1],[1,6,4,1],[1,5,1,1],[1,5,9,1],[1,5,4,1],[1,5,6,1],[1,5,4,1],[1,5,4,1],[1,5,10,1],[1,5,5,1],[1,5,2,1],[1,5,4,1],[1,5,4,1],[1,5,9,1],[1,5,3,1],[1,5,10,1],[1,5,2,1],[1,5,2,1],[1,5,9,1],[1,4,8,1],[1,4,6,1],[1,4,0,1],[1,4,10,1],[1,4,5,1],[1,4,10,1],[1,4,9,1],[1,4,1,1],[1,4,4,1],[1,4,4,1],[1,4,0,1],[1,4,3,1],[1,4,1,1],[1,4,3,1],[1,4,2,1],[1,4,4,1],[1,4,4,1],[1,4,8,1],[1,4,2,1],[1,4,4,1],[1,3,2,1],[1,3,6,1],[1,3,4,1],[1,3,7,1],[1,3,4,1],[1,3,1,1],[1,3,10,1],[1,3,3,1],[1,3,4,1],[1,3,7,1],[1,3,5,1],[1,3,6,1],[1,3,1,1],[1,3,6,1],[1,3,10,1],[1,3,2,1],[1,3,4,1],[1,3,2,1],[1,3,1,1],[1,3,5,1],[1,2,4,1],[1,2,2,1],[1,2,8,1],[1,2,3,1],[1,2,1,1],[1,2,9,1],[1,2,10,1],[1,2,9,1],[1,2,4,1],[1,2,5,1],[1,2,0,1],[1,2,9,1],[1,2,9,1],[1,2,0,1],[1,2,1,1],[1,2,1,1],[1,2,4,1],[1,1,0,1],[1,1,2,1],[1,1,2,1],[1,1,5,1],[1,1,3,1],[1,1,10,1],[1,1,6,1],[1,1,0,1],[1,1,8,1],[1,1,6,1],[1,1,4,1],[1,1,9,1],[1,1,9,1],[1,1,4,1],[1,1,2,1],[1,1,9,1],[1,1,0,1],[1,1,8,1],[1,1,6,1],[1,1,1,1],[1,1,1,1],[1,1,5,1]]\n",
    "num_friends = [100.0,49,41,40,25,21,21,19,19,18,18,16,15,15,15,15,14,14,13,13,13,13,12,12,11,10,10,10,10,10,10,10,10,10,10,10,10,10,10,10,9,9,9,9,9,9,9,9,9,9,9,9,9,9,9,9,9,9,8,8,8,8,8,8,8,8,8,8,8,8,8,7,7,7,7,7,7,7,7,7,7,7,7,7,7,7,6,6,6,6,6,6,6,6,6,6,6,6,6,6,6,6,6,6,6,6,6,6,5,5,5,5,5,5,5,5,5,5,5,5,5,5,5,5,5,4,4,4,4,4,4,4,4,4,4,4,4,4,4,4,4,4,4,4,4,3,3,3,3,3,3,3,3,3,3,3,3,3,3,3,3,3,3,3,3,2,2,2,2,2,2,2,2,2,2,2,2,2,2,2,2,2,1,1,1,1,1,1,1,1,1,1,1,1,1,1,1,1,1,1,1,1,1,1]\n",
    "\n",
    "outlier = num_friends.index(100)\n",
    "daily_minutes = [1,68.77,51.25,52.08,38.36,44.54,57.13,51.4,41.42,31.22,34.76,54.01,38.79,47.59,49.1,27.66,41.03,36.73,48.65,28.12,46.62,35.57,32.98,35,26.07,23.77,39.73,40.57,31.65,31.21,36.32,20.45,21.93,26.02,27.34,23.49,46.94,30.5,33.8,24.23,21.4,27.94,32.24,40.57,25.07,19.42,22.39,18.42,46.96,23.72,26.41,26.97,36.76,40.32,35.02,29.47,30.2,31,38.11,38.18,36.31,21.03,30.86,36.07,28.66,29.08,37.28,15.28,24.17,22.31,30.17,25.53,19.85,35.37,44.6,17.23,13.47,26.33,35.02,32.09,24.81,19.33,28.77,24.26,31.98,25.73,24.86,16.28,34.51,15.23,39.72,40.8,26.06,35.76,34.76,16.13,44.04,18.03,19.65,32.62,35.59,39.43,14.18,35.24,40.13,41.82,35.45,36.07,43.67,24.61,20.9,21.9,18.79,27.61,27.21,26.61,29.77,20.59,27.53,13.82,33.2,25,33.1,36.65,18.63,14.87,22.2,36.81,25.53,24.62,26.25,18.21,28.08,19.42,29.79,32.8,35.99,28.32,27.79,35.88,29.06,36.28,14.1,36.63,37.49,26.9,18.58,38.48,24.48,18.95,33.55,14.24,29.04,32.51,25.63,22.22,19,32.73,15.16,13.9,27.2,32.01,29.27,33,13.74,20.42,27.32,18.23,35.35,28.48,9.08,24.62,20.12,35.26,19.92,31.02,16.49,12.16,30.7,31.22,34.65,13.13,27.51,33.2,31.57,14.1,33.42,17.44,10.12,24.42,9.82,23.39,30.93,15.03,21.67,31.09,33.29,22.61,26.89,23.48,8.38,27.81,32.35,23.84]\n",
    "# index of outlier\n",
    "daily_minutes_good = [x\n",
    "                      for i, x in enumerate(daily_minutes)\n",
    "                      if i != outlier]\n",
    "beta = least_squares_fit(inputs, daily_minutes_good, lr=10**-3, num_steps=5000, batch_size=25)\n",
    "print(beta)\n",
    "assert 30.5 < beta[0] < 30.70 # constant\n",
    "assert 0.96 < beta[1] < 1.0 # nun friends\n",
    "assert -1.89 < beta[2] < -1.85 # work hours daily\n",
    "assert .91 < beta[3] < .94 # has phd\n"
   ]
  },
  {
   "cell_type": "markdown",
   "metadata": {},
   "source": [
    "### Goodness of Fit\n",
    "\n",
    "To assess goodness of fit, we can again look at R-squared\n"
   ]
  },
  {
   "cell_type": "code",
   "execution_count": 6,
   "metadata": {},
   "outputs": [],
   "source": [
    "def multiple_r_squared(xs: List[Vector], ys: Vector, beta: Vector) -> float:\n",
    "    \"\"\"\n",
    "    Given the dataset and a vector beta of parameters, return the R-squared value for how well the `beta` \n",
    "    \"\"\"\n",
    "    explained_y_variance = total_sum_of_squares(ys)\n",
    "    predicted_y_variance = total_sum_of_squares([predict(x, beta) for x in xs])\n",
    "    return predicted_y_variance / explained_y_variance\n",
    "assert 0.67 < multiple_r_squared(inputs, daily_minutes_good, beta) < 0.68\n"
   ]
  },
  {
   "cell_type": "markdown",
   "metadata": {},
   "source": [
    "Unfortunately, R-squared is not a fair comparison between multiple regression and simple regression (or even multiple with less features/independent variables): because the lesser feature forms are just special cases of multiple with particular features having a coefficient of zero, the multiple regression case is necessarily equal to or better than any fewer-feature counterpart. \n",
    "\n",
    "The correct thing to look at, in determining whether a given feature/independent variable has value in the regression is to look at the *standard errors of the coefficients*: we assume error terms are generated from a normal distribution with mean zero and some constant unknown standard deviation. We aren't equipped to actually calc this with the pieces we have so far, but here's a wiki: [https://en.wikipedia.org/wiki/Standard_error](https://en.wikipedia.org/wiki/Standard_error)"
   ]
  },
  {
   "cell_type": "markdown",
   "metadata": {},
   "source": [
    "#### Digression: The Bootstrap\n",
    "\n",
    "Problem: we want to understand a statistic (e.g. median) about a sample, and understand how well it represents the data set as a whole. In the case that data is multi-modal, we shouldn't be as confident in a median since it is likely to switch between modes. How can we detect multi-modal-ness when we can't easily inspect the data? \n",
    "\n",
    "For a median, if we could continue to sample from the distribution we'd see that it varies, indicating the data isn't actually centered around a given point. For most meaningful datasets though, we can't generate new data cheaply or even at all.\n",
    "\n",
    "**Bootstrap**: To address this, we can sub-sample our sample with replacement to generate new datasets as proxies, this being called a bootstrap. In this case, it might often make sense to generate a sub-sample equivalent in size to our sample"
   ]
  },
  {
   "cell_type": "code",
   "execution_count": 7,
   "metadata": {},
   "outputs": [],
   "source": [
    "X = TypeVar('X')\n",
    "Stat = TypeVar('Stat')\n",
    "\n",
    "def bootstrap_sample(xs: List[X]) -> List[X]:\n",
    "    \"\"\"\n",
    "    Sample a dataset with replacement to get a sub-sample\n",
    "    \"\"\"\n",
    "    return [random.choice(xs) for _ in xs]\n",
    "\n",
    "def bootstrap_statistic(xs: List[X], stats_fn: Callable[[List[X]], Stat], num_samples: int) -> List[Stat]:\n",
    "    \"\"\"\n",
    "    evaluates stats_fn on num_samples bootstrap samples of xs\n",
    "    \"\"\"\n",
    "    return [stats_fn(bootstrap_sample(xs)) for _ in range(num_samples)]"
   ]
  },
  {
   "cell_type": "code",
   "execution_count": 8,
   "metadata": {},
   "outputs": [],
   "source": [
    "# Example, 101 points from normal distribution between 99.5 - 100.5\n",
    "get_point: Callable[[float], float] = lambda m: random.random() + m - 0.5  # return a point very close to m, mean=m\n",
    "close_to_100 = [get_point(100.) for _ in range(101)]\n",
    "# 101 points, 1 near 100, 50 near 0, 50 near 200\n",
    "far_from_100 = [get_point(100)] + [get_point(0) for _ in range(50)] + [get_point(200) for _ in range(50)]"
   ]
  },
  {
   "cell_type": "code",
   "execution_count": 9,
   "metadata": {},
   "outputs": [
    {
     "data": {
      "text/plain": [
       "(100.0456340095041, 100.37701067057527)"
      ]
     },
     "execution_count": 9,
     "metadata": {},
     "output_type": "execute_result"
    }
   ],
   "source": [
    "# Note: both are very close to 100, but the datasets are very different\n",
    "assert abs(median(close_to_100) - median(far_from_100)) < 1.\n",
    "median(close_to_100), median(far_from_100)"
   ]
  },
  {
   "cell_type": "code",
   "execution_count": 10,
   "metadata": {},
   "outputs": [
    {
     "data": {
      "text/plain": [
       "(0.3093108526176894, 100.03855781880351)"
      ]
     },
     "execution_count": 10,
     "metadata": {},
     "output_type": "execute_result"
    }
   ],
   "source": [
    "# to be fair, the global standard deviations make this obvious, but this is a toy example\n",
    "assert abs(standard_deviation(close_to_100) - standard_deviation(far_from_100)) > 90.\n",
    "standard_deviation(close_to_100), standard_deviation(far_from_100)"
   ]
  },
  {
   "cell_type": "code",
   "execution_count": 11,
   "metadata": {},
   "outputs": [],
   "source": [
    "# we can also detect this with bootstrapping though:\n",
    "medians_close = bootstrap_statistic(close_to_100, median, 100)\n",
    "medians_far = bootstrap_statistic(far_from_100, median, 100)\n",
    "\n",
    "assert standard_deviation(medians_close) < 1\n",
    "assert standard_deviation(medians_far) > 90"
   ]
  },
  {
   "cell_type": "markdown",
   "metadata": {},
   "source": [
    "While the above example could be discovered with manual inspection or global statistics like `standard_deviation`, presumably there are cases where this won't be true, and bootstrapping might provide insights that can't be gathered from statistics over the initial dataset"
   ]
  },
  {
   "cell_type": "markdown",
   "metadata": {},
   "source": [
    "#### Standard Errors of Regression Coefficients\n",
    "\n",
    "While we dont have the linear algebra setup to actually compute the standard errors as previously described, we can estimate them using bootstrapping:\n",
    "1. Generate a bootstrapped version of of dataset (xs, ys)\n",
    "2. Estimate beta using the bootstrapped data\n",
    "3. For coefficients that vary significantly across bootstraps, we should lack confidence in our estimation of that parameter. For coefficients that remain close across bootstraps, we can be confident in a good estimate"
   ]
  },
  {
   "cell_type": "code",
   "execution_count": 12,
   "metadata": {},
   "outputs": [],
   "source": [
    "def estimate_sample_beta(pairs: List[Tuple[Vector, float]]) -> Vector:\n",
    "    \"\"\"\n",
    "    estimate beta for a given sample of the dataset\n",
    "    \"\"\"\n",
    "    # xs, ys = zip(*pairs)  # split sample into xs, ys\n",
    "    xs = [x for x, _ in pairs]\n",
    "    ys = [y for _, y in pairs]\n",
    "    beta = least_squares_fit(xs, ys, 10**-3, 5000, 25)\n",
    "    print('Beta sample', beta)\n",
    "    return beta"
   ]
  },
  {
   "cell_type": "code",
   "execution_count": 13,
   "metadata": {},
   "outputs": [
    {
     "name": "stderr",
     "output_type": "stream",
     "text": [
      "least squares fit: 100%|██████████| 5000/5000 [00:03<00:00, 1500.56it/s]\n",
      "least squares fit:   3%|▎         | 153/5000 [00:00<00:03, 1523.49it/s]"
     ]
    },
    {
     "name": "stdout",
     "output_type": "stream",
     "text": [
      "Beta sample [30.49402029547432, 1.0393791030498776, -1.9516851948558502, 0.7483721251697328]\n"
     ]
    },
    {
     "name": "stderr",
     "output_type": "stream",
     "text": [
      "least squares fit: 100%|██████████| 5000/5000 [00:03<00:00, 1510.87it/s]\n",
      "least squares fit:   6%|▌         | 306/5000 [00:00<00:03, 1519.05it/s]"
     ]
    },
    {
     "name": "stdout",
     "output_type": "stream",
     "text": [
      "Beta sample [30.149963287526045, 1.0005300432763113, -2.0650380122822543, 3.177179854834797]\n"
     ]
    },
    {
     "name": "stderr",
     "output_type": "stream",
     "text": [
      "least squares fit: 100%|██████████| 5000/5000 [00:03<00:00, 1502.44it/s]\n",
      "least squares fit:   3%|▎         | 152/5000 [00:00<00:03, 1511.44it/s]"
     ]
    },
    {
     "name": "stdout",
     "output_type": "stream",
     "text": [
      "Beta sample [29.20282689769373, 1.001708995637621, -1.5294248424787371, 0.9528580285760815]\n"
     ]
    },
    {
     "name": "stderr",
     "output_type": "stream",
     "text": [
      "least squares fit: 100%|██████████| 5000/5000 [00:03<00:00, 1517.98it/s]\n",
      "least squares fit:   3%|▎         | 152/5000 [00:00<00:03, 1513.51it/s]"
     ]
    },
    {
     "name": "stdout",
     "output_type": "stream",
     "text": [
      "Beta sample [31.29481217471851, 0.9592647294941011, -1.9120875473727548, 0.039471107599519176]\n"
     ]
    },
    {
     "name": "stderr",
     "output_type": "stream",
     "text": [
      "least squares fit: 100%|██████████| 5000/5000 [00:03<00:00, 1512.53it/s]\n",
      "least squares fit:   6%|▌         | 307/5000 [00:00<00:03, 1527.49it/s]"
     ]
    },
    {
     "name": "stdout",
     "output_type": "stream",
     "text": [
      "Beta sample [32.12414422794996, 0.8569794405277465, -1.993677052075409, 1.041694313137299]\n"
     ]
    },
    {
     "name": "stderr",
     "output_type": "stream",
     "text": [
      "least squares fit: 100%|██████████| 5000/5000 [00:03<00:00, 1518.16it/s]\n",
      "least squares fit:   6%|▌         | 304/5000 [00:00<00:03, 1514.18it/s]"
     ]
    },
    {
     "name": "stdout",
     "output_type": "stream",
     "text": [
      "Beta sample [31.869199445309604, 0.7748022870492417, -2.008762570287645, -1.2407036547656678]\n"
     ]
    },
    {
     "name": "stderr",
     "output_type": "stream",
     "text": [
      "least squares fit: 100%|██████████| 5000/5000 [00:03<00:00, 1520.90it/s]\n",
      "least squares fit:   6%|▌         | 302/5000 [00:00<00:03, 1513.16it/s]"
     ]
    },
    {
     "name": "stdout",
     "output_type": "stream",
     "text": [
      "Beta sample [31.08119759650208, 0.998386254386918, -1.9833984114987815, 0.9567646217580389]\n"
     ]
    },
    {
     "name": "stderr",
     "output_type": "stream",
     "text": [
      "least squares fit: 100%|██████████| 5000/5000 [00:03<00:00, 1516.38it/s]\n",
      "least squares fit:   6%|▌         | 310/5000 [00:00<00:03, 1532.95it/s]"
     ]
    },
    {
     "name": "stdout",
     "output_type": "stream",
     "text": [
      "Beta sample [29.254530450577782, 0.9763387220017684, -1.7430339427043595, 1.9944240584590933]\n"
     ]
    },
    {
     "name": "stderr",
     "output_type": "stream",
     "text": [
      "least squares fit: 100%|██████████| 5000/5000 [00:03<00:00, 1513.06it/s]\n",
      "least squares fit:   3%|▎         | 153/5000 [00:00<00:03, 1525.60it/s]"
     ]
    },
    {
     "name": "stdout",
     "output_type": "stream",
     "text": [
      "Beta sample [31.649174199331636, 0.9389340937491031, -1.9733848473304214, -0.1524928796934945]\n"
     ]
    },
    {
     "name": "stderr",
     "output_type": "stream",
     "text": [
      "least squares fit: 100%|██████████| 5000/5000 [00:03<00:00, 1510.25it/s]\n",
      "least squares fit:   6%|▌         | 303/5000 [00:00<00:03, 1508.24it/s]"
     ]
    },
    {
     "name": "stdout",
     "output_type": "stream",
     "text": [
      "Beta sample [30.04010926072097, 1.053124738642157, -1.7694878560354395, 1.302971911084245]\n"
     ]
    },
    {
     "name": "stderr",
     "output_type": "stream",
     "text": [
      "least squares fit: 100%|██████████| 5000/5000 [00:03<00:00, 1500.49it/s]\n",
      "least squares fit:   3%|▎         | 151/5000 [00:00<00:03, 1507.63it/s]"
     ]
    },
    {
     "name": "stdout",
     "output_type": "stream",
     "text": [
      "Beta sample [29.06692705472129, 1.2792640005590377, -1.9373399049478555, 0.9183668519320886]\n"
     ]
    },
    {
     "name": "stderr",
     "output_type": "stream",
     "text": [
      "least squares fit: 100%|██████████| 5000/5000 [00:03<00:00, 1504.32it/s]\n",
      "least squares fit:   3%|▎         | 152/5000 [00:00<00:03, 1515.16it/s]"
     ]
    },
    {
     "name": "stdout",
     "output_type": "stream",
     "text": [
      "Beta sample [31.740476303331718, 0.9538879291586574, -2.0689725879612477, 1.4785830120835615]\n"
     ]
    },
    {
     "name": "stderr",
     "output_type": "stream",
     "text": [
      "least squares fit: 100%|██████████| 5000/5000 [00:03<00:00, 1507.54it/s]\n",
      "least squares fit:   3%|▎         | 151/5000 [00:00<00:03, 1501.68it/s]"
     ]
    },
    {
     "name": "stdout",
     "output_type": "stream",
     "text": [
      "Beta sample [29.46654084062671, 0.9837739845117637, -1.9915052407093472, 3.150029950640157]\n"
     ]
    },
    {
     "name": "stderr",
     "output_type": "stream",
     "text": [
      "least squares fit: 100%|██████████| 5000/5000 [00:03<00:00, 1509.80it/s]\n",
      "least squares fit:   3%|▎         | 150/5000 [00:00<00:03, 1498.41it/s]"
     ]
    },
    {
     "name": "stdout",
     "output_type": "stream",
     "text": [
      "Beta sample [30.97515705531374, 0.9420086669374395, -2.0367671746636065, 0.6323599067111713]\n"
     ]
    },
    {
     "name": "stderr",
     "output_type": "stream",
     "text": [
      "least squares fit: 100%|██████████| 5000/5000 [00:03<00:00, 1505.36it/s]\n",
      "least squares fit:   3%|▎         | 151/5000 [00:00<00:03, 1508.22it/s]"
     ]
    },
    {
     "name": "stdout",
     "output_type": "stream",
     "text": [
      "Beta sample [31.47877812816399, 0.8623617407485806, -1.8798782324632364, -0.11949170941208616]\n"
     ]
    },
    {
     "name": "stderr",
     "output_type": "stream",
     "text": [
      "least squares fit: 100%|██████████| 5000/5000 [00:03<00:00, 1499.54it/s]\n",
      "least squares fit:   3%|▎         | 151/5000 [00:00<00:03, 1504.90it/s]"
     ]
    },
    {
     "name": "stdout",
     "output_type": "stream",
     "text": [
      "Beta sample [33.87286992682308, 0.8824018752321863, -1.8978803929581156, -1.0333647107478692]\n"
     ]
    },
    {
     "name": "stderr",
     "output_type": "stream",
     "text": [
      "least squares fit: 100%|██████████| 5000/5000 [00:03<00:00, 1504.91it/s]\n",
      "least squares fit:   3%|▎         | 152/5000 [00:00<00:03, 1517.95it/s]"
     ]
    },
    {
     "name": "stdout",
     "output_type": "stream",
     "text": [
      "Beta sample [29.272206898314995, 1.0899411603739344, -1.8911943299601006, 3.162677841885803]\n"
     ]
    },
    {
     "name": "stderr",
     "output_type": "stream",
     "text": [
      "least squares fit: 100%|██████████| 5000/5000 [00:03<00:00, 1510.21it/s]\n",
      "least squares fit:   6%|▌         | 302/5000 [00:00<00:03, 1506.41it/s]"
     ]
    },
    {
     "name": "stdout",
     "output_type": "stream",
     "text": [
      "Beta sample [30.83577809561691, 1.0242186355671825, -1.9209251081222491, 1.338379513362095]\n"
     ]
    },
    {
     "name": "stderr",
     "output_type": "stream",
     "text": [
      "least squares fit: 100%|██████████| 5000/5000 [00:03<00:00, 1514.30it/s]\n",
      "least squares fit:   3%|▎         | 151/5000 [00:00<00:03, 1507.38it/s]"
     ]
    },
    {
     "name": "stdout",
     "output_type": "stream",
     "text": [
      "Beta sample [28.211162672015906, 1.458352440392638, -1.70241171517105, 0.9452040151872603]\n"
     ]
    },
    {
     "name": "stderr",
     "output_type": "stream",
     "text": [
      "least squares fit: 100%|██████████| 5000/5000 [00:03<00:00, 1512.48it/s]\n",
      "least squares fit:   6%|▌         | 302/5000 [00:00<00:03, 1508.10it/s]"
     ]
    },
    {
     "name": "stdout",
     "output_type": "stream",
     "text": [
      "Beta sample [29.935523360560747, 0.9470529669956467, -1.8491245571618216, 0.8573641103651948]\n"
     ]
    },
    {
     "name": "stderr",
     "output_type": "stream",
     "text": [
      "least squares fit: 100%|██████████| 5000/5000 [00:03<00:00, 1507.13it/s]\n",
      "least squares fit:   3%|▎         | 150/5000 [00:00<00:03, 1493.28it/s]"
     ]
    },
    {
     "name": "stdout",
     "output_type": "stream",
     "text": [
      "Beta sample [30.636052325886, 0.9966176913889682, -1.8308401560119625, 0.13862673979220874]\n"
     ]
    },
    {
     "name": "stderr",
     "output_type": "stream",
     "text": [
      "least squares fit: 100%|██████████| 5000/5000 [00:03<00:00, 1502.52it/s]\n",
      "least squares fit:   3%|▎         | 152/5000 [00:00<00:03, 1513.27it/s]"
     ]
    },
    {
     "name": "stdout",
     "output_type": "stream",
     "text": [
      "Beta sample [30.85594531112938, 0.9925731301194985, -1.8348135093555482, 1.9711641797749972]\n"
     ]
    },
    {
     "name": "stderr",
     "output_type": "stream",
     "text": [
      "least squares fit: 100%|██████████| 5000/5000 [00:03<00:00, 1509.97it/s]\n",
      "least squares fit:   3%|▎         | 153/5000 [00:00<00:03, 1522.60it/s]"
     ]
    },
    {
     "name": "stdout",
     "output_type": "stream",
     "text": [
      "Beta sample [29.772267283706082, 1.0493381798575805, -1.6999309651266667, 0.9221651877575124]\n"
     ]
    },
    {
     "name": "stderr",
     "output_type": "stream",
     "text": [
      "least squares fit: 100%|██████████| 5000/5000 [00:03<00:00, 1510.76it/s]\n",
      "least squares fit:   6%|▌         | 308/5000 [00:00<00:03, 1532.44it/s]"
     ]
    },
    {
     "name": "stdout",
     "output_type": "stream",
     "text": [
      "Beta sample [28.784700358217748, 0.9629668755117147, -1.7818333154132007, 1.9051703206760768]\n"
     ]
    },
    {
     "name": "stderr",
     "output_type": "stream",
     "text": [
      "least squares fit: 100%|██████████| 5000/5000 [00:03<00:00, 1509.61it/s]\n",
      "least squares fit:   3%|▎         | 152/5000 [00:00<00:03, 1513.82it/s]"
     ]
    },
    {
     "name": "stdout",
     "output_type": "stream",
     "text": [
      "Beta sample [31.769457992268443, 0.9040180814550004, -1.867677593282121, -0.7957987643064021]\n"
     ]
    },
    {
     "name": "stderr",
     "output_type": "stream",
     "text": [
      "least squares fit: 100%|██████████| 5000/5000 [00:03<00:00, 1502.20it/s]\n",
      "least squares fit:   3%|▎         | 154/5000 [00:00<00:03, 1530.85it/s]"
     ]
    },
    {
     "name": "stdout",
     "output_type": "stream",
     "text": [
      "Beta sample [30.06836087625883, 0.9237365767889174, -1.7326788050658604, 1.904438151251751]\n"
     ]
    },
    {
     "name": "stderr",
     "output_type": "stream",
     "text": [
      "least squares fit: 100%|██████████| 5000/5000 [00:03<00:00, 1502.05it/s]\n",
      "least squares fit:   3%|▎         | 152/5000 [00:00<00:03, 1515.08it/s]"
     ]
    },
    {
     "name": "stdout",
     "output_type": "stream",
     "text": [
      "Beta sample [29.248924522774868, 1.0251706036709456, -1.6396068581125105, 1.7875039505127934]\n"
     ]
    },
    {
     "name": "stderr",
     "output_type": "stream",
     "text": [
      "least squares fit: 100%|██████████| 5000/5000 [00:03<00:00, 1493.39it/s]\n",
      "least squares fit:   3%|▎         | 154/5000 [00:00<00:03, 1530.68it/s]"
     ]
    },
    {
     "name": "stdout",
     "output_type": "stream",
     "text": [
      "Beta sample [26.16039041855174, 1.3566609275406476, -1.8807310983821037, 3.8849468162722185]\n"
     ]
    },
    {
     "name": "stderr",
     "output_type": "stream",
     "text": [
      "least squares fit: 100%|██████████| 5000/5000 [00:03<00:00, 1487.64it/s]\n",
      "least squares fit:   3%|▎         | 154/5000 [00:00<00:03, 1538.91it/s]"
     ]
    },
    {
     "name": "stdout",
     "output_type": "stream",
     "text": [
      "Beta sample [31.970882303486896, 0.8717159490168254, -1.8037586194211699, -0.23788897755135327]\n"
     ]
    },
    {
     "name": "stderr",
     "output_type": "stream",
     "text": [
      "least squares fit: 100%|██████████| 5000/5000 [00:03<00:00, 1510.12it/s]\n",
      "least squares fit:   3%|▎         | 150/5000 [00:00<00:03, 1499.01it/s]"
     ]
    },
    {
     "name": "stdout",
     "output_type": "stream",
     "text": [
      "Beta sample [30.580903591168784, 0.961071159885619, -1.8984859248085817, -0.002318739578270111]\n"
     ]
    },
    {
     "name": "stderr",
     "output_type": "stream",
     "text": [
      "least squares fit: 100%|██████████| 5000/5000 [00:03<00:00, 1514.00it/s]\n",
      "least squares fit:   3%|▎         | 147/5000 [00:00<00:03, 1465.53it/s]"
     ]
    },
    {
     "name": "stdout",
     "output_type": "stream",
     "text": [
      "Beta sample [31.433330253362577, 0.8768141821390377, -1.7328584033279488, -0.10210988051437557]\n"
     ]
    },
    {
     "name": "stderr",
     "output_type": "stream",
     "text": [
      "least squares fit: 100%|██████████| 5000/5000 [00:03<00:00, 1508.82it/s]\n",
      "least squares fit:   6%|▌         | 307/5000 [00:00<00:03, 1534.53it/s]"
     ]
    },
    {
     "name": "stdout",
     "output_type": "stream",
     "text": [
      "Beta sample [30.984236860566938, 1.0361494661429196, -2.2200016449095226, 1.08867498955636]\n"
     ]
    },
    {
     "name": "stderr",
     "output_type": "stream",
     "text": [
      "least squares fit: 100%|██████████| 5000/5000 [00:03<00:00, 1516.71it/s]\n",
      "least squares fit:   3%|▎         | 153/5000 [00:00<00:03, 1522.71it/s]"
     ]
    },
    {
     "name": "stdout",
     "output_type": "stream",
     "text": [
      "Beta sample [29.282376744779416, 1.0858388836439414, -1.74280602847473, 1.4397328297413248]\n"
     ]
    },
    {
     "name": "stderr",
     "output_type": "stream",
     "text": [
      "least squares fit: 100%|██████████| 5000/5000 [00:03<00:00, 1514.07it/s]\n",
      "least squares fit:   6%|▌         | 307/5000 [00:00<00:03, 1534.56it/s]"
     ]
    },
    {
     "name": "stdout",
     "output_type": "stream",
     "text": [
      "Beta sample [30.654600474308594, 0.9454408039075625, -1.7320071301269266, -0.14858621820891377]\n"
     ]
    },
    {
     "name": "stderr",
     "output_type": "stream",
     "text": [
      "least squares fit: 100%|██████████| 5000/5000 [00:03<00:00, 1527.43it/s]\n",
      "least squares fit:   6%|▌         | 309/5000 [00:00<00:03, 1538.75it/s]"
     ]
    },
    {
     "name": "stdout",
     "output_type": "stream",
     "text": [
      "Beta sample [29.11813949683596, 0.8938088016966336, -1.9153563192896763, 2.059834581148941]\n"
     ]
    },
    {
     "name": "stderr",
     "output_type": "stream",
     "text": [
      "least squares fit: 100%|██████████| 5000/5000 [00:03<00:00, 1527.75it/s]\n",
      "least squares fit:   6%|▌         | 307/5000 [00:00<00:03, 1536.29it/s]"
     ]
    },
    {
     "name": "stdout",
     "output_type": "stream",
     "text": [
      "Beta sample [29.954884631959384, 0.9940567914003664, -1.7605085370056384, 1.6096257131696932]\n"
     ]
    },
    {
     "name": "stderr",
     "output_type": "stream",
     "text": [
      "least squares fit: 100%|██████████| 5000/5000 [00:03<00:00, 1523.53it/s]\n",
      "least squares fit:   6%|▌         | 293/5000 [00:00<00:03, 1485.94it/s]"
     ]
    },
    {
     "name": "stdout",
     "output_type": "stream",
     "text": [
      "Beta sample [31.000164842544855, 0.962368315956188, -1.9115208623969564, 0.7473190835230138]\n"
     ]
    },
    {
     "name": "stderr",
     "output_type": "stream",
     "text": [
      "least squares fit: 100%|██████████| 5000/5000 [00:03<00:00, 1516.30it/s]\n",
      "least squares fit:   6%|▌         | 310/5000 [00:00<00:03, 1536.69it/s]"
     ]
    },
    {
     "name": "stdout",
     "output_type": "stream",
     "text": [
      "Beta sample [30.825204744897878, 0.8912590208026672, -1.7704690936074918, 0.7459655949536603]\n"
     ]
    },
    {
     "name": "stderr",
     "output_type": "stream",
     "text": [
      "least squares fit: 100%|██████████| 5000/5000 [00:03<00:00, 1509.50it/s]\n",
      "least squares fit:   3%|▎         | 153/5000 [00:00<00:03, 1528.07it/s]"
     ]
    },
    {
     "name": "stdout",
     "output_type": "stream",
     "text": [
      "Beta sample [29.366136812382027, 1.012558241060829, -1.6182773155952548, 1.017025703754098]\n"
     ]
    },
    {
     "name": "stderr",
     "output_type": "stream",
     "text": [
      "least squares fit: 100%|██████████| 5000/5000 [00:03<00:00, 1501.39it/s]\n",
      "least squares fit:   6%|▌         | 305/5000 [00:00<00:03, 1525.07it/s]"
     ]
    },
    {
     "name": "stdout",
     "output_type": "stream",
     "text": [
      "Beta sample [29.942959701435125, 1.0167217566773745, -1.5621167917565124, -0.10309047639854324]\n"
     ]
    },
    {
     "name": "stderr",
     "output_type": "stream",
     "text": [
      "least squares fit: 100%|██████████| 5000/5000 [00:03<00:00, 1520.06it/s]\n",
      "least squares fit:   3%|▎         | 153/5000 [00:00<00:03, 1529.98it/s]"
     ]
    },
    {
     "name": "stdout",
     "output_type": "stream",
     "text": [
      "Beta sample [29.962898858207343, 1.0652251821283687, -1.9269241476635839, 2.0385736378519947]\n"
     ]
    },
    {
     "name": "stderr",
     "output_type": "stream",
     "text": [
      "least squares fit: 100%|██████████| 5000/5000 [00:03<00:00, 1519.70it/s]\n",
      "least squares fit:   3%|▎         | 153/5000 [00:00<00:03, 1523.15it/s]"
     ]
    },
    {
     "name": "stdout",
     "output_type": "stream",
     "text": [
      "Beta sample [30.525302041791818, 0.9658944102293198, -1.8870631894489638, 0.5367690208128767]\n"
     ]
    },
    {
     "name": "stderr",
     "output_type": "stream",
     "text": [
      "least squares fit: 100%|██████████| 5000/5000 [00:03<00:00, 1515.31it/s]\n",
      "least squares fit:   6%|▌         | 305/5000 [00:00<00:03, 1522.61it/s]"
     ]
    },
    {
     "name": "stdout",
     "output_type": "stream",
     "text": [
      "Beta sample [30.6785320563259, 1.0139828545599132, -1.7817299670979687, 1.6026393229652922]\n"
     ]
    },
    {
     "name": "stderr",
     "output_type": "stream",
     "text": [
      "least squares fit: 100%|██████████| 5000/5000 [00:03<00:00, 1518.89it/s]\n",
      "least squares fit:   6%|▌         | 306/5000 [00:00<00:03, 1522.66it/s]"
     ]
    },
    {
     "name": "stdout",
     "output_type": "stream",
     "text": [
      "Beta sample [30.09073747870904, 1.0047123547747134, -1.9560265455918164, 2.7525942961573495]\n"
     ]
    },
    {
     "name": "stderr",
     "output_type": "stream",
     "text": [
      "least squares fit: 100%|██████████| 5000/5000 [00:03<00:00, 1517.47it/s]\n",
      "least squares fit:   3%|▎         | 153/5000 [00:00<00:03, 1526.67it/s]"
     ]
    },
    {
     "name": "stdout",
     "output_type": "stream",
     "text": [
      "Beta sample [30.937038893678913, 0.9670590611928078, -2.112481160026429, 0.32580456051469886]\n"
     ]
    },
    {
     "name": "stderr",
     "output_type": "stream",
     "text": [
      "least squares fit: 100%|██████████| 5000/5000 [00:03<00:00, 1511.34it/s]\n",
      "least squares fit:   3%|▎         | 154/5000 [00:00<00:03, 1530.83it/s]"
     ]
    },
    {
     "name": "stdout",
     "output_type": "stream",
     "text": [
      "Beta sample [28.78930855900356, 1.1730115746597944, -1.7835138640623005, 3.262315830823615]\n"
     ]
    },
    {
     "name": "stderr",
     "output_type": "stream",
     "text": [
      "least squares fit: 100%|██████████| 5000/5000 [00:03<00:00, 1515.20it/s]\n",
      "least squares fit:   6%|▌         | 306/5000 [00:00<00:03, 1520.94it/s]"
     ]
    },
    {
     "name": "stdout",
     "output_type": "stream",
     "text": [
      "Beta sample [31.14754912309552, 0.9326436111603991, -1.7707952504307622, -1.099359064604309]\n"
     ]
    },
    {
     "name": "stderr",
     "output_type": "stream",
     "text": [
      "least squares fit: 100%|██████████| 5000/5000 [00:03<00:00, 1516.91it/s]\n",
      "least squares fit:   3%|▎         | 153/5000 [00:00<00:03, 1521.72it/s]"
     ]
    },
    {
     "name": "stdout",
     "output_type": "stream",
     "text": [
      "Beta sample [31.813727613195653, 0.9683784085384612, -2.019078886892217, 0.7501206686148619]\n"
     ]
    },
    {
     "name": "stderr",
     "output_type": "stream",
     "text": [
      "least squares fit: 100%|██████████| 5000/5000 [00:03<00:00, 1522.16it/s]\n",
      "least squares fit:   3%|▎         | 155/5000 [00:00<00:03, 1546.29it/s]"
     ]
    },
    {
     "name": "stdout",
     "output_type": "stream",
     "text": [
      "Beta sample [30.22339835323018, 0.9373764744862105, -1.532360716667537, -0.014699940752098871]\n"
     ]
    },
    {
     "name": "stderr",
     "output_type": "stream",
     "text": [
      "least squares fit: 100%|██████████| 5000/5000 [00:03<00:00, 1498.56it/s]\n",
      "least squares fit:   3%|▎         | 155/5000 [00:00<00:03, 1542.38it/s]"
     ]
    },
    {
     "name": "stdout",
     "output_type": "stream",
     "text": [
      "Beta sample [28.017775004448918, 1.0915988787946647, -1.6190191022832503, 2.397154344588121]\n"
     ]
    },
    {
     "name": "stderr",
     "output_type": "stream",
     "text": [
      "least squares fit: 100%|██████████| 5000/5000 [00:03<00:00, 1522.63it/s]\n",
      "least squares fit:   6%|▌         | 305/5000 [00:00<00:03, 1523.61it/s]"
     ]
    },
    {
     "name": "stdout",
     "output_type": "stream",
     "text": [
      "Beta sample [29.342668886496593, 0.9815156932180102, -1.9184777914462314, 1.5482939749639444]\n"
     ]
    },
    {
     "name": "stderr",
     "output_type": "stream",
     "text": [
      "least squares fit: 100%|██████████| 5000/5000 [00:03<00:00, 1518.68it/s]\n",
      "least squares fit:   3%|▎         | 153/5000 [00:00<00:03, 1523.93it/s]"
     ]
    },
    {
     "name": "stdout",
     "output_type": "stream",
     "text": [
      "Beta sample [32.53937166649288, 1.0608839712088858, -2.270468958276872, 0.36815976537615236]\n"
     ]
    },
    {
     "name": "stderr",
     "output_type": "stream",
     "text": [
      "least squares fit: 100%|██████████| 5000/5000 [00:03<00:00, 1517.92it/s]\n",
      "least squares fit:   6%|▌         | 307/5000 [00:00<00:03, 1531.61it/s]"
     ]
    },
    {
     "name": "stdout",
     "output_type": "stream",
     "text": [
      "Beta sample [30.10619849920692, 0.9657134612613775, -1.7191529436530644, -0.626761920722131]\n"
     ]
    },
    {
     "name": "stderr",
     "output_type": "stream",
     "text": [
      "least squares fit: 100%|██████████| 5000/5000 [00:03<00:00, 1517.77it/s]\n",
      "least squares fit:   6%|▌         | 302/5000 [00:00<00:03, 1503.92it/s]"
     ]
    },
    {
     "name": "stdout",
     "output_type": "stream",
     "text": [
      "Beta sample [29.993282359977137, 0.9757399392816419, -1.9767875486880904, 2.0486693648462677]\n"
     ]
    },
    {
     "name": "stderr",
     "output_type": "stream",
     "text": [
      "least squares fit: 100%|██████████| 5000/5000 [00:03<00:00, 1512.69it/s]\n",
      "least squares fit:   3%|▎         | 153/5000 [00:00<00:03, 1521.89it/s]"
     ]
    },
    {
     "name": "stdout",
     "output_type": "stream",
     "text": [
      "Beta sample [30.571136409586924, 1.066488813531558, -1.6618835177744289, -0.19985556821698597]\n"
     ]
    },
    {
     "name": "stderr",
     "output_type": "stream",
     "text": [
      "least squares fit: 100%|██████████| 5000/5000 [00:03<00:00, 1504.86it/s]\n",
      "least squares fit:   3%|▎         | 153/5000 [00:00<00:03, 1522.47it/s]"
     ]
    },
    {
     "name": "stdout",
     "output_type": "stream",
     "text": [
      "Beta sample [30.949009725288196, 0.9597396222139454, -1.9214823753987706, 1.2588550348769432]\n"
     ]
    },
    {
     "name": "stderr",
     "output_type": "stream",
     "text": [
      "least squares fit: 100%|██████████| 5000/5000 [00:03<00:00, 1479.01it/s]\n",
      "least squares fit:   6%|▌         | 302/5000 [00:00<00:03, 1513.17it/s]"
     ]
    },
    {
     "name": "stdout",
     "output_type": "stream",
     "text": [
      "Beta sample [31.887007554673083, 0.9506671496957435, -2.152653973374405, 1.686948650599912]\n"
     ]
    },
    {
     "name": "stderr",
     "output_type": "stream",
     "text": [
      "least squares fit: 100%|██████████| 5000/5000 [00:03<00:00, 1492.58it/s]\n",
      "least squares fit:   6%|▌         | 305/5000 [00:00<00:03, 1518.42it/s]"
     ]
    },
    {
     "name": "stdout",
     "output_type": "stream",
     "text": [
      "Beta sample [29.081704350215187, 1.0495038787355981, -1.6920009023683742, 3.609080049949201]\n"
     ]
    },
    {
     "name": "stderr",
     "output_type": "stream",
     "text": [
      "least squares fit: 100%|██████████| 5000/5000 [00:03<00:00, 1504.09it/s]\n",
      "least squares fit:   3%|▎         | 152/5000 [00:00<00:03, 1510.29it/s]"
     ]
    },
    {
     "name": "stdout",
     "output_type": "stream",
     "text": [
      "Beta sample [31.479546830562978, 1.1296437640969312, -1.8930013630375897, 0.2328971438009535]\n"
     ]
    },
    {
     "name": "stderr",
     "output_type": "stream",
     "text": [
      "least squares fit: 100%|██████████| 5000/5000 [00:03<00:00, 1507.22it/s]\n",
      "least squares fit:   6%|▌         | 303/5000 [00:00<00:03, 1508.55it/s]"
     ]
    },
    {
     "name": "stdout",
     "output_type": "stream",
     "text": [
      "Beta sample [30.61097391280539, 1.0065894319911013, -1.8362432466801035, 0.44993972174552643]\n"
     ]
    },
    {
     "name": "stderr",
     "output_type": "stream",
     "text": [
      "least squares fit: 100%|██████████| 5000/5000 [00:03<00:00, 1506.02it/s]\n",
      "least squares fit:   3%|▎         | 155/5000 [00:00<00:03, 1544.61it/s]"
     ]
    },
    {
     "name": "stdout",
     "output_type": "stream",
     "text": [
      "Beta sample [31.809276954882584, 0.982146973048894, -2.0079596211039266, -0.24113987450502317]\n"
     ]
    },
    {
     "name": "stderr",
     "output_type": "stream",
     "text": [
      "least squares fit: 100%|██████████| 5000/5000 [00:03<00:00, 1499.39it/s]\n",
      "least squares fit:   3%|▎         | 151/5000 [00:00<00:03, 1504.55it/s]"
     ]
    },
    {
     "name": "stdout",
     "output_type": "stream",
     "text": [
      "Beta sample [31.02421085180442, 0.9515774062029448, -1.9408222914617927, 0.6442854716394762]\n"
     ]
    },
    {
     "name": "stderr",
     "output_type": "stream",
     "text": [
      "least squares fit: 100%|██████████| 5000/5000 [00:03<00:00, 1499.73it/s]\n",
      "least squares fit:   3%|▎         | 150/5000 [00:00<00:03, 1494.98it/s]"
     ]
    },
    {
     "name": "stdout",
     "output_type": "stream",
     "text": [
      "Beta sample [28.908141235990033, 1.0556273838810308, -1.7935754991375803, 2.0822669512374334]\n"
     ]
    },
    {
     "name": "stderr",
     "output_type": "stream",
     "text": [
      "least squares fit: 100%|██████████| 5000/5000 [00:03<00:00, 1495.23it/s]\n",
      "least squares fit:   6%|▌         | 303/5000 [00:00<00:03, 1512.34it/s]"
     ]
    },
    {
     "name": "stdout",
     "output_type": "stream",
     "text": [
      "Beta sample [30.025383087071766, 0.9490311032868941, -1.8905462953821097, 1.614968102502848]\n"
     ]
    },
    {
     "name": "stderr",
     "output_type": "stream",
     "text": [
      "least squares fit: 100%|██████████| 5000/5000 [00:03<00:00, 1485.79it/s]\n",
      "least squares fit:   3%|▎         | 153/5000 [00:00<00:03, 1528.92it/s]"
     ]
    },
    {
     "name": "stdout",
     "output_type": "stream",
     "text": [
      "Beta sample [31.344911606937217, 0.9596230552550087, -2.084944019182774, 1.0635864768954957]\n"
     ]
    },
    {
     "name": "stderr",
     "output_type": "stream",
     "text": [
      "least squares fit: 100%|██████████| 5000/5000 [00:03<00:00, 1505.72it/s]\n",
      "least squares fit:   3%|▎         | 154/5000 [00:00<00:03, 1537.22it/s]"
     ]
    },
    {
     "name": "stdout",
     "output_type": "stream",
     "text": [
      "Beta sample [30.88785665879763, 0.9739691303740717, -1.750496781109518, -2.008668458011061]\n"
     ]
    },
    {
     "name": "stderr",
     "output_type": "stream",
     "text": [
      "least squares fit: 100%|██████████| 5000/5000 [00:03<00:00, 1513.07it/s]\n",
      "least squares fit:   3%|▎         | 153/5000 [00:00<00:03, 1525.62it/s]"
     ]
    },
    {
     "name": "stdout",
     "output_type": "stream",
     "text": [
      "Beta sample [30.524172097277884, 0.9468432200060538, -1.7489583214704674, -0.4294754081343972]\n"
     ]
    },
    {
     "name": "stderr",
     "output_type": "stream",
     "text": [
      "least squares fit: 100%|██████████| 5000/5000 [00:03<00:00, 1501.75it/s]\n",
      "least squares fit:   6%|▌         | 300/5000 [00:00<00:03, 1492.55it/s]"
     ]
    },
    {
     "name": "stdout",
     "output_type": "stream",
     "text": [
      "Beta sample [33.738872814618986, 0.8342998931764712, -2.0056583070815237, -1.0048943591784798]\n"
     ]
    },
    {
     "name": "stderr",
     "output_type": "stream",
     "text": [
      "least squares fit: 100%|██████████| 5000/5000 [00:03<00:00, 1500.35it/s]\n",
      "least squares fit:   3%|▎         | 151/5000 [00:00<00:03, 1502.23it/s]"
     ]
    },
    {
     "name": "stdout",
     "output_type": "stream",
     "text": [
      "Beta sample [29.04731144829789, 0.9737448743420719, -1.7622553843049418, 0.9744871197165689]\n"
     ]
    },
    {
     "name": "stderr",
     "output_type": "stream",
     "text": [
      "least squares fit: 100%|██████████| 5000/5000 [00:03<00:00, 1503.20it/s]\n",
      "least squares fit:   3%|▎         | 151/5000 [00:00<00:03, 1499.10it/s]"
     ]
    },
    {
     "name": "stdout",
     "output_type": "stream",
     "text": [
      "Beta sample [30.84908697552376, 1.1142041012783985, -2.0553935380386124, 1.8606960468590934]\n"
     ]
    },
    {
     "name": "stderr",
     "output_type": "stream",
     "text": [
      "least squares fit: 100%|██████████| 5000/5000 [00:03<00:00, 1503.25it/s]\n",
      "least squares fit:   6%|▌         | 304/5000 [00:00<00:03, 1513.93it/s]"
     ]
    },
    {
     "name": "stdout",
     "output_type": "stream",
     "text": [
      "Beta sample [31.202279024105092, 1.0148203879553737, -1.831139817867853, -0.12803605188562941]\n"
     ]
    },
    {
     "name": "stderr",
     "output_type": "stream",
     "text": [
      "least squares fit: 100%|██████████| 5000/5000 [00:03<00:00, 1459.56it/s]\n",
      "least squares fit:   3%|▎         | 139/5000 [00:00<00:03, 1384.14it/s]"
     ]
    },
    {
     "name": "stdout",
     "output_type": "stream",
     "text": [
      "Beta sample [30.44951242588852, 0.918887540883514, -1.6623667661150157, 0.4156120951870544]\n"
     ]
    },
    {
     "name": "stderr",
     "output_type": "stream",
     "text": [
      "least squares fit: 100%|██████████| 5000/5000 [00:03<00:00, 1322.92it/s]\n",
      "least squares fit:   3%|▎         | 149/5000 [00:00<00:03, 1482.25it/s]"
     ]
    },
    {
     "name": "stdout",
     "output_type": "stream",
     "text": [
      "Beta sample [30.93743647937649, 0.9178249912706591, -1.91788395405578, 0.8027340312172656]\n"
     ]
    },
    {
     "name": "stderr",
     "output_type": "stream",
     "text": [
      "least squares fit: 100%|██████████| 5000/5000 [00:03<00:00, 1467.07it/s]\n",
      "least squares fit:   6%|▌         | 300/5000 [00:00<00:03, 1492.40it/s]"
     ]
    },
    {
     "name": "stdout",
     "output_type": "stream",
     "text": [
      "Beta sample [33.07304817934109, 0.7669188362229076, -1.8621104803815107, -0.5344373694611129]\n"
     ]
    },
    {
     "name": "stderr",
     "output_type": "stream",
     "text": [
      "least squares fit: 100%|██████████| 5000/5000 [00:03<00:00, 1490.22it/s]\n",
      "least squares fit:   6%|▌         | 306/5000 [00:00<00:03, 1525.43it/s]"
     ]
    },
    {
     "name": "stdout",
     "output_type": "stream",
     "text": [
      "Beta sample [30.98035452936739, 0.9608047189289306, -1.8571138381579295, 1.245651601087696]\n"
     ]
    },
    {
     "name": "stderr",
     "output_type": "stream",
     "text": [
      "least squares fit: 100%|██████████| 5000/5000 [00:03<00:00, 1484.20it/s]\n",
      "least squares fit:   6%|▌         | 301/5000 [00:00<00:03, 1510.08it/s]"
     ]
    },
    {
     "name": "stdout",
     "output_type": "stream",
     "text": [
      "Beta sample [29.890049201061156, 0.9320508621300002, -1.8151571408892877, 1.6197634219660282]\n"
     ]
    },
    {
     "name": "stderr",
     "output_type": "stream",
     "text": [
      "least squares fit: 100%|██████████| 5000/5000 [00:03<00:00, 1501.12it/s]\n",
      "least squares fit:   3%|▎         | 156/5000 [00:00<00:03, 1552.45it/s]"
     ]
    },
    {
     "name": "stdout",
     "output_type": "stream",
     "text": [
      "Beta sample [32.7497073906742, 0.8163410438179741, -1.6727937223778233, -1.6272032731389436]\n"
     ]
    },
    {
     "name": "stderr",
     "output_type": "stream",
     "text": [
      "least squares fit: 100%|██████████| 5000/5000 [00:03<00:00, 1507.66it/s]\n",
      "least squares fit:   3%|▎         | 150/5000 [00:00<00:03, 1499.47it/s]"
     ]
    },
    {
     "name": "stdout",
     "output_type": "stream",
     "text": [
      "Beta sample [32.2355020709459, 0.9915112587422376, -2.2016855934111463, 0.6597215256946067]\n"
     ]
    },
    {
     "name": "stderr",
     "output_type": "stream",
     "text": [
      "least squares fit: 100%|██████████| 5000/5000 [00:03<00:00, 1481.42it/s]\n",
      "least squares fit:   3%|▎         | 153/5000 [00:00<00:03, 1527.40it/s]"
     ]
    },
    {
     "name": "stdout",
     "output_type": "stream",
     "text": [
      "Beta sample [30.23834635310573, 0.9812068545490505, -1.9183149068660719, 2.425238910481974]\n"
     ]
    },
    {
     "name": "stderr",
     "output_type": "stream",
     "text": [
      "least squares fit: 100%|██████████| 5000/5000 [00:03<00:00, 1514.73it/s]\n",
      "least squares fit:   6%|▌         | 305/5000 [00:00<00:03, 1519.15it/s]"
     ]
    },
    {
     "name": "stdout",
     "output_type": "stream",
     "text": [
      "Beta sample [30.574120085079127, 0.9174840515163696, -1.7918245395513417, 0.9221993996446387]\n"
     ]
    },
    {
     "name": "stderr",
     "output_type": "stream",
     "text": [
      "least squares fit: 100%|██████████| 5000/5000 [00:03<00:00, 1517.72it/s]\n",
      "least squares fit:   6%|▌         | 303/5000 [00:00<00:03, 1513.65it/s]"
     ]
    },
    {
     "name": "stdout",
     "output_type": "stream",
     "text": [
      "Beta sample [30.200588272490585, 0.9290781608340561, -1.5128386060160495, -0.2716428116419138]\n"
     ]
    },
    {
     "name": "stderr",
     "output_type": "stream",
     "text": [
      "least squares fit: 100%|██████████| 5000/5000 [00:03<00:00, 1511.21it/s]\n",
      "least squares fit:   3%|▎         | 154/5000 [00:00<00:03, 1532.51it/s]"
     ]
    },
    {
     "name": "stdout",
     "output_type": "stream",
     "text": [
      "Beta sample [30.568001921567824, 1.0423323558239714, -2.0539328282484295, 2.070512986336468]\n"
     ]
    },
    {
     "name": "stderr",
     "output_type": "stream",
     "text": [
      "least squares fit: 100%|██████████| 5000/5000 [00:03<00:00, 1515.33it/s]\n",
      "least squares fit:   3%|▎         | 153/5000 [00:00<00:03, 1520.30it/s]"
     ]
    },
    {
     "name": "stdout",
     "output_type": "stream",
     "text": [
      "Beta sample [32.24170594033224, 0.928943846288939, -1.9597146432475416, -0.32832700894411926]\n"
     ]
    },
    {
     "name": "stderr",
     "output_type": "stream",
     "text": [
      "least squares fit: 100%|██████████| 5000/5000 [00:03<00:00, 1507.34it/s]\n",
      "least squares fit:   6%|▌         | 305/5000 [00:00<00:03, 1521.08it/s]"
     ]
    },
    {
     "name": "stdout",
     "output_type": "stream",
     "text": [
      "Beta sample [32.867472630955014, 1.0159010210188597, -2.027956846813755, -0.5177147877543]\n"
     ]
    },
    {
     "name": "stderr",
     "output_type": "stream",
     "text": [
      "least squares fit: 100%|██████████| 5000/5000 [00:03<00:00, 1517.17it/s]\n",
      "least squares fit:   6%|▌         | 306/5000 [00:00<00:03, 1530.24it/s]"
     ]
    },
    {
     "name": "stdout",
     "output_type": "stream",
     "text": [
      "Beta sample [29.215869116992934, 1.0071212080144287, -1.9567505776484149, 3.7248516336467907]\n"
     ]
    },
    {
     "name": "stderr",
     "output_type": "stream",
     "text": [
      "least squares fit: 100%|██████████| 5000/5000 [00:03<00:00, 1511.55it/s]\n",
      "least squares fit:   6%|▌         | 307/5000 [00:00<00:03, 1530.49it/s]"
     ]
    },
    {
     "name": "stdout",
     "output_type": "stream",
     "text": [
      "Beta sample [29.731620363957557, 1.0022351904608418, -1.6056750069107455, 0.3836580563754869]\n"
     ]
    },
    {
     "name": "stderr",
     "output_type": "stream",
     "text": [
      "least squares fit: 100%|██████████| 5000/5000 [00:03<00:00, 1524.30it/s]\n",
      "least squares fit:   6%|▌         | 306/5000 [00:00<00:03, 1531.19it/s]"
     ]
    },
    {
     "name": "stdout",
     "output_type": "stream",
     "text": [
      "Beta sample [32.67347841435598, 0.8824434637692974, -1.9909101579029314, 0.04871947146702831]\n"
     ]
    },
    {
     "name": "stderr",
     "output_type": "stream",
     "text": [
      "least squares fit: 100%|██████████| 5000/5000 [00:03<00:00, 1518.48it/s]\n",
      "least squares fit:   3%|▎         | 152/5000 [00:00<00:03, 1515.85it/s]"
     ]
    },
    {
     "name": "stdout",
     "output_type": "stream",
     "text": [
      "Beta sample [29.15775553756214, 1.0683351454601346, -1.7096121511993119, 3.2616854857255326]\n"
     ]
    },
    {
     "name": "stderr",
     "output_type": "stream",
     "text": [
      "least squares fit: 100%|██████████| 5000/5000 [00:03<00:00, 1516.19it/s]\n",
      "least squares fit:   6%|▌         | 306/5000 [00:00<00:03, 1526.60it/s]"
     ]
    },
    {
     "name": "stdout",
     "output_type": "stream",
     "text": [
      "Beta sample [30.488240564960755, 1.0353317712496077, -1.9149562223503456, 2.595089595245563]\n"
     ]
    },
    {
     "name": "stderr",
     "output_type": "stream",
     "text": [
      "least squares fit: 100%|██████████| 5000/5000 [00:03<00:00, 1519.49it/s]\n",
      "least squares fit:   3%|▎         | 153/5000 [00:00<00:03, 1524.15it/s]"
     ]
    },
    {
     "name": "stdout",
     "output_type": "stream",
     "text": [
      "Beta sample [31.498485256154574, 0.8651737226485893, -1.9003285713857745, -0.44480149610704184]\n"
     ]
    },
    {
     "name": "stderr",
     "output_type": "stream",
     "text": [
      "least squares fit: 100%|██████████| 5000/5000 [00:03<00:00, 1516.12it/s]\n",
      "least squares fit:   3%|▎         | 153/5000 [00:00<00:03, 1520.98it/s]"
     ]
    },
    {
     "name": "stdout",
     "output_type": "stream",
     "text": [
      "Beta sample [28.56863714649544, 0.9377084816305516, -1.6697079214548884, 2.037852818692598]\n"
     ]
    },
    {
     "name": "stderr",
     "output_type": "stream",
     "text": [
      "least squares fit: 100%|██████████| 5000/5000 [00:03<00:00, 1512.25it/s]\n",
      "least squares fit:   6%|▌         | 302/5000 [00:00<00:03, 1503.42it/s]"
     ]
    },
    {
     "name": "stdout",
     "output_type": "stream",
     "text": [
      "Beta sample [30.8880890003392, 0.9480046573855904, -1.9409732963472783, -0.38053847722698325]\n"
     ]
    },
    {
     "name": "stderr",
     "output_type": "stream",
     "text": [
      "least squares fit: 100%|██████████| 5000/5000 [00:03<00:00, 1509.62it/s]\n",
      "least squares fit:   6%|▌         | 302/5000 [00:00<00:03, 1505.03it/s]"
     ]
    },
    {
     "name": "stdout",
     "output_type": "stream",
     "text": [
      "Beta sample [30.44930217440876, 1.1218514836785962, -1.9621516796699552, 2.2443415978325145]\n"
     ]
    },
    {
     "name": "stderr",
     "output_type": "stream",
     "text": [
      "least squares fit: 100%|██████████| 5000/5000 [00:03<00:00, 1511.92it/s]\n",
      "least squares fit:   6%|▌         | 307/5000 [00:00<00:03, 1539.74it/s]"
     ]
    },
    {
     "name": "stdout",
     "output_type": "stream",
     "text": [
      "Beta sample [30.266204204539516, 1.006867325680496, -2.1198992898486466, 0.5362851256019131]\n"
     ]
    },
    {
     "name": "stderr",
     "output_type": "stream",
     "text": [
      "least squares fit: 100%|██████████| 5000/5000 [00:03<00:00, 1505.02it/s]\n",
      "least squares fit:   6%|▌         | 306/5000 [00:00<00:03, 1532.63it/s]"
     ]
    },
    {
     "name": "stdout",
     "output_type": "stream",
     "text": [
      "Beta sample [29.33031812613639, 1.0424517245684062, -1.8849226826885934, 2.265038781725857]\n"
     ]
    },
    {
     "name": "stderr",
     "output_type": "stream",
     "text": [
      "least squares fit: 100%|██████████| 5000/5000 [00:03<00:00, 1517.47it/s]\n",
      "least squares fit:   6%|▌         | 308/5000 [00:00<00:03, 1533.70it/s]"
     ]
    },
    {
     "name": "stdout",
     "output_type": "stream",
     "text": [
      "Beta sample [31.777389538816966, 0.8928310423632744, -1.926957852215744, 0.04863589006291763]\n"
     ]
    },
    {
     "name": "stderr",
     "output_type": "stream",
     "text": [
      "least squares fit: 100%|██████████| 5000/5000 [00:03<00:00, 1523.85it/s]\n",
      "least squares fit:   6%|▌         | 309/5000 [00:00<00:03, 1552.12it/s]"
     ]
    },
    {
     "name": "stdout",
     "output_type": "stream",
     "text": [
      "Beta sample [28.29107274550913, 1.1873361941623282, -1.8546687169062575, 2.639027655808875]\n"
     ]
    },
    {
     "name": "stderr",
     "output_type": "stream",
     "text": [
      "least squares fit: 100%|██████████| 5000/5000 [00:03<00:00, 1494.42it/s]\n",
      "least squares fit:   3%|▎         | 154/5000 [00:00<00:03, 1539.15it/s]"
     ]
    },
    {
     "name": "stdout",
     "output_type": "stream",
     "text": [
      "Beta sample [31.725525991297587, 0.8939775539447468, -1.8435590604691483, -0.6224324630864055]\n"
     ]
    },
    {
     "name": "stderr",
     "output_type": "stream",
     "text": [
      "least squares fit: 100%|██████████| 5000/5000 [00:03<00:00, 1513.25it/s]\n",
      "least squares fit:   6%|▌         | 307/5000 [00:00<00:03, 1532.66it/s]"
     ]
    },
    {
     "name": "stdout",
     "output_type": "stream",
     "text": [
      "Beta sample [30.2731194689144, 0.8005769229528958, -1.6991234036996576, 0.9748341305369913]\n"
     ]
    },
    {
     "name": "stderr",
     "output_type": "stream",
     "text": [
      "least squares fit: 100%|██████████| 5000/5000 [00:03<00:00, 1506.05it/s]"
     ]
    },
    {
     "name": "stdout",
     "output_type": "stream",
     "text": [
      "Beta sample [31.756965063689528, 1.0790800487199685, -2.088089407820006, 1.6420943383461708]\n"
     ]
    },
    {
     "name": "stderr",
     "output_type": "stream",
     "text": [
      "\n"
     ]
    }
   ],
   "source": [
    "# for consistent results\n",
    "random.seed(0)\n",
    "dataset = list(zip(inputs, daily_minutes_good))\n",
    "# Run 100 multiple regressions on bootstrapped data (takes a while!)\n",
    "bootstrap_betas = bootstrap_statistic(dataset, estimate_sample_beta, 100)"
   ]
  },
  {
   "cell_type": "code",
   "execution_count": 14,
   "metadata": {},
   "outputs": [],
   "source": [
    "bootstrap_std_errors = [standard_deviation([beta[i] for beta in bootstrap_betas]) for i in range(4)]"
   ]
  },
  {
   "cell_type": "code",
   "execution_count": 15,
   "metadata": {},
   "outputs": [
    {
     "name": "stdout",
     "output_type": "stream",
     "text": [
      "[1.2715078186272788, 0.10318410116073967, 0.15510591689663633, 1.249097524805126]\n"
     ]
    }
   ],
   "source": [
    "# ~1.272 (actual is 1.19) - constant term\n",
    "# ~0.103 (actual is 0.080) - num friends\n",
    "# ~0.155 (actual is 0.155) - work hours\n",
    "# ~1.249 (actual is .998) - phd\n",
    "print(bootstrap_std_errors)\n",
    "assert sum(subtract(bootstrap_std_errors, [1.27, .103, .155, 1.25])) < 0.001"
   ]
  },
  {
   "cell_type": "markdown",
   "metadata": {},
   "source": [
    "###### Hyopthesis Testing and the standard error"
   ]
  },
  {
   "cell_type": "markdown",
   "metadata": {},
   "source": [
    "Why compute the standard error for regression coefficients? Doing this, we can give confidence bounds for each $\\beta_i$, as well as test hypotheses (e.g. does $\\beta_i$ equal zero?). When $\\beta_i$ represents a meaningful feature, we can start to reason about the conclusions we can draw from our data.\n",
    "\n",
    "For example, in the above set we fit a regression model that includes a boolean term for PhD degree holders. Using the standard error of regression coefficients, we can test the hypothesis that $\\beta_{PhD}$ is equal to zero, which can inform us about the relationship between having a PhD and spending time on social media represented in our data.\n",
    "\n",
    "This makes assumptions about the distribution of $\\epsilon_i$\n",
    "\n",
    "###### How to Hypothesis Test $\\beta_i ?= 0$ ?\n",
    "\n",
    "Lets assume a null hypothesis $\\beta_i = 0$. We can expect the quotient: $$t_j = \\frac{\\hat{\\beta_i}}{\\hat{\\sigma_i}}$$\n",
    "to be distributed following the \"[Student's t-distribution](https://en.wikipedia.org/wiki/Student%27s_t-distribution)\" with \"[n-k](http://ordination.okstate.edu/MULTIPLE.htm) degrees of freedom\". Computing this from scratch is hard, but when n (number of samples) is much larger than k (the number of fit parameters), its approximately standard normal and we can just use this instead.\n",
    "\n",
    "So below, we'll assume $t_i \\sim Normal(0, 1)$, and provide a p-value that our observed ratio between $\\hat{\\beta_i}$ and the standard error $\\hat{\\sigma_i}$ meets this expectation"
   ]
  },
  {
   "cell_type": "code",
   "execution_count": 16,
   "metadata": {},
   "outputs": [],
   "source": [
    "def p_value(beta_hat_i: float, sigma_hat_i: float) -> float:\n",
    "    \"\"\"\n",
    "    return the probabity estimate that we would observe this parameter beta given the \n",
    "    standard error if the true value of beta is zero\n",
    "    \"\"\"\n",
    "    if beta_hat_i > 0: \n",
    "        positive_tail = 1 - normal_cdf(beta_hat_i / sigma_hat_i)  # probability that X ~ Normal(0, 1) > beta_hat_i\n",
    "        return 2 * positive_tail  # we're asking about absolute deviation\n",
    "    else:\n",
    "        negative_tail = normal_cdf(beta_hat_i / sigma_hat_i)  # probability that X ~ Normal(0, 1) > beta_hat_i\n",
    "        return 2 * negative_tail  # we're asking about absolute deviation    "
   ]
  },
  {
   "cell_type": "code",
   "execution_count": 17,
   "metadata": {},
   "outputs": [],
   "source": [
    "assert p_value(beta[0], bootstrap_std_errors[0]) < 10**-3  # constant term (30.58, 1.27)\n",
    "assert p_value(beta[1], bootstrap_std_errors[1]) < 10**-3  # num_friends (.972, .103)\n",
    "assert p_value(beta[2], bootstrap_std_errors[2]) < 10**-3  # work_hours (-1.865, .155)\n",
    "assert p_value(beta[3], bootstrap_std_errors[3]) > 0.4  # phd (.923, 1.249) "
   ]
  },
  {
   "cell_type": "markdown",
   "metadata": {},
   "source": [
    "While most of the coefficients have low p-values indicating we can confidently reject the null hypothesis and accept that they are non-zero, this is not true of the final term $\\beta_{PhD}$, which is not 'significantly' different from zero. "
   ]
  },
  {
   "cell_type": "markdown",
   "metadata": {},
   "source": [
    "## Regularization\n",
    "\n",
    "In many cases, we want to apply regression to large datasets with many features. To help with this, we may want to penalize un-needed or needlessly large $\\beta$ parameters. We can regularize by adding a loss term to the function we minimize.\n",
    "\n",
    "Where least squared error loss is:\n",
    "$$ loss(x, y_i) = (\\hat{y_i} - y_i)^2  = (y_i - \\beta * x)^2$$\n",
    "\n",
    "Ridge regression (where error term is the square of each $\\beta$ coefficient) is minimized as follows:\n",
    "\n",
    "$$ loss_{ridge}(x, y_i) = (\\hat{y_i} - y_i)^2  + ridgepenalty = (y_i - \\beta * x)^2 + \\alpha\\sum_{j=1}^{k}{\\beta_j^2}$$\n",
    "\n",
    "Where $\\alpha$ is a hyper-parameter for regularization harshness. This means our gradient has the form:\n",
    "\n",
    "$$ grad_{ridge}(x, y_i) = 2 * (\\beta * x - y_i) * x + 2\\alpha\\sum_{j=1}^{k}{\\beta_j}$$\n",
    "\n",
    "\n",
    "\n",
    "This can be minimzed using gradient descent, like below:"
   ]
  },
  {
   "cell_type": "code",
   "execution_count": 18,
   "metadata": {},
   "outputs": [],
   "source": [
    "def ridge_penalty(beta: Vector, alpha: float) -> float:\n",
    "    \"\"\"\n",
    "    Return the error for x, y, beta w.r.t a ridge regression with alpha=alpha\n",
    "    \"\"\"\n",
    "    # don't penalize the bias/constant term\n",
    "    return alpha * sum(dot(beta[1:], beta[1:]))\n",
    "\n",
    "def ridge_penalty_gradient(beta: Vector, alpha: float) -> Vector:\n",
    "    \"\"\"\n",
    "    Return the gradient for x, y, beta w.r.t just the regularization term in a ridge regression with alpha=alpha\n",
    "    \"\"\"\n",
    "    # don't penalize the bias/constant term in the gradient, either\n",
    "    return [0] + [2 * alpha * b_i for b_i in beta[1:]]\n",
    "    \n",
    "\n",
    "def ridge_error_gradient(x: Vector, y: Vector, beta: Vector, alpha: float) -> Vector:\n",
    "    \"\"\"\n",
    "    Return the gradient for x, y, beta w.r.t a ridge regression with alpha=alpha (just add both gradients)\n",
    "    \"\"\"\n",
    "    return add(sq_error_gradient(x, y, beta), ridge_penalty_gradient(beta, alpha))\n",
    "    \n",
    "\n",
    "def ridge_regression_fit(xs: List[Vector], ys: List[Vector], lr:float = 10**-3, num_steps: int = 1000, batch_size: int = 1, alpha: float = 1) -> Vector:\n",
    "    \"\"\"\n",
    "    For the given inputs (`xs`) and outputs (`ys`), find the parameters (`beta`) that provide the best fit \n",
    "    via ridge regression. Performs `num_steps` gradient descent steps with batch sizes of `batch_size` \n",
    "    and a learning rate of `lr`.\n",
    "    \"\"\"\n",
    "    # paired = list(zip(xs, ys))\n",
    "    # random.shuffle(paired)  doing this seems correct and exerimentally valid, but gets slightly worse results than the\n",
    "    # book. Maybe the book has well-selected hyper parameters?\n",
    "    # xs, ys = zip(*paired)\n",
    "    beta = [random.random() for r in range(0, len(xs[0]))]\n",
    "    for _ in tqdm.trange(num_steps, desc=\"ridge regression squares fit\"):\n",
    "        for start in range(0, len(xs), batch_size):\n",
    "            # prepare a batch\n",
    "            batch_xs = xs[start:start + batch_size]\n",
    "            batch_ys = ys[start:start + batch_size]\n",
    "            # compute an average gradient across the batch\n",
    "            grads = [ridge_error_gradient(x, y, beta, alpha) for (x, y) in zip(batch_xs, batch_ys)]\n",
    "            avg_grad: Vector = vector_mean(grads)\n",
    "            # update beta according to the gradient\n",
    "            beta = gradient_step(beta, avg_grad, lr * -1)  # by negative one b/c we are minimizing\n",
    "    return beta"
   ]
  },
  {
   "cell_type": "code",
   "execution_count": 19,
   "metadata": {},
   "outputs": [
    {
     "name": "stderr",
     "output_type": "stream",
     "text": [
      "ridge regression squares fit: 100%|██████████| 5000/5000 [00:05<00:00, 936.43it/s]"
     ]
    },
    {
     "name": "stdout",
     "output_type": "stream",
     "text": [
      "Ridge regression, alpha=0 [30.51479594518558, 0.974827427732327, -1.8506912934343658, 0.9140778074476832]\n",
      "Equivalent regression result: [30.51473922791934, 0.9748304586429777, -1.850689215018137, 0.9141219850728525]\n"
     ]
    },
    {
     "name": "stderr",
     "output_type": "stream",
     "text": [
      "\n"
     ]
    }
   ],
   "source": [
    "# Now run a ridge regression with alpha=0, we should get the same thing!\n",
    "random.seed(0)\n",
    "beta_0 = ridge_regression_fit(inputs, daily_minutes_good, lr=10**-3, num_steps=5000, batch_size=25, alpha=0)\n",
    "# 30.51, 0.97, -1.85, .91\n",
    "print('Ridge regression, alpha=0', beta_0)\n",
    "print('Equivalent regression result:', beta)\n",
    "assert 5 < dot(beta_0[1:], beta_0[1:]) < 6\n",
    "assert 0.67 < multiple_r_squared(inputs, daily_minutes_good, beta_0) < 0.69\n"
   ]
  },
  {
   "cell_type": "code",
   "execution_count": 20,
   "metadata": {},
   "outputs": [
    {
     "name": "stderr",
     "output_type": "stream",
     "text": [
      "ridge regression squares fit: 100%|██████████| 5000/5000 [00:05<00:00, 959.72it/s]"
     ]
    },
    {
     "name": "stdout",
     "output_type": "stream",
     "text": [
      "Ridge regression, alpha=0.1 [30.801525998459162, 0.95072257771587, -1.833142990416332, 0.5384447644638309]\n",
      "Ridge regression, alpha=0 [30.51479594518558, 0.974827427732327, -1.8506912934343658, 0.9140778074476832]\n",
      "0.6650114471578492\n"
     ]
    },
    {
     "name": "stderr",
     "output_type": "stream",
     "text": [
      "\n"
     ]
    }
   ],
   "source": [
    "# Now run a ridge regression with alpha=0.1, beta should be smaller, even if fit is worse\n",
    "beta_0_1 = ridge_regression_fit(inputs, daily_minutes_good, lr=10**-3, num_steps=5000, batch_size=25, alpha=0.1)\n",
    "# 30.8, 0.95, -1.83, .54\n",
    "print('Ridge regression, alpha=0.1', beta_0_1)\n",
    "print('Ridge regression, alpha=0', beta_0)\n",
    "assert 4 < dot(beta_0_1[1:], beta_0_1[1:]) < 5\n",
    "print(multiple_r_squared(inputs, daily_minutes_good, beta_0_1))\n",
    "assert 0.66 < multiple_r_squared(inputs, daily_minutes_good, beta_0_1) < 0.67"
   ]
  },
  {
   "cell_type": "code",
   "execution_count": 21,
   "metadata": {},
   "outputs": [
    {
     "name": "stderr",
     "output_type": "stream",
     "text": [
      "ridge regression squares fit: 100%|██████████| 5000/5000 [00:05<00:00, 962.61it/s]"
     ]
    },
    {
     "name": "stdout",
     "output_type": "stream",
     "text": [
      "Ridge regression, alpha=1 [30.649808578084645, 0.897152564158191, -1.6767995323859521, 0.10444589873012315]\n",
      "Ridge regression, alpha=0.1 [30.801525998459162, 0.95072257771587, -1.833142990416332, 0.5384447644638309]\n",
      "Ridge regression, alpha=0 [30.51479594518558, 0.974827427732327, -1.8506912934343658, 0.9140778074476832]\n",
      "0.5874318952321564\n"
     ]
    },
    {
     "name": "stderr",
     "output_type": "stream",
     "text": [
      "\n"
     ]
    }
   ],
   "source": [
    "# Now run a ridge regression with alpha=1, beta should be smaller, even if fit is worse\n",
    "beta_1 = ridge_regression_fit(inputs, daily_minutes_good, lr=10**-3, num_steps=5000, batch_size=25, alpha=1.)\n",
    "# 30.6, 0.89, -1.67, 0.10\n",
    "print('Ridge regression, alpha=1', beta_1)\n",
    "print('Ridge regression, alpha=0.1', beta_0_1)\n",
    "print('Ridge regression, alpha=0', beta_0)\n",
    "assert 3 < dot(beta_1[1:], beta_1[1:]) < 4\n",
    "print(multiple_r_squared(inputs, daily_minutes_good, beta_1))\n",
    "assert 0.58 < multiple_r_squared(inputs, daily_minutes_good, beta_1) < 0.59\n"
   ]
  },
  {
   "cell_type": "code",
   "execution_count": 22,
   "metadata": {},
   "outputs": [
    {
     "name": "stderr",
     "output_type": "stream",
     "text": [
      "ridge regression squares fit: 100%|██████████| 5000/5000 [00:05<00:00, 953.83it/s]"
     ]
    },
    {
     "name": "stdout",
     "output_type": "stream",
     "text": [
      "Ridge regression, alpha=10 [28.30708308025664, 0.6726275942984856, -0.9045499907700506, -0.005213193101154039]\n",
      "Ridge regression, alpha=1 [30.649808578084645, 0.897152564158191, -1.6767995323859521, 0.10444589873012315]\n",
      "Ridge regression, alpha=0.1 [30.801525998459162, 0.95072257771587, -1.833142990416332, 0.5384447644638309]\n",
      "Ridge regression, alpha=0 [30.51479594518558, 0.974827427732327, -1.8506912934343658, 0.9140778074476832]\n",
      "0.2582567639161503\n"
     ]
    },
    {
     "name": "stderr",
     "output_type": "stream",
     "text": [
      "\n"
     ]
    }
   ],
   "source": [
    "# Now run a ridge regression with alpha=1, beta should be smaller, even if fit is worse\n",
    "beta_10 = ridge_regression_fit(inputs, daily_minutes_good, lr=10**-3, num_steps=5000, batch_size=25, alpha=10.)\n",
    "# 30.8, 0.95, -1.83, .54\n",
    "print('Ridge regression, alpha=10', beta_10)\n",
    "print('Ridge regression, alpha=1', beta_1)\n",
    "print('Ridge regression, alpha=0.1', beta_0_1)\n",
    "print('Ridge regression, alpha=0', beta_0)\n",
    "assert 1 < dot(beta_10[1:], beta_10[1:]) < 2\n",
    "print(multiple_r_squared(inputs, daily_minutes_good, beta_10))\n",
    "assert 0.25 < multiple_r_squared(inputs, daily_minutes_good, beta_10) < 0.5"
   ]
  },
  {
   "cell_type": "markdown",
   "metadata": {},
   "source": [
    "There's also lasso regression, is better at finding sparse models since its regularization drives useless coefficients to zero. Since it is not differentiable though, we can't apply gradient descent.\n",
    "\n",
    "$$ loss_{lasso}(x, y_i) = (\\hat{y_i} - y_i)^2  + lassopenalty = (y_i - \\beta * x)^2 + \\alpha\\sum_{j=1}^{k}{|\\beta_j|}$$"
   ]
  },
  {
   "cell_type": "code",
   "execution_count": null,
   "metadata": {},
   "outputs": [],
   "source": []
  }
 ],
 "metadata": {
  "kernelspec": {
   "display_name": "dsfsvenv",
   "language": "python",
   "name": "dsfsvenv"
  },
  "language_info": {
   "codemirror_mode": {
    "name": "ipython",
    "version": 3
   },
   "file_extension": ".py",
   "mimetype": "text/x-python",
   "name": "python",
   "nbconvert_exporter": "python",
   "pygments_lexer": "ipython3",
   "version": "3.7.6"
  }
 },
 "nbformat": 4,
 "nbformat_minor": 4
}
