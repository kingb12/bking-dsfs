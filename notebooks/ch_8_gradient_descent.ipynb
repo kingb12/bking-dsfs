{
 "cells": [
  {
   "cell_type": "markdown",
   "metadata": {},
   "source": [
    "# Gradient Descent\n",
    "\n",
    "Optimizing functions algorithmically"
   ]
  },
  {
   "cell_type": "code",
   "execution_count": 1,
   "metadata": {},
   "outputs": [],
   "source": [
    "# Awful hack to import past chapter modules\n",
    "import sys\n",
    "sys.path.insert(0, \"../\")\n",
    "\n",
    "from linalg import Vector, dot, distance, add, scalar_multiply, add, vector_mean\n",
    "from typing import Callable\n",
    "import random\n",
    "import numpy as np"
   ]
  },
  {
   "cell_type": "code",
   "execution_count": 2,
   "metadata": {},
   "outputs": [],
   "source": [
    "def sum_of_squares(xs: Vector) -> float:\n",
    "    \"\"\"\n",
    "    Return the sum of the square of each element in xs\n",
    "    \"\"\"\n",
    "    # this is equivalent to x dot x\n",
    "    return dot(x, x)"
   ]
  },
  {
   "cell_type": "markdown",
   "metadata": {},
   "source": [
    "Consider a function (e.g. a loss function) which reduces a vector to a meaningful float. The main idea of gradient descent is to algorithmically find the inputs that minimize this reducing function\n",
    "\n",
    "### Terms:\n",
    "- **Gradient**: The vector of partial deriviates for a vector relative to a function. E.g. if `y = sum_of_squares(xs)`, the gradirent is `dy/dxs` or `[dy/dx_0, dy/dx_1, ... dy/dx_n]`"
   ]
  },
  {
   "cell_type": "markdown",
   "metadata": {},
   "source": [
    "#### Estimating the Gradient"
   ]
  },
  {
   "cell_type": "code",
   "execution_count": 3,
   "metadata": {},
   "outputs": [],
   "source": [
    "def difference_quotient(f: Callable[[float], float], x: float, h: float) -> float:\n",
    "    return (f(x + h) - f(x)) / h\n"
   ]
  },
  {
   "cell_type": "markdown",
   "metadata": {},
   "source": [
    "This is the definition of a gradient for a single variable x and function f(x). We can estimate the gradient by just choosing a very small h (e.g. 10**-6). We can also do this for partial-derivatives in a vector calculus setting for f(xs):"
   ]
  },
  {
   "cell_type": "code",
   "execution_count": 4,
   "metadata": {},
   "outputs": [],
   "source": [
    "def partial_diff_quotient(f: Callable[[Vector], float], xs: Vector, i: int, h: float) -> float:\n",
    "    w = [x_j + (h if i == j else 0) for j, x_j in enumerate(xs)]  # single out and add h to just the ith element of xs\n",
    "    return (f(w) - f(xs)) / h  # reflects only the change we made to the ith variable"
   ]
  },
  {
   "cell_type": "code",
   "execution_count": 5,
   "metadata": {},
   "outputs": [],
   "source": [
    "def estimate_gradient(f: Callable[[Vector], float], xs: Vector, h: float = 10**-4) -> Vector:\n",
    "    \"\"\"\n",
    "    Estimate the gradient of f with respect to xs by computing partial diff quotients element-wise\n",
    "    \"\"\"\n",
    "    # note this is expensive and why auto-grad libraries mathematically compute most derivatives\n",
    "    return [partial_diff_quotient(f, xs, i, h) for i in range(len(xs))]"
   ]
  },
  {
   "cell_type": "markdown",
   "metadata": {},
   "source": [
    "### Using the Gradient\n",
    "\n",
    "For sum of squares, it is obvious the minimum overall is achieved by a vector of zeros. In some cases though, the minimum(s) may not be obvious, so we'll use it as an example to evaluatate our algorithm"
   ]
  },
  {
   "cell_type": "code",
   "execution_count": 6,
   "metadata": {},
   "outputs": [],
   "source": [
    "def gradient_step(xs: Vector, gradient: Vector, step_size: float) -> Vector:\n",
    "    \"\"\"\n",
    "    Moves `step_size` along the gradient of f w.r.t. xs, returning a input\n",
    "    \"\"\"\n",
    "    assert len(xs) == len(gradient)\n",
    "    update = scalar_multiply(step_size, gradient)\n",
    "    return add(xs, update)\n",
    "\n",
    "def sum_of_squares_gradient(xs: Vector) -> Vector:\n",
    "    \"\"\"\n",
    "    We know the partial-derivative for a sum of squares is just 2*`the_term`\n",
    "    \"\"\"\n",
    "    return [2*x for x in xs]    "
   ]
  },
  {
   "cell_type": "code",
   "execution_count": 7,
   "metadata": {},
   "outputs": [
    {
     "name": "stdout",
     "output_type": "stream",
     "text": [
      "[7.31227121845904e-09, 1.7551306520604136e-08, -1.0897493692015273e-09, 1.1797208695386382e-08, -1.7806089301868516e-08, 6.852900385318273e-09, 1.3483110056719228e-08, -1.8385160717955794e-08, 1.345429991064904e-08, -5.285101662485176e-09]\n"
     ]
    }
   ],
   "source": [
    "# Now lets verify with an experiment\n",
    "xs = [random.uniform(-10, 10) for i in range(10)]\n",
    "\n",
    "for i in range(1, 100000):\n",
    "    grad = sum_of_squares_gradient(xs)\n",
    "    xs = gradient_step(xs, grad, -1 * (10**-4))\n",
    "\n",
    "assert(distance(xs, np.zeros(10)) < 10**-6) # we should have gotten very close to zero\n",
    "print(xs)"
   ]
  },
  {
   "cell_type": "code",
   "execution_count": 8,
   "metadata": {},
   "outputs": [],
   "source": [
    "# x ranges from (-50, 49), y = 20 * x + 5: we'll use gradient descent to fit parameters to this, \n",
    "# as if we had no idea y = 20*x + 5\n",
    "data = [(x, 0*(x**2) + 20*x + 5) for x in range(-10, 10)]"
   ]
  },
  {
   "cell_type": "code",
   "execution_count": 9,
   "metadata": {},
   "outputs": [],
   "source": [
    "# we think f(x) is a polynomial, and want to compute a gradient using coefficients ws\n",
    "def linear_gradient_mse(x: float, y: float, ws: Vector) ->  float:\n",
    "    predicted = sum([w * (x**i) for i, w in enumerate(ws)]) # our weights are coefficients to the polynomial\n",
    "    target = y \n",
    "    error = predicted - target  \n",
    "    grad = [2 * error * (x**i) for i in range(len(ws))]\n",
    "    return grad    "
   ]
  },
  {
   "cell_type": "code",
   "execution_count": 10,
   "metadata": {},
   "outputs": [
    {
     "name": "stdout",
     "output_type": "stream",
     "text": [
      "0 [0.7493938552161804, 0.6937188669052676]\n",
      "500 [3.316192137232547, 19.97410139204759]\n",
      "1000 [4.376394724111463, 19.990408342356385]\n",
      "1500 [4.7690451810357635, 19.99644768952365]\n",
      "2000 [4.9144649180095525, 19.998684386975718]\n",
      "2500 [4.968321725071917, 19.999512757220636]\n",
      "3000 [4.9882678185480485, 19.999819547601263]\n",
      "3500 [4.9956549375894355, 19.999933168700306]\n",
      "4000 [4.998390787985251, 19.99997524874898]\n",
      "4500 [4.999404021608042, 19.999990833270793]\n",
      "4999 [4.999778837990579, 19.99999659831249]\n"
     ]
    }
   ],
   "source": [
    "weights_linear = [random.uniform(-1, 1) for i in range(2)]\n",
    "lr = 10**-3\n",
    "for epoch in range(5000):\n",
    "    # compute mean of gradients\n",
    "    mean_grad = vector_mean([linear_gradient_mse(x, y, weights_linear) for x, y in data])\n",
    "    weights_linear = gradient_step(weights_linear, mean_grad, -1 * lr)\n",
    "    if epoch % 500 == 0 or epoch == 4999:\n",
    "        print(epoch, weights_linear)  # second near 20, first near 5"
   ]
  },
  {
   "cell_type": "code",
   "execution_count": 11,
   "metadata": {},
   "outputs": [
    {
     "name": "stdout",
     "output_type": "stream",
     "text": [
      "[0.07331434705382489, -0.4999972588541248, 0.31423464852320215]\n",
      "0 [0.01337427757302162, -0.13999793974560476, -3.5386010332412927]\n",
      "1000 [0.992637191534093, 20.040746189590127, -3.932959358462227]\n",
      "2000 [1.6456469105089766, 20.034145208260902, -3.9438828302760314]\n",
      "3000 [2.1922467312514566, 20.028581165383205, -3.953027256663449]\n",
      "4000 [2.6497768100593726, 20.0239237964485, -3.960681577005555]\n",
      "5000 [3.032751273406366, 20.020025356868246, -3.9670886076273266]\n",
      "6000 [3.3533191363063506, 20.016762177297554, -3.972451597357781]\n",
      "7000 [3.621649702856828, 20.014030740605715, -3.9769406751454257]\n",
      "8000 [3.8462551648452723, 20.011744398024785, -3.98069824702163]\n",
      "9000 [4.03426063214471, 20.009830620409904, -3.983843513615964]\n",
      "9999 [4.1914863599916545, 20.0082301612171, -3.9864738457901825]\n",
      "10000 [4.19163016101349, 20.008228697412985, -3.9864762515316574]\n",
      "11000 [4.323355950545671, 20.006887811581688, -3.988679978536936]\n",
      "12000 [4.433616709109311, 20.005765426288487, -3.990524602980882]\n",
      "13000 [4.525910214596781, 20.004825936350564, -3.9920686414806843]\n",
      "14000 [4.60316427366666, 20.00403953853443, -3.993361075231465]\n",
      "15000 [4.667829599913092, 20.003381286114408, -3.994442903826006]\n",
      "16000 [4.721957557316237, 20.002830297493144, -3.9953484458758464]\n",
      "17000 [4.767265235212641, 20.0023690937793, -3.996106427693085]\n",
      "18000 [4.805189919143992, 20.001983044308506, -3.9967408945688807]\n",
      "19000 [4.836934685551606, 20.001659902517936, -3.9972719735569595]\n",
      "20000 [4.863506566706847, 20.001389417451342, -3.9977165119597347]\n",
      "21000 [4.8857484965753, 20.001163008570227, -3.9980886117715837]\n",
      "22000 [4.9043660510262725, 20.000973493555247, -3.9984000770333337]\n",
      "23000 [4.919949830661641, 20.000814860463084, -3.9986607882892593]\n",
      "24000 [4.932994196309301, 20.000682077010918, -3.998879016025427]\n"
     ]
    }
   ],
   "source": [
    "data = [(x, -4*(x**2) + 20*x + 5) for x in range(-10, 10)]\n",
    "# now lets attempt to fit a cubic to a linear: the 2nd and 3rd degree terms (last 2) should near zero over time\n",
    "weights_cubic = [random.uniform(-1, 1) for i in range(3)]\n",
    "print(weights_cubic)\n",
    "lr = 2 * 10**-4 # slow down for visibility\n",
    "for epoch in range(25000):\n",
    "    # compute mean of gradients\n",
    "    mean_grad = vector_mean([linear_gradient_mse(x, y, weights_cubic) for x, y in data])\n",
    "    # print('mean_grad', mean_grad)\n",
    "    weights_cubic = gradient_step(weights_cubic, mean_grad, -1 * lr)\n",
    "    if epoch % 1000 == 0 or epoch == 9999:\n",
    "        print(epoch, weights_cubic)  # second near 20, first near 5"
   ]
  },
  {
   "cell_type": "code",
   "execution_count": 12,
   "metadata": {},
   "outputs": [
    {
     "name": "stdout",
     "output_type": "stream",
     "text": [
      "[0.24218050105883449, 0.6864097736224155, 0.15349626994888754, 0.43045351049843306]\n",
      "0 [0.23573463185676402, 0.7140982403814589, 0.0998882543738665, 0.6125962956745288]\n",
      "1000 [0.026636344775258985, 4.151548924877041, -0.7515507028172141, 2.8922332093047247]\n",
      "2000 [0.0023853063785252222, 6.653999846505032, -1.045966468776184, 2.4720447736105986]\n",
      "3000 [0.09116266027772561, 8.723577261820047, -1.3281294183234296, 2.1168724476220713]\n",
      "4000 [0.2606657208215198, 10.441496723966226, -1.5873257891946697, 1.8179936995179908]\n",
      "5000 [0.4840705451444456, 11.87185770906582, -1.8241879876001483, 1.5657780623730186]\n",
      "6000 [0.7410168451761746, 13.066472481212925, -2.0399977961217, 1.352258626722784]\n",
      "7000 [1.016276546294831, 14.067339274310239, -2.2361397059946264, 1.1709196858364859]\n",
      "8000 [1.2986098357975548, 14.908560847358638, -2.4140264788952535, 1.01642424868523]\n",
      "9000 [1.5798604138674563, 15.617879194648687, -2.575059720903787, 0.8843904558159383]\n",
      "9999 [1.8539747870108259, 16.21735415778043, -2.7204644413043018, 0.7713162994584959]\n",
      "10000 [1.8542442922255884, 16.217906043181117, -2.72060268711595, 0.7712115015006792]\n",
      "11000 [2.117791979286724, 16.72711018009773, -2.851961777595158, 0.6739106081147448]\n",
      "12000 [2.367911976939603, 17.16061024356081, -2.9703745956470944, 0.590024109385536]\n",
      "13000 [2.603050114752965, 17.530811816947306, -3.0770029362123896, 0.5175070821217507]\n",
      "14000 [2.8224245059729434, 17.847919855493494, -3.1729294365196083, 0.45465707826826324]\n",
      "15000 [3.025820092330735, 18.120351240796854, -3.259156906934398, 0.40005239778962476]\n",
      "16000 [3.2134300703257916, 18.355067282633854, -3.336609584666823, 0.3525020527897993]\n",
      "17000 [3.3857341349958947, 18.55784201500749, -3.406135729420782, 0.311005140505433]\n",
      "18000 [3.543405577428629, 18.733478961345796, -3.46851111827638, 0.2747177961559481]\n",
      "19000 [3.687240940290448, 18.88598651052768, -3.524443105096993, 0.2429262590683924]\n",
      "20000 [3.818107259767994, 19.018720021885045, -3.574574993906832, 0.2150248753415038]\n",
      "21000 [3.936902972870486, 19.134497160581418, -3.6194905410337275, 0.1904980921954607]\n",
      "22000 [4.044529402041794, 19.235691672701684, -3.659718451356833, 0.16890568473631576]\n",
      "23000 [4.141870389075065, 19.324309776500108, -3.695736772905709, 0.14987060445993527]\n",
      "24000 [4.2297781729112565, 19.402052520300007, -3.72797712383557, 0.13306895785854317]\n",
      "25000 [4.30906401929494, 19.470366796821665, -3.756828708436061, 0.11822171890680343]\n",
      "26000 [4.38049243694269, 19.530487174974414, -3.782642095884981, 0.1050878557285609]\n",
      "27000 [4.444778072740552, 19.583470286837176, -3.805732748171459, 0.09345861316104728]\n",
      "28000 [4.502584581758871, 19.63022316847911, -3.8263842929587177, 0.08315274226114246]\n",
      "29000 [4.554524927869123, 19.671526681534843, -3.8448515439030237, 0.07401250744890242]\n",
      "30000 [4.601162696463422, 19.70805492453899, -3.8613632756942486, 0.0659003338855698]\n",
      "31000 [4.643014099360519, 19.740391368166865, -3.8761247643072143, 0.05869598337616929]\n",
      "32000 [4.680550429108721, 19.76904230811675, -3.889320105021247, 0.05229416780149575]\n",
      "33000 [4.714200780074653, 19.794448116520144, -3.9011143219656765, 0.046602525806404935]\n",
      "34000 [4.7443549005124, 19.816992681997494, -3.9116552835053566, 0.04153990198704012]\n"
     ]
    }
   ],
   "source": [
    "data = [(x, -4*(x**2) + 20*x + 5) for x in range(-3, 3)]\n",
    "# now lets attempt to fit a cubic to a linear: the 2nd and 3rd degree terms (last 2) should near zero over time\n",
    "weights_cubic = [random.uniform(-1, 1) for i in range(4)]\n",
    "print(weights_cubic)\n",
    "lr = 2 * 10**-4 # slow down for visibility\n",
    "for epoch in range(35000):\n",
    "    # compute mean of gradients\n",
    "    mean_grad = vector_mean([linear_gradient_mse(x, y, weights_cubic) for x, y in data])\n",
    "    # print('mean_grad', mean_grad)\n",
    "    weights_cubic = gradient_step(weights_cubic, mean_grad, -1 * lr)\n",
    "    if epoch % 1000 == 0 or epoch == 9999:\n",
    "        print(epoch, weights_cubic)  # second near 20, first near 5"
   ]
  },
  {
   "cell_type": "markdown",
   "metadata": {},
   "source": [
    "## fin\n",
    "I spent way too much time just getting this to work and while the it can technically fit things correctly for arbitrary polynomials, the settings are extremely sensitive to both learning rate and batch size, causing major issues with overflow. Not worth digging too far into that, but I made changes to `vector_mean` that might help. Skipping **SGD** and **Batch-SGD** because they follow from these."
   ]
  },
  {
   "cell_type": "code",
   "execution_count": null,
   "metadata": {},
   "outputs": [],
   "source": []
  }
 ],
 "metadata": {
  "kernelspec": {
   "display_name": "dsfsvenv",
   "language": "python",
   "name": "dsfsvenv"
  },
  "language_info": {
   "codemirror_mode": {
    "name": "ipython",
    "version": 3
   },
   "file_extension": ".py",
   "mimetype": "text/x-python",
   "name": "python",
   "nbconvert_exporter": "python",
   "pygments_lexer": "ipython3",
   "version": "3.7.6"
  }
 },
 "nbformat": 4,
 "nbformat_minor": 4
}
