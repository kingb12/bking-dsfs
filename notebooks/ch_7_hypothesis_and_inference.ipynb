{
 "cells": [
  {
   "cell_type": "markdown",
   "metadata": {},
   "source": [
    "## Classical Inferrence & Hypothesis Testing\n",
    "\n",
    "Classical inferrence typically compares two hypotheses which sum to the universe of outcomes:\n",
    "1. The `null` hypothesis: some default position about an observable random variable (e.g. this coin is 'fair')\n",
    "2. The alternative hypothesis: typically the one we care about/argue for, a position that exactly contradicts the `null` hypothesis (e.g. this coin is not fair)\n"
   ]
  },
  {
   "cell_type": "code",
   "execution_count": 1,
   "metadata": {},
   "outputs": [],
   "source": [
    "# Awful hack to import past chapter modules\n",
    "import sys\n",
    "sys.path.insert(0, \"../\")\n",
    "\n",
    "from typing import Tuple\n",
    "import math, random\n",
    "from probability import normal_cdf, inverse_normal_cdf, binomial\n",
    "from matplotlib import pyplot as plt\n",
    "import numpy as np"
   ]
  },
  {
   "cell_type": "code",
   "execution_count": 2,
   "metadata": {},
   "outputs": [],
   "source": [
    "def normal_approximation_to_binomial(n:int, p:float = 0.5) -> Tuple[float, float]:\n",
    "    \"\"\"\n",
    "    Returns mu and sigma corresponding to a normal distribution approximating X~Binomial(n, p)\n",
    "    \"\"\"\n",
    "    # expected value of X\n",
    "    mu = p * n\n",
    "    sigma = math.sqrt(n * p * (1 - p)) # remember, variance of Bernoulli is p * (1-p)\n",
    "    return mu, sigma"
   ]
  },
  {
   "cell_type": "markdown",
   "metadata": {},
   "source": [
    "The normal CDF gives the probability that X <= x_hat for a variable X ~ Normal(mu, sigma). Whenever a random variable follows a normal distribution, we can use `normal_cdf` to figure out the probability that its realized value `X` lies within OR outside a particular interval `(lower, higher)` by doing the following:\n",
    "\n",
    "1. Let `A` = `normal_cdf(lower, mu, sigma)`. `A` gives to probabilty `X` is less than `lower`\n",
    "2. Let `B` = `normal_cdf(higher, mu, sigma)`. `1 - B` gives to probabilty `X` is higher than `higher`\n",
    "3. P(Outside bounds) = `A + B`, P(Inside Bounds) = `1 - A - B`\n"
   ]
  },
  {
   "cell_type": "code",
   "execution_count": 3,
   "metadata": {},
   "outputs": [],
   "source": [
    "def normal_probability_below(lo: float, mu:float = 0, sigma:float = 1) -> float:\n",
    "    \"\"\"\n",
    "    Returns the probability that N(mu, sigma) is less than lo\n",
    "    \"\"\"\n",
    "    return normal_cdf(lo, mu, sigma)\n",
    "\n",
    "def normal_probability_above(lo: float, mu:float = 0, sigma:float = 1) -> float:\n",
    "    \"\"\"\n",
    "    Returns the probability that N(mu, sigma) is greater than lo\n",
    "    \"\"\"\n",
    "    return 1 - normal_cdf(lo, mu, sigma)\n",
    "\n",
    "def normal_probability_between(lo: float, hi: float, mu:float = 0, sigma: float = 1) -> float:\n",
    "    \"\"\"\n",
    "    Returns the probability that N(mu, sigma) is between lo and hi\n",
    "    \"\"\"\n",
    "    # prob it is up to our upper bound - prob it is less than lower\n",
    "    return normal_cdf(hi, mu, sigma) - normal_cdf(lo, mu, sigma)\n",
    "    \n",
    "def normal_probability_outside(lo: float, hi: float, mu:float = 0, sigma: float = 1) -> float:\n",
    "    \"\"\"\n",
    "    Returns the probability that N(mu, sigma) is NOT between lo and hi\n",
    "    \"\"\"\n",
    "    return 1 - normal_probability_between(lo, hi, mu, sigma)\n",
    "    "
   ]
  },
  {
   "cell_type": "code",
   "execution_count": 4,
   "metadata": {},
   "outputs": [],
   "source": [
    "def normal_upper_bound(p: float, mu:float = 0, sigma:float = 1) -> float:\n",
    "    \"\"\"\n",
    "    Returns the z for which P(Z <=z) = p\n",
    "    \"\"\"\n",
    "    return inverse_normal_cdf(p, mu, sigma)\n",
    "\n",
    "def normal_lower_bound(p: float, mu:float = 0, sigma:float = 1) -> float:\n",
    "    \"\"\"\n",
    "    Returns the z for which P(Z >=z) = p\n",
    "    \"\"\"\n",
    "    return inverse_normal_cdf(1 - p, mu, sigma)\n",
    "\n",
    "def normal_two_sided_bounds(p: float, mu:float = 0, sigma:float = 1) -> Tuple[float, float]:\n",
    "    \"\"\"\n",
    "    Returns the symetrics (around the mean) interval for which P(z_lo <= Z <= z_hi) = p\n",
    "    \"\"\"\n",
    "    # looking for tail bounds of (1 - p) / 2, such that each tail can be subtracted to leave p\n",
    "    tail_p = (1 - p) / 2.\n",
    "    # lower bound should have \n",
    "    z_lo = normal_upper_bound(tail_p, mu, sigma)    \n",
    "    z_hi = normal_lower_bound(tail_p, mu, sigma)\n",
    "    return z_lo, z_hi"
   ]
  },
  {
   "cell_type": "markdown",
   "metadata": {},
   "source": [
    "Lets use these to do a hypothesis test. We expect a fair coin flipped N times to be roughly normally distributed with mean `N / 2` and standard deviation `sqrt(N / 4)`\n",
    "\n",
    "For N = 1000, this is mu=500, sigma=15.8"
   ]
  },
  {
   "cell_type": "markdown",
   "metadata": {},
   "source": [
    "We need to make a decision about *significance*: how willing are we to make a false-positive error, in which we reject the null hypothesis (fair coin) and accept that the coin must be unfair? This is the p-value, typically 5% or 1%. \n",
    "\n",
    "Consider the test that rejects `H_0` if X falls outside the given bounds like so:\n",
    "\n",
    "We have one observation of `X ~ Binomial(1000, p)` `X_0`. We want to know, if our null hypothesis is true (p=.05), for what bounds `(X_l, X_h)` can we be 95% sure p=.5? That is, there is a 95% chance `X_l <= X < X_h`, and therefore if `X_0` is outside of the bounds, there is only a 5% chance our null hypothesis is correct."
   ]
  },
  {
   "cell_type": "code",
   "execution_count": 5,
   "metadata": {},
   "outputs": [
    {
     "name": "stdout",
     "output_type": "stream",
     "text": [
      "low: 469.01024873427207 hi: 530.9897512657279 sample: 496 Rejects H_0: False\n"
     ]
    }
   ],
   "source": [
    "# Where mu_0, sigma_0 are the normal parameters for H_0, our null hypothesis that the coin is fair\n",
    "mu_0, sigma_0 = normal_approximation_to_binomial(n=1000, p=0.5)\n",
    "p_value = 0.05\n",
    "x_lo, x_hi = normal_two_sided_bounds(1 - p_value, mu_0, sigma_0)\n",
    "x_hat = binomial(1000, .5)\n",
    "print('low:', x_lo, 'hi:', x_hi, 'sample:', x_hat, 'Rejects H_0:',  not (x_lo <= x_hat < x_hi))"
   ]
  },
  {
   "cell_type": "markdown",
   "metadata": {},
   "source": [
    "##### Some Terms\n",
    "- **type-1-error**: false-positive, we rejected the null hypothesis but were incorrect to do so\n",
    "- **type-2-error**: false-negative, the null hypothesis was incorrect but we failed to reject it\n",
    "- **Signficance**: The ability of our hypothesis to avoid false-positives (e.g. the above test has a false-positive rate of p-value) \n",
    "- **Power**: The ability of our hypothesis to avoid false-negatives (e.g. the above test has a false-positive rate of p-value) "
   ]
  },
  {
   "cell_type": "code",
   "execution_count": 6,
   "metadata": {},
   "outputs": [
    {
     "name": "stdout",
     "output_type": "stream",
     "text": [
      "Test Power for H1 == p=0.55: 0.11345221463089067\n"
     ]
    }
   ],
   "source": [
    "# 95% bound interval based on p=0.5\n",
    "lo_0, hi_0 = normal_two_sided_bounds(.95, mu_0, sigma_0)\n",
    "# actual mu, sigma if p were really 0.55\n",
    "mu_1, sigma_1 = normal_approximation_to_binomial(n=1000, p=0.55)\n",
    "# a type 2 error occurs when x_hat is in the 95% bounds predicted by H_0, despite really being drawn from H_1\n",
    "type_2_p = normal_probability_between(lo_0, hi_0, mu_1, sigma_1)\n",
    "print('Test Power for H1 == p=0.55:', type_2_p)"
   ]
  },
  {
   "cell_type": "markdown",
   "metadata": {},
   "source": [
    "That is, there is a roughly 11% chance that we choose not to reject the null hypothesis, but that we could have, *if the true value of p == 0.55*. Note since these are real values, as H_1's prediction for `p` gets closer to the null hypothesis, the power of the test decreases: the two hypotheses are indistiguishable from samples alone"
   ]
  },
  {
   "cell_type": "markdown",
   "metadata": {},
   "source": [
    "Imagine instead our hypothesis is that the coin favors heads (1). Our null hypothesis is then that p <= 0.5. Instead of looking for the bounds around which we are 95% sure p=0.5, we now only care about the value of `X'` such that X should be less than X' 1-p_value = 95% of the time. "
   ]
  },
  {
   "cell_type": "code",
   "execution_count": 7,
   "metadata": {},
   "outputs": [
    {
     "name": "stdout",
     "output_type": "stream",
     "text": [
      "95th percentile X: 526.0074186042569 sample: 503 Rejects H_0: False\n"
     ]
    }
   ],
   "source": [
    "ninety_fifth_percentile_X = normal_upper_bound(.95, mu_0, sigma_0)\n",
    "x_hat = binomial(1000, .5)\n",
    "print('95th percentile X:', ninety_fifth_percentile_X, 'sample:', x_hat, \n",
    "      'Rejects H_0:',  x_hat > ninety_fifth_percentile_X)"
   ]
  },
  {
   "cell_type": "code",
   "execution_count": 8,
   "metadata": {},
   "outputs": [
    {
     "name": "stdout",
     "output_type": "stream",
     "text": [
      "Test Power for H1 == p=0.55: 0.9363790041157736\n"
     ]
    }
   ],
   "source": [
    "type_2_p = normal_probability_below(ninety_fifth_percentile_X, mu_1, sigma_1)\n",
    "print('Test Power for H1 == p=0.55:', 1 - type_2_p)"
   ]
  },
  {
   "cell_type": "markdown",
   "metadata": {},
   "source": [
    "##### P Values\n",
    "\n",
    "Instead of choosing a probability cutoff, and comparing X_hat to bounds of that cutoff, we can instead calculate to P(X_hat (or more extreme) | H_0). That is, is our deviation from the mean predicted by H_0 reasonably probably or surprising/predicted to be rare?\n"
   ]
  },
  {
   "cell_type": "code",
   "execution_count": 9,
   "metadata": {},
   "outputs": [
    {
     "data": {
      "text/plain": [
       "0.06207721579598835"
      ]
     },
     "execution_count": 9,
     "metadata": {},
     "output_type": "execute_result"
    }
   ],
   "source": [
    "def two_sided_p_value(x: float, mu: float = 0, sigma:float = 1) -> float:\n",
    "    \"\"\"\n",
    "    Given a sample X supposedly drawn from X ~ N(mu, sigma), return that the value we'd see is atleast this extreme\n",
    "    \"\"\"\n",
    "    dev = abs(mu - x)\n",
    "    p_expected_lower = normal_probability_below(mu - dev, mu, sigma)\n",
    "    p_expected_higher = normal_probability_above(mu + dev, mu, sigma)\n",
    "    return p_expected_higher + p_expected_lower\n",
    "two_sided_p_value(529.5, mu_0, sigma_0) # 0.062"
   ]
  },
  {
   "cell_type": "markdown",
   "metadata": {},
   "source": [
    "##### Confidence Intervals\n",
    "\n",
    "Confidence intervals are one way to reason about the degree to which one can assume the sample mean is equivalent to or nearly represents the mean. Lets say we observed 525/1000 flips were heads, so we assumed p=0.525. The 99% confidence interval is the bounded interval around the observed *sample mean* .525 that says: 99% of the time the sample mean would be between (p_lo, p_hi) if p_true = .525 (the first sample mean)"
   ]
  },
  {
   "cell_type": "code",
   "execution_count": 10,
   "metadata": {},
   "outputs": [
    {
     "name": "stdout",
     "output_type": "stream",
     "text": [
      "If we assume the true value of p is .525, then 95% of the time, our MLE for p would be between these values 0.4940490101644083 0.5559509898355918\n"
     ]
    }
   ],
   "source": [
    "# Example: we observe 525 heads (we are concerned about the Bernoulli exmpt here, not the Binomial outcome)\n",
    "p_hat = 525./1000\n",
    "# below is not that mean, stddev of Binomial experiment, it is the mean, stddev of the Average over 1000 Bernoulli exmpts\n",
    "mu_hat = p_hat\n",
    "sigma_hat = math.sqrt(p_hat * (1 - p_hat) / 1000)\n",
    "lo, hi = normal_two_sided_bounds(.95, mu_hat, sigma_hat) # (.494, .556)\n",
    "print('If we assume the true value of p is .525, then 95% of the time, our MLE for p would be between these values', lo, hi)"
   ]
  },
  {
   "cell_type": "markdown",
   "metadata": {},
   "source": [
    "In the above context, we cannot be 95% certain from a sample of 525 heads, p > .5 (since the range includes .494). As such, we can't reject the null hypothesis. If we had instead seen 545 heads, the interval would not include the null hypothesis and we could reject:"
   ]
  },
  {
   "cell_type": "code",
   "execution_count": 11,
   "metadata": {},
   "outputs": [
    {
     "name": "stdout",
     "output_type": "stream",
     "text": [
      "If we assume the true value of p is .525, then 95% of the time, our MLE for p would be between these values: 0.5141360124161631 0.575863987583837\n"
     ]
    }
   ],
   "source": [
    "# Example: we observe 545 heads (we are concerned about the Bernoulli exmpt here, not the Binomial outcome)\n",
    "p_hat = 545./1000\n",
    "# below is not that mean, stddev of Binomial experiment, it is the mean, stddev of the Average over 1000 Bernoulli exmpts\n",
    "mu_hat = p_hat\n",
    "sigma_hat = math.sqrt(p_hat * (1 - p_hat) / 1000)\n",
    "lo, hi = normal_two_sided_bounds(.95, mu_hat, sigma_hat) # (.514, .575)\n",
    "print('If we assume the true value of p is .525, then 95% of the time, our MLE for p would be between these values:', lo, hi)"
   ]
  },
  {
   "cell_type": "markdown",
   "metadata": {},
   "source": [
    "Here, the fair coin hypothesis (null hypothesis) doesn't lie in the confidence interval: it doesn't pass a test we would expect it to pass 95% of the time *if the null hypothesis were true*"
   ]
  },
  {
   "cell_type": "markdown",
   "metadata": {},
   "source": [
    "### A/B Testing using Hypothesis Testing/ Classical Inferrence\n",
    "\n",
    "Compare click-through of two ads A, B served on Website. `N_A` see ad A, `N_B` see ad B. `C_A` click-through on A, `C_B` click through on B.\n",
    "We can think of each ad view as a Bernoulli trial where `P_A` is the true probability of clicking through. (This means we expect `C_A ~ Binomial(P_A, N_A)`). Similarly, `P_hat_A` is the observed probability, and should also be normally distributed (since `P_hat_A = C_A / N_A`). If N_A & N_B are large, then `P_hat_A` should be approximately normally distributed with the following parameters:\n",
    "- mean/`mu` = expected value of `P_A` = `P_hat_A`\n",
    "- std deviation/`sigma` = `sqrt(P_hat_A * (1 - P_hat_A)) / N_A` Why N_A in the denominator?"
   ]
  },
  {
   "cell_type": "code",
   "execution_count": 12,
   "metadata": {},
   "outputs": [],
   "source": [
    "def estimated_parameters(ad_views: int, ad_clicks: int) -> Tuple[float, float]:\n",
    "    \"\"\"\n",
    "    Estimate the parameters of a normal distribution that represents the proability of clicking through an ad from\n",
    "    the number of clicks and views (or more generally the count and sum of Bernoulli trials)\n",
    "    \"\"\"\n",
    "    mu = float(ad_clicks) / ad_views\n",
    "    sigma = math.sqrt(mu * (1 - mu) / ad_views)\n",
    "    return mu, sigma"
   ]
  },
  {
   "cell_type": "markdown",
   "metadata": {},
   "source": [
    "Why do this? If we assume the two normal distributions are independent (somewhat reasonable, since we only show one ad at a time. One could object that a user who has already seen or clicked through on ad A is more or less likely to click on ad B and vice-versa, but we'll ignore for now). \n",
    "\n",
    "Given independent normal distributions, the difference between two normal distributions should *also be normal*. By looking at the difference, we can apply our hypothesis testing to determine if one ad is significantly more performant than another.\n",
    "\n",
    "Without reading, some guesses at what we could do:\n",
    "- using confidence intervals, estimate the values of P_A and P_B. If the intervals don't overlap, then we can determine the better ad.\n",
    "\n",
    "What we can really do: Test against the null hypothesis H_0 that P_A = P_B.\n",
    "- (Again not reading ahead) Idea: use `two_sided_p_value` to determine the likelihood that P_A is drawn from the estimated parameters Z ~ Normal(P_hat_B, sigma_B): if P < .05 (or hopefully better), then we can reject P_A == P_B. Not sure if this would work\n",
    "\n",
    "**TODO**: I'm not sure I *exactly* understand this but it looks like b/c the null hypothesis is that our ads A and B are equally effective, P_hat_A and P_hat_B should be observations from the same actual distribution. As such, we expect P_A - P_B to be zero, and can quantify the likelihood that the divergence from this is due to chance using only ourt observation counts. Where I'm lost is where these equations come from:"
   ]
  },
  {
   "cell_type": "code",
   "execution_count": 13,
   "metadata": {},
   "outputs": [],
   "source": [
    "def a_b_test_statistic(total_obs_a: int, sum_obs_a: int, total_obs_b: int, sum_obs_b: int) -> float:\n",
    "    p_hat_a, sigma_hat_a = estimated_parameters(total_obs_a, sum_obs_a)    \n",
    "    p_hat_b, sigma_hat_b = estimated_parameters(total_obs_b, sum_obs_b)\n",
    "    return (p_hat_b - p_hat_a) / math.sqrt(sigma_hat_a **2 + sigma_hat_b ** 2)"
   ]
  },
  {
   "cell_type": "code",
   "execution_count": 14,
   "metadata": {},
   "outputs": [
    {
     "data": {
      "text/plain": [
       "0.2541419765422361"
      ]
     },
     "execution_count": 14,
     "metadata": {},
     "output_type": "execute_result"
    }
   ],
   "source": [
    "z = a_b_test_statistic(1000, 200, 1000, 180) # -1.14\n",
    "two_sided_p_value(z) # .254 (25% probability that this observation occured given p_a == p_b)"
   ]
  },
  {
   "cell_type": "code",
   "execution_count": 15,
   "metadata": {},
   "outputs": [
    {
     "data": {
      "text/plain": [
       "0.003189699706216853"
      ]
     },
     "execution_count": 15,
     "metadata": {},
     "output_type": "execute_result"
    }
   ],
   "source": [
    "z = a_b_test_statistic(1000, 200, 1000, 150) # -2.94\n",
    "two_sided_p_value(z) # .003 (3% probability that this observation occured given p_a == p_b)"
   ]
  },
  {
   "cell_type": "markdown",
   "metadata": {},
   "source": [
    "### Bayesian Inference\n",
    "\n",
    "In classical inferrence, we make probability statements about our *tests* and the null hypothesis: conditioned on the null-hypothesis being true, there is a probability *p* that you would the see an observation at least as extreme as the actual.\n",
    "\n",
    "E.g. H_0 states that Z is a random variable defined by Binomial(n, .5) (fair coin example). We assumed the distribution of Z (in this case we know it exactly) and define a parameter to serve as the null hypothesis, testing against this.\n",
    "\n",
    "Bayesian approaches are an alternative that treat the unknown parameters (in this case the *p* we presumed could be .5 for a fair coin) themselves as **random variables**.\n",
    "\n",
    "The analyst assumes a *prior distribution* for Z, and then updates this using Bayes Theorem and observed data to get a *posterior distribution*. \n",
    "\n",
    "For the coin flipping example, we know the distribution of a single coin flip X ~ Bernoulli(p) and the distribution for the sum of a series of coin flips Y ~ Binomial(n, p), but we don't yet have a suitable distribution for defining `p ~ _____(? ...)`.\n",
    "\n",
    "Given what we know about p, we can choose (or make up!) a suitable one:\n",
    "- `p` is continuous  \n",
    "- `p` can take on any value 0 <= p <= 1\n",
    "\n",
    "We don't actually know any reasonable parameter(s) for defining a distribution that meets the above criteria, or an equation for one, but we can use the [Beta Distribution](https://en.wikipedia.org/wiki/Beta_distribution) to represent this. \n",
    "- TODO: Why this assumption, why/how was this ever formulated?\n",
    "- This also includes a [Gamma Function](https://en.wikipedia.org/wiki/Gamma_function) in the definition of a beta distribution, but again, this is a rabbit hole of the underpinnings of inference/probability math"
   ]
  },
  {
   "cell_type": "code",
   "execution_count": 16,
   "metadata": {},
   "outputs": [],
   "source": [
    "def __b(alpha: float, beta: float) -> float:\n",
    "    \"\"\"\n",
    "    a normalizing constant so that the total probability in a beta distribution is 1\n",
    "    \"\"\"\n",
    "    return math.gamma(alpha) * math.gamma(beta) / math.gamma(alpha + beta)  # of course!\n",
    "\n",
    "def beta_pdf(x:float, alpha: float, beta: float) -> float:\n",
    "    \"\"\"\n",
    "    returns the pdf of a Beta(alpha, beta) distribution at x\n",
    "    \"\"\"\n",
    "    if x < 0 or x > 1:\n",
    "        return 0\n",
    "    return (x ** (alpha - 1)) * ((1 - x) ** (beta - 1)) / __b(alpha, beta)\n",
    "    # \"generally speaking, the distribution centers its weight at alpha / (alpha + beta)\"\n"
   ]
  },
  {
   "cell_type": "markdown",
   "metadata": {},
   "source": [
    "In practical terms, in the Beta distribution alpha and beta let you arbitrarily shift around the probability weight. Consider this example, holding beta constant at 1, and fluctuating alpha."
   ]
  },
  {
   "cell_type": "code",
   "execution_count": 17,
   "metadata": {},
   "outputs": [
    {
     "data": {
      "image/png": "[encoded data removed]",
      "text/plain": [
       "<Figure size 432x288 with 1 Axes>"
      ]
     },
     "metadata": {
      "needs_background": "light"
     },
     "output_type": "display_data"
    }
   ],
   "source": [
    "alphas = range(1, 10)\n",
    "for alpha in alphas:\n",
    "    xs = np.arange(0., 1.0, .05)\n",
    "    ys = [beta_pdf(x, float(alpha), 1.) for x in xs]\n",
    "    plt.plot(xs, ys, label='alpha=' + str(alpha))\n",
    "plt.legend()\n",
    "plt.show()\n"
   ]
  },
  {
   "cell_type": "markdown",
   "metadata": {},
   "source": [
    "Similar experiment modulating beta:"
   ]
  },
  {
   "cell_type": "code",
   "execution_count": 18,
   "metadata": {},
   "outputs": [
    {
     "data": {
      "image/png": "[encoded data removed]",
      "text/plain": [
       "<Figure size 432x288 with 1 Axes>"
      ]
     },
     "metadata": {
      "needs_background": "light"
     },
     "output_type": "display_data"
    }
   ],
   "source": [
    "betas = range(1, 10)\n",
    "for beta in betas:\n",
    "    xs = np.arange(0., 1.0, .05)\n",
    "    ys = [beta_pdf(x, 1., beta) for x in xs]\n",
    "    plt.plot(xs, ys, label='beta=' + str(beta))\n",
    "plt.legend()\n",
    "plt.show()"
   ]
  },
  {
   "cell_type": "markdown",
   "metadata": {},
   "source": [
    "Some blends!"
   ]
  },
  {
   "cell_type": "code",
   "execution_count": 19,
   "metadata": {},
   "outputs": [
    {
     "data": {
      "image/png": "[encoded data removed]",
      "text/plain": [
       "<Figure size 432x288 with 1 Axes>"
      ]
     },
     "metadata": {
      "needs_background": "light"
     },
     "output_type": "display_data"
    }
   ],
   "source": [
    "alphas = [random.randint(1, 8) for i in range(5)]\n",
    "betas = [random.randint(1, 8) for i in range(5)]\n",
    "for i, beta in enumerate(betas):\n",
    "    alpha = alphas[i]\n",
    "    xs = np.arange(0., 1.0, .05)\n",
    "    ys = [beta_pdf(x, alpha, beta) for x in xs]\n",
    "    plt.plot(xs, ys, label='alpha=' + str(alpha) + ' beta=' + str(beta))\n",
    "plt.legend()\n",
    "plt.show()"
   ]
  },
  {
   "cell_type": "markdown",
   "metadata": {},
   "source": [
    "When using a Beta prior, you can update the distribution with Binomial observations and get a Beta posterior by simply adding the observations like so:\n",
    "\n",
    "Prior: `X ~ Beta(10, 10)`\n",
    "\n",
    "Posterior: `X' ~ Beta(10 + 486 , 10 + 514)` (1000 trials, 514 successes/tails)"
   ]
  },
  {
   "cell_type": "code",
   "execution_count": null,
   "metadata": {},
   "outputs": [],
   "source": []
  }
 ],
 "metadata": {
  "kernelspec": {
   "display_name": "dsfsvenv",
   "language": "python",
   "name": "dsfsvenv"
  },
  "language_info": {
   "codemirror_mode": {
    "name": "ipython",
    "version": 3
   },
   "file_extension": ".py",
   "mimetype": "text/x-python",
   "name": "python",
   "nbconvert_exporter": "python",
   "pygments_lexer": "ipython3",
   "version": "3.7.6"
  }
 },
 "nbformat": 4,
 "nbformat_minor": 4
}
