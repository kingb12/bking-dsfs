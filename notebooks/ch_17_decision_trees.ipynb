{
 "cells": [
  {
   "cell_type": "markdown",
   "metadata": {},
   "source": [
    "# Decision Trees\n",
    "\n",
    "A decision tree is basically a game of 20 (or N) questions, used against the features of a dataset to build tree and determine a class.\n",
    "\n",
    "**Strengths:** \n",
    "- works well with both categorical and real-valued feature data, and can also produce categorical or real-valued output.\n",
    "- very easy to interpret, relative to other methods\n",
    "\n",
    "**Weaknesses:**\n",
    "- overfitting a significant risk\n",
    "- computationally hard to find an optimal tree. There are strategies for finding 'good' ones, but for datasets with complex inter-feature relationships, this can be very difficult to get a performant one."
   ]
  },
  {
   "cell_type": "markdown",
   "metadata": {},
   "source": [
    "## Entropy\n",
    "\n",
    "When playing 20Q, the question-asker aims to gain as much information as possible about what the right answer(s) might be, from a simple yes/no. (e.g. when guessing an animal species, its not efficient to ask \"is it a tiger?\" as the first question: very little information is gained in terms of classes that can be ruled-out.\n",
    "\n",
    "We quantify this using a construct called *entropy* (the basis for cross-entropy loss), which quantifies the uncertainty in a dataset.\n",
    "\n",
    "Imagine a data-point (animal) can belong to one of N classes (species). Given a distribution of classes and their probabilities, *entropy* tells us how much we could infer about the data-point given the dataset (or relevant, pruned subset as determined by a decision tree).\n",
    "\n",
    "Given $N$ classes and a set of data $S$, the entropy of the data-set $H(S)$ is given by:\n",
    "$$H(S) = -\\sum_{i=1}^{n}{p_i\\log_2{p_i}}$$"
   ]
  },
  {
   "cell_type": "markdown",
   "metadata": {},
   "source": [
    "There are probably more interesting details to fill in, but the interior term has the property that each is non-positive (making the overall negative sum non-negative), and entropy is minimized as $p_i$ nears *either* 0 or 1"
   ]
  },
  {
   "cell_type": "code",
   "execution_count": 36,
   "metadata": {},
   "outputs": [],
   "source": [
    "# Awful hack to import past chapter modules\n",
    "import os, sys, json\n",
    "sys.path.insert(0, \"../\")\n",
    "import csv\n",
    "from linalg import Vector, distance\n",
    "from multiple_regression import bootstrap_sample\n",
    "import matplotlib.pyplot as plt\n",
    "import numpy as np\n",
    "import math\n",
    "from typing import List, Any, NamedTuple, TypeVar, Dict, Tuple, Optional, Union\n",
    "from collections import Counter, defaultdict"
   ]
  },
  {
   "cell_type": "code",
   "execution_count": 2,
   "metadata": {},
   "outputs": [
    {
     "data": {
      "image/png": "[encoded data removed]",
      "text/plain": [
       "<Figure size 432x288 with 1 Axes>"
      ]
     },
     "metadata": {
      "needs_background": "light"
     },
     "output_type": "display_data"
    }
   ],
   "source": [
    "# graphing the entropy term for just one class\n",
    "xs = [x / 100. for x in range(0, 100)]\n",
    "ys = [-1 * p * (math.log(p, 2) if p > 0 else 0) for p in xs]\n",
    "plt.plot(xs, ys)\n",
    "plt.title(\"$p_i\\log_2{p_i}$\")\n",
    "plt.show()"
   ]
  },
  {
   "cell_type": "markdown",
   "metadata": {},
   "source": [
    "**Interesting:** Why is this not maximized at 0.5?"
   ]
  },
  {
   "cell_type": "code",
   "execution_count": 3,
   "metadata": {},
   "outputs": [],
   "source": [
    "def entropy(class_probabilities: List[float]) -> float:\n",
    "    \"\"\"\n",
    "    Given a list of the class sample probabilities for ALL known classes, computes the entropy of the overall dataset\n",
    "    \"\"\"\n",
    "    return -1 * sum([p * (math.log(p, 2) if p > 0 else 0) for p in class_probabilities])\n",
    "\n",
    "assert(entropy([0, 0]) == 0)\n",
    "assert(entropy([]) == 0)\n",
    "assert(entropy([1, 1]) == 0)\n",
    "assert(entropy([.5, .5]) == 1)\n",
    "assert(.81 < entropy([.25, .75]) < .82)"
   ]
  },
  {
   "cell_type": "code",
   "execution_count": 4,
   "metadata": {},
   "outputs": [],
   "source": [
    "def class_probabilities(labels: List[Any]) -> List[float]:\n",
    "    \"\"\"\n",
    "    Given a list of class labels in a data-set (raw list of all observed labels), compute class probabilities for each\n",
    "    \"\"\"\n",
    "    counts: Counter = Counter(labels)\n",
    "    total = len(labels)\n",
    "    return [float(count) / total for count in counts.values()]\n",
    "\n",
    "# order and connection to what the labels are is not preserved\n",
    "assert(set(class_probabilities([1, 2, 3, 4, 1, 2, 2, 2])) == {.5, .25, .125, .125})\n",
    "def dataset_entropy(labels: List[Any]) -> float:\n",
    "    \"\"\"\n",
    "    composes class probabilities and entropy to get the entropy of the whole dataset\n",
    "    \"\"\"\n",
    "    return entropy(class_probabilities(labels))"
   ]
  },
  {
   "cell_type": "markdown",
   "metadata": {},
   "source": [
    "### Partition Entropy\n",
    "\n",
    "Above, we have the tools to compute the entropy of an entire dataset. In building a decision tree, our goal will be to apply this to the partitions of a decision tree as defined by a particular question node. To do this, we'll compute a partition entropy: provided with a partition of a dataset (a list of lists), we'll compute the overall entropy of this partitioning as the entropy of each partition multiplied by the proportion of labels in that partition ($q_1H(S_1)1 + ... + q_mH(S_m) $):\n",
    "\n",
    "$$ H = \\sum_{i=1}^m q_i * H(S_i) $$\n",
    "\n"
   ]
  },
  {
   "cell_type": "code",
   "execution_count": 5,
   "metadata": {},
   "outputs": [],
   "source": [
    "def partition_entropy(partitions: List[List[Any]]) -> float:\n",
    "    \"\"\"\n",
    "    Given a partitioning of a dataset, compute the entropy of that partitioning as \n",
    "    the sum of the entropy of each partition multiplied by the proportion of labels it contains\n",
    "    \"\"\"\n",
    "    total_count: int = sum(len(part) for part in partitions)\n",
    "    return sum(dataset_entropy(part) * len(part) / total_count for part in partitions)"
   ]
  },
  {
   "cell_type": "markdown",
   "metadata": {},
   "source": [
    "#### Over-fitting as a pitfall of minimizing entropy\n",
    "\n",
    "Overall, we want to build a decision tree whicvh minimizes entropy in the leaves it generates. In fact, one of the most common algorithms for building an 'optimal' decision tree greedily chooses nodes that maxmize information gain, or the difference in entropy between the current partitioning and a future one. \n",
    "\n",
    "This leads to over-fitting, as a leaf node with only one training value has zero entropy. For features with a large variety of values this optimizes for a partitioning that creates few-example or single-example leaf nodes. If these differences don't generalize though, then the model is overfit."
   ]
  },
  {
   "cell_type": "markdown",
   "metadata": {},
   "source": [
    "### Making a Decision Tree\n",
    "\n",
    "Putting this together for an algorithm which produces a decision tree, we want to do the following:\n",
    "\n",
    "**Inputs:** A data set consisting of a list of discretely featured points and a discrete class label (this generalizes to real value features and real value labels, though).\n",
    "\n",
    "**Outputs:** A tree which can be used to predict a class label from the features of the point\n",
    "\n",
    "##### Algorithm\n",
    "```\n",
    "make_decision_tree(data):\n",
    "    if (all data have the same label) \n",
    "        create a leaf node which predicts this label\n",
    "        DONE\n",
    "    if (there are no more possible features with which to differentiate the dataset)\n",
    "        create a leaf node predicting the most common label\n",
    "        DONE\n",
    "    for EACH attribute:\n",
    "        parts = partition the data on that attribute\n",
    "        entropy = compute entropy of that partitioning\n",
    "    create a decision node using the partitioning with the least entropy\n",
    "    for EACH part:\n",
    "        compute a sub-tree for each partitioning and attach it to this decision node\n",
    "```"
   ]
  },
  {
   "cell_type": "code",
   "execution_count": 6,
   "metadata": {},
   "outputs": [],
   "source": [
    "# My very cool data\n",
    "class Animal(NamedTuple):\n",
    "    \"\"\"\n",
    "    Everything important to know about animals\n",
    "    \"\"\"\n",
    "    legs: int\n",
    "    swims: bool\n",
    "    claws: bool\n",
    "    bites: bool\n",
    "    colonizes: bool\n",
    "    name: str\n",
    "\n",
    "        \n",
    "data = [\n",
    "    Animal(2, True, False, True, True, 'human'),\n",
    "    Animal(6, False, False, False, True, 'ant'),\n",
    "    Animal(4, False, True, True, False, 'cat'),    \n",
    "    Animal(4, True, True, True, False, 'dog'),    \n",
    "    Animal(4, True, True, True, False, 'bear'),    \n",
    "    Animal(4, False, False, True, False, 'horse'),    \n",
    "    Animal(8, True, False, False, False, 'octopus'),    \n",
    "    Animal(2, True, False, False, False, 'fish'),    \n",
    "    Animal(6, True, False, False, False, 'squid'),    \n",
    "    Animal(6, False, False, False, True, 'bee'),    \n",
    "    Animal(6, False, False, False, False, 'butterfly'),    \n",
    "    Animal(2, False, True, True, False, 'eagle'),    \n",
    "    Animal(2, False, True, True, False, 'hawk'),    \n",
    "    Animal(2, False, True, True, False, 'robin'),    \n",
    "    Animal(2, False, True, True, False, 'crow'),    \n",
    "]\n",
    "\n",
    "# Joel's boring dubious data\n",
    "class Candidate(NamedTuple):\n",
    "    level: str\n",
    "    lang: str\n",
    "    tweets: bool\n",
    "    phd: bool\n",
    "    did_well: Optional[bool] = None  # allow unlabeled data\n",
    "\n",
    "                  #  level     lang     tweets  phd  did_well\n",
    "inputs = [Candidate('Senior', 'Java',   False, False, False),\n",
    "          Candidate('Senior', 'Java',   False, True,  False),\n",
    "          Candidate('Mid',    'Python', False, False, True),\n",
    "          Candidate('Junior', 'Python', False, False, True),\n",
    "          Candidate('Junior', 'R',      True,  False, True),\n",
    "          Candidate('Junior', 'R',      True,  True,  False),\n",
    "          Candidate('Mid',    'R',      True,  True,  True),\n",
    "          Candidate('Senior', 'Python', False, False, False),\n",
    "          Candidate('Senior', 'R',      True,  False, True),\n",
    "          Candidate('Junior', 'Python', True,  False, True),\n",
    "          Candidate('Senior', 'Python', True,  True,  True),\n",
    "          Candidate('Mid',    'Python', False, True,  True),\n",
    "          Candidate('Mid',    'Java',   True,  False, True),\n",
    "          Candidate('Junior', 'Python', False, True,  False)\n",
    "         ]"
   ]
  },
  {
   "cell_type": "code",
   "execution_count": 7,
   "metadata": {},
   "outputs": [],
   "source": [
    "T = TypeVar('T')"
   ]
  },
  {
   "cell_type": "code",
   "execution_count": 8,
   "metadata": {},
   "outputs": [],
   "source": [
    "def partition_by(points: List[T], attribute: str) -> Dict[Any, List[T]]:\n",
    "    \"\"\"\n",
    "    Given a list of points, partition them by the attribute retrievable at <attribute>\n",
    "    \"\"\"   \n",
    "    parts: Dict[Any, List[T]] = defaultdict(list)\n",
    "    for p in points:\n",
    "        key = getattr(p, attribute)\n",
    "        parts[key].append(p)\n",
    "    return parts\n",
    "\n",
    "\n",
    "        "
   ]
  },
  {
   "cell_type": "code",
   "execution_count": 9,
   "metadata": {},
   "outputs": [],
   "source": [
    "def partition_entropy_by(points: List[T], attribute: str, label_attribute: str) -> Tuple[Dict[Any, List[T]], float]:\n",
    "    \"\"\"\n",
    "    Given a list of points, partition them by the attribute retrievable at <attribute> and compute the entropy of \n",
    "    each partition with respect to the attribute retrievable at <label_attribute>\n",
    "    \"\"\"\n",
    "    parts: Dict[Any, List[T]] = partition_by(points, attribute)\n",
    "        \n",
    "    # partition_entropy requires us to process this data into just label buckets\n",
    "    just_labels = []\n",
    "    for key, vals in parts.items():\n",
    "        just_labels.append([getattr(v, label_attribute) for v in vals])\n",
    "    return parts, partition_entropy(just_labels)\n",
    "\n",
    "assert 0.69 < partition_entropy_by(inputs, 'level', 'did_well')[1] < 0.70\n",
    "assert 0.86 < partition_entropy_by(inputs, 'lang', 'did_well')[1] < 0.87\n",
    "assert 0.78 < partition_entropy_by(inputs, 'tweets', 'did_well')[1] < 0.79\n",
    "assert 0.89 < partition_entropy_by(inputs, 'phd', 'did_well')[1] < 0.90"
   ]
  },
  {
   "cell_type": "code",
   "execution_count": 11,
   "metadata": {},
   "outputs": [],
   "source": [
    "# A tree will either be a leaf note, or a split\n",
    "DecisionNode = Union['Leaf', 'Split']\n",
    "class Leaf(NamedTuple): \n",
    "    value: Any\n",
    "        \n",
    "class Split(NamedTuple):\n",
    "    attribute: str\n",
    "    subtrees: Dict[Any, DecisionNode]\n",
    "    default_value: Any = None\n",
    "        \n"
   ]
  },
  {
   "cell_type": "code",
   "execution_count": 33,
   "metadata": {},
   "outputs": [],
   "source": [
    "def classify(node: DecisionNode, input: Any):\n",
    "    \"\"\"\n",
    "    Given a decision tree node and input to classify with that decision tree, \n",
    "    determine the appropriate label for the input\n",
    "    \"\"\"\n",
    "    while(True):\n",
    "        if isinstance(node, Leaf):\n",
    "            return node.value\n",
    "        else:\n",
    "            # split: follow the right branch\n",
    "            value = getattr(input, node.attribute)\n",
    "            if value not in node.subtrees:\n",
    "                return node.default_value\n",
    "            # continue\n",
    "            node = node.subtrees[value]"
   ]
  },
  {
   "cell_type": "code",
   "execution_count": 34,
   "metadata": {},
   "outputs": [],
   "source": [
    "def build_tree_id3(data: List[Any], split_attributes: List[str], target_attribute: str) -> DecisionNode:\n",
    "    \"\"\"\n",
    "    Given a dataset, a set of attributes belonging to the items in that dataset, and a target attribute, return\n",
    "    the root node of a deicision tree which splits upon split_attributes, seeking to predict an inputs target\n",
    "    attribute\n",
    "    \"\"\"\n",
    "    counts = Counter([getattr(p, target_attribute) for p in data])\n",
    "    most_common_target_attr = counts.most_common(1)[0][0]\n",
    "    if len(counts) == 1:\n",
    "        # everything has the same target attribute, just return a node with it\n",
    "        return Leaf(most_common_target_attr)\n",
    "    elif len(split_attributes) == 0:\n",
    "        # nothing left to split on, just return the most common target attribute\n",
    "        return Leaf(most_common_target_attr)\n",
    "    parts_by_entropy: Dict[float, Tuple[str, Dict[Any, List[T]]]] = {}\n",
    "    for attr in split_attributes:\n",
    "        parts, entropy = partition_entropy_by(data, attr, target_attribute)\n",
    "        # duplicate keys not an issue: if two share the lowest entropy we split on one arbitrarily\n",
    "        parts_by_entropy[entropy] = (attr, parts)\n",
    "    # find the partitioning with lowest entropy and create a Split with it\n",
    "    attr, parts = parts_by_entropy[min(parts_by_entropy.keys())]\n",
    "    subtrees: Dict[Any, DecisionNode] = {}\n",
    "    for attr_val in parts:\n",
    "        # recurse over sub-trees with one less split attribute\n",
    "        subtrees[attr_val] = build_tree_id3(parts[attr_val], [a for a in split_attributes if a != attr], target_attribute)          \n",
    "    return Split(attr, subtrees, most_common_target_attr)\n",
    "        "
   ]
  },
  {
   "cell_type": "code",
   "execution_count": 35,
   "metadata": {},
   "outputs": [
    {
     "name": "stdout",
     "output_type": "stream",
     "text": [
      "[\n",
      " \"level\",\n",
      " {\n",
      "  \"Senior\": [\n",
      "   \"tweets\",\n",
      "   {\n",
      "    \"false\": [\n",
      "     false\n",
      "    ],\n",
      "    \"true\": [\n",
      "     true\n",
      "    ]\n",
      "   },\n",
      "   false\n",
      "  ],\n",
      "  \"Mid\": [\n",
      "   true\n",
      "  ],\n",
      "  \"Junior\": [\n",
      "   \"phd\",\n",
      "   {\n",
      "    \"false\": [\n",
      "     true\n",
      "    ],\n",
      "    \"true\": [\n",
      "     false\n",
      "    ]\n",
      "   },\n",
      "   true\n",
      "  ]\n",
      " },\n",
      " true\n",
      "]\n"
     ]
    }
   ],
   "source": [
    "# verify on Joels data\n",
    "tree = build_tree_id3(inputs, ['level', 'lang', 'tweets', 'phd'], 'did_well')\n",
    "print(json.dumps(tree, indent=1))\n",
    "assert classify(tree, Candidate('Junior', 'Java', True, False))\n",
    "assert not classify(tree, Candidate('Junior', 'Java', True, True))\n",
    "# unexpected value happens to return true\n",
    "assert classify(tree, Candidate('Intern', 'Java', True, False))"
   ]
  },
  {
   "cell_type": "markdown",
   "metadata": {},
   "source": [
    "## Random Forests\n",
    "\n",
    "Not surprisingly, decision trees as constructed above tend to significantly overfit. Several options for handling this:\n",
    "\n",
    "1. Stoppage criteria [fixed depth or number of leaves (or something smarter)](https://courses.cs.washington.edu/courses/cse446/16sp/slides/week_1_2_decision_trees_Apr1.pdf)\n",
    "2. Random forest: build several decision trees using the exact algorithm above but with bootstrapped data (sub-sets). This technique actually allows accurate performance assessment on the whole dataset if done carefully (no need for a test set).\n",
    "3. Random forest 2: build several decision trees where at each split_attribute opportunity, you only consider some of the options."
   ]
  },
  {
   "cell_type": "code",
   "execution_count": 50,
   "metadata": {},
   "outputs": [],
   "source": [
    "RandomForest = List[DecisionNode]\n",
    "def random_bootstrapped_forest(data: List[Any], split_attributes: List[str], target_attribute: str, n: int = 10, sampling_size: int = 0) -> RandomForest:\n",
    "    \"\"\"\n",
    "    Train n decision trees using bootstrapped sub-samples of the input dataset\n",
    "    \"\"\"\n",
    "    forest: RandomForest = []\n",
    "    if sampling_size <= 0:\n",
    "        sampling_size = len(data)\n",
    "    for i in range(n):\n",
    "        sub_sample: List[Any] = bootstrap_sample(data, sampling_size)\n",
    "        forest.append(build_tree_id3(sub_sample, split_attributes, target_attribute))\n",
    "    return forest\n",
    "\n",
    "        \n",
    "def random_forest_vote_classify(forest: RandomForest, x: Any) -> Any:\n",
    "    \"\"\"\n",
    "    Classify using a random forest, using votes as the response mechanism\n",
    "    \"\"\"\n",
    "    votes: List[Any] = []\n",
    "    for tree in forest:\n",
    "        votes.append(classify(tree, x))\n",
    "    return Counter(votes).most_common(1)[0][0]\n",
    "        \n",
    "        \n",
    "# verify on Joels data\n",
    "forest: RandomForest = random_bootstrapped_forest(inputs, ['level', 'lang', 'tweets', 'phd'], 'did_well', n=200, sampling_size=0)\n",
    "assert random_forest_vote_classify(forest, Candidate('Junior', 'R', True, False))\n",
    "assert not random_forest_vote_classify(forest, Candidate('Junior', 'R', True, True))\n",
    "# unexpected value happens to return true\n",
    "assert random_forest_vote_classify(forest, Candidate('Intern', 'Java', True, False))\n"
   ]
  },
  {
   "cell_type": "code",
   "execution_count": null,
   "metadata": {},
   "outputs": [],
   "source": []
  },
  {
   "cell_type": "code",
   "execution_count": null,
   "metadata": {},
   "outputs": [],
   "source": []
  }
 ],
 "metadata": {
  "kernelspec": {
   "display_name": "dsfsvenv",
   "language": "python",
   "name": "dsfsvenv"
  },
  "language_info": {
   "codemirror_mode": {
    "name": "ipython",
    "version": 3
   },
   "file_extension": ".py",
   "mimetype": "text/x-python",
   "name": "python",
   "nbconvert_exporter": "python",
   "pygments_lexer": "ipython3",
   "version": "3.7.6"
  }
 },
 "nbformat": 4,
 "nbformat_minor": 4
}
