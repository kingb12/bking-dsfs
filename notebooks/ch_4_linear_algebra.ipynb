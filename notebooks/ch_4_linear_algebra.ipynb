{
 "cells": [
  {
   "cell_type": "markdown",
   "metadata": {},
   "source": [
    "# Vector and Matrix Algebra From Scratch\n",
    "We'll implement a basic vector + common vector operations\n",
    "\n",
    "By definition, can any dimmension of a vector be discrete? No all are continuous -> floats"
   ]
  },
  {
   "cell_type": "code",
   "execution_count": 1,
   "metadata": {},
   "outputs": [],
   "source": [
    "from typing import List, Tuple, Callable\n",
    "import math"
   ]
  },
  {
   "cell_type": "code",
   "execution_count": 2,
   "metadata": {},
   "outputs": [],
   "source": [
    "# first, lets add a type hint for a vector, which will be a list of floats\n",
    "Vector = List[float]"
   ]
  },
  {
   "cell_type": "code",
   "execution_count": 3,
   "metadata": {},
   "outputs": [],
   "source": [
    "def add(v: Vector, w: Vector) -> Vector:\n",
    "    \"\"\"component-wise addition of two vectors\"\"\"\n",
    "    assert len(v) == len(w), 'cannot add vectors of inequal length'\n",
    "    return [x + y for (x, y) in zip(v, w)]\n",
    "a = [1., 2., 3.]\n",
    "b = [2., 3., 4.]\n",
    "assert add(a, b) == [3, 5, 7]"
   ]
  },
  {
   "cell_type": "code",
   "execution_count": 4,
   "metadata": {},
   "outputs": [],
   "source": [
    "def subtract(v: Vector, w: Vector) -> Vector:\n",
    "    \"\"\"component-wise subtraction of two vectors\"\"\"\n",
    "    assert len(v) == len(w), 'cannot subtract vectors of inequal length'\n",
    "    return [x - y for (x, y) in zip(v, w)]\n",
    "a = [1., 2., 3.]\n",
    "b = [2., 3., 4.]\n",
    "assert subtract(a, b) == [-1, -1, -1]"
   ]
  },
  {
   "cell_type": "code",
   "execution_count": 5,
   "metadata": {},
   "outputs": [],
   "source": [
    "def vector_sum(vs: List[Vector]) -> Vector:\n",
    "    \"\"\"component-wise addition of N vectors\"\"\"\n",
    "    assert vs, \"provide vectors\"\n",
    "    # assert the length of each vector in vs is the same\n",
    "    assert all(len(v) == len(vs[0]) for v in vs),'cannot add vectors of inequal length'\n",
    "    # use of * below unpacks vs into the arguments, equivalent to zip(v_1, v_2, ... v_n)\n",
    "    return [sum(t) for t in zip(*vs)]\n",
    "a = [1., 2., 3.]\n",
    "b = [2., 3., 4.]\n",
    "c = [0., 2., 3.]\n",
    "d = [2., 0., 4.]\n",
    "e = [1., 2., 0.]\n",
    "vs = [a, b, c, d, e]\n",
    "assert vector_sum(vs) == [6, 9, 14]\n"
   ]
  },
  {
   "cell_type": "code",
   "execution_count": 6,
   "metadata": {},
   "outputs": [],
   "source": [
    "def scalar_multiply(scalar: float, v: Vector) -> Vector:\n",
    "    \"\"\"scalar multiplication of scalar by each vector\"\"\"\n",
    "    assert v and scalar, \"provide scalar & vector\"\n",
    "    return [scalar * i for i in v]\n",
    "a = [1., 2., 3.]\n",
    "assert scalar_multiply(3, a) == [3, 6, 9]\n"
   ]
  },
  {
   "cell_type": "code",
   "execution_count": 7,
   "metadata": {},
   "outputs": [],
   "source": [
    "def vector_mean(vs: List[Vector]) -> Vector:\n",
    "    \"\"\"element-wise average of a list of vectors\"\"\"\n",
    "    # add all the vectors and multiply by 1/n\n",
    "    return scalar_multiply(1/len(vs), vector_sum(vs))\n",
    "a = [1., 2., 3.]\n",
    "b = [2., 3., 4.]\n",
    "c = [0., 2., 3.]\n",
    "d = [2., 0., 4.]\n",
    "e = [1., 2., 0.]\n",
    "vs = [a, b, c, d, e]\n",
    "# fancy assertion to deal with rounding issues\n",
    "for (x, y) in zip(vector_mean(vs), [1.2, 1.8, 2.8]):\n",
    "    assert abs(x - y) < 10**(-8) \n"
   ]
  },
  {
   "cell_type": "code",
   "execution_count": 8,
   "metadata": {},
   "outputs": [],
   "source": [
    "def dot(v: Vector, w: Vector) -> float:\n",
    "    \"\"\"returns the dot product of two vectors\"\"\"\n",
    "    assert v and w, 'need vectors'\n",
    "    assert len(v) == len(w), 'cannot dot vectors of inequal length'\n",
    "    return sum(x * y for (x, y) in zip(v, w))\n",
    "b = [2., 3., 4.]\n",
    "c = [0., 2., 3.]\n",
    "assert dot(b, c) == 18\n"
   ]
  },
  {
   "cell_type": "code",
   "execution_count": 9,
   "metadata": {},
   "outputs": [],
   "source": [
    "def sum_of_squares(v: Vector) -> float:\n",
    "    \"\"\"returns the sum of squares of a vector (e.g v_0**2 + v_1**2 ... v_n**2)\"\"\"\n",
    "    # this is the same as dot(v, v)\n",
    "    return dot(v, v)\n",
    "b = [2., 3., 4.]\n",
    "assert sum_of_squares(b) == 29\n"
   ]
  },
  {
   "cell_type": "code",
   "execution_count": 10,
   "metadata": {},
   "outputs": [],
   "source": [
    "def magnitude(v: Vector) -> float:\n",
    "    \"\"\"magnitude of a vector == sqrt of summed squares\"\"\"\n",
    "    assert v, 'need a vector!'\n",
    "    return math.sqrt(sum_of_squares(v))\n",
    "assert magnitude([3, 4]) == 5"
   ]
  },
  {
   "cell_type": "code",
   "execution_count": 11,
   "metadata": {},
   "outputs": [],
   "source": [
    "def squared_distance(v: Vector, w: Vector) -> float:\n",
    "    \"\"\"the distance between two vectors, squared: (v_0 - w_0)**2 + ... + (v_n - w_n)**2\"\"\"\n",
    "    assert v and w, 'need vectors'\n",
    "    assert len(v) == len(w), 'vectors must have equal length'\n",
    "    return sum_of_squares(subtract(v, w))\n",
    "assert squared_distance([1., 2., 3.], [2., 3., 4]) == 3\n"
   ]
  },
  {
   "cell_type": "code",
   "execution_count": 12,
   "metadata": {},
   "outputs": [],
   "source": [
    "def distance(v: Vector, w: Vector) -> float:\n",
    "    # return math.sqrt(squared_distance(v, w))\n",
    "    return magnitude(subtract(v, w))\n",
    "assert distance([1., 2., 3.], [2., 3., 4]) == math.sqrt(3)\n",
    "assert distance([1., 2., 3.], [3., 4., 5]) == math.sqrt(12)\n",
    "\n"
   ]
  },
  {
   "cell_type": "code",
   "execution_count": 13,
   "metadata": {},
   "outputs": [],
   "source": [
    "# On to matrices!\n",
    "Matrix = List[List[float]]"
   ]
  },
  {
   "cell_type": "code",
   "execution_count": 14,
   "metadata": {},
   "outputs": [],
   "source": [
    "def valid_matrix(m: Matrix) -> bool:\n",
    "    \"\"\"checks our representation of a matrix\"\"\"\n",
    "    assert m, 'empty matrix!'\n",
    "    return all(len(v) == len(m[0]) for v in m)\n",
    "assert valid_matrix([[1, 2], [3, 4]])\n",
    "assert not valid_matrix([[1, 2], [3, 4, 5]])"
   ]
  },
  {
   "cell_type": "code",
   "execution_count": 15,
   "metadata": {},
   "outputs": [],
   "source": [
    "def shape(m: Matrix) -> Tuple[int, int]:\n",
    "    \"\"\"returns the shape of a matrix\"\"\"\n",
    "    assert valid_matrix(m), 'invalid matrix supplied'\n",
    "    return len(m), len(m[0]) # n by k\n",
    "assert shape([[1, 2], [3, 4]]) == (2, 2)"
   ]
  },
  {
   "cell_type": "code",
   "execution_count": 16,
   "metadata": {},
   "outputs": [],
   "source": [
    "def get_row(m: Matrix, i: int) -> Vector:\n",
    "    \"\"\"returns the ith row of an n * k matrix as a vector of length k\"\"\"\n",
    "    assert m and valid_matrix(m), 'invalid matrix!'\n",
    "    return m[i]\n",
    "assert get_row([[1, 2], [3, 4]], 1) == [3, 4]"
   ]
  },
  {
   "cell_type": "code",
   "execution_count": 17,
   "metadata": {},
   "outputs": [],
   "source": [
    "def get_column(m: Matrix, j: int) -> Vector:\n",
    "    \"\"\"returns the jth column of an n * k matrix as a vector of length n\"\"\"\n",
    "    assert m and valid_matrix(m), 'invalid matrix!'\n",
    "    return [v[j] for v in m]\n",
    "assert get_column([[1, 2], [3, 4]], 1) == [2, 4]"
   ]
  },
  {
   "cell_type": "code",
   "execution_count": 18,
   "metadata": {},
   "outputs": [],
   "source": [
    "def make_matrix(n: int, k: int, entry_fn: Callable[[int, int], float]) -> Matrix:\n",
    "    \"\"\"constructs a n * k matrix A by creating each element with entry_fn(i, j) -> A(i, j)\"\"\"\n",
    "    return [[entry_fn(i, j) for j in range(k)] for i in range(n)]\n",
    "assert make_matrix(2, 2, lambda i, j: i + j + 1) == [[1, 2], [2, 3]]\n",
    "    "
   ]
  },
  {
   "cell_type": "code",
   "execution_count": 19,
   "metadata": {},
   "outputs": [],
   "source": [
    "def identity_matrix(n: int) -> Matrix:\n",
    "    \"\"\"returns an identity matrix of size n * n\"\"\"\n",
    "    return make_matrix(n, n, lambda i, j: 1 if i == j else 0)\n",
    "assert identity_matrix(3) == [[1, 0, 0], [0, 1, 0], [0, 0, 1]]"
   ]
  },
  {
   "cell_type": "markdown",
   "metadata": {},
   "source": [
    "I'll be saving these as a file my_linalg.py for use with future stuff (instead of using faster better numpy)"
   ]
  }
 ],
 "metadata": {
  "celltoolbar": "Raw Cell Format",
  "kernelspec": {
   "display_name": "dsfsvenv",
   "language": "python",
   "name": "dsfsvenv"
  },
  "language_info": {
   "codemirror_mode": {
    "name": "ipython",
    "version": 3
   },
   "file_extension": ".py",
   "mimetype": "text/x-python",
   "name": "python",
   "nbconvert_exporter": "python",
   "pygments_lexer": "ipython3",
   "version": "3.7.6"
  }
 },
 "nbformat": 4,
 "nbformat_minor": 4
}
