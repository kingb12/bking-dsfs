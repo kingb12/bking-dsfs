{
 "cells": [
  {
   "cell_type": "code",
   "execution_count": 27,
   "metadata": {},
   "outputs": [],
   "source": [
    "# imports for all these examples\n",
    "from collections import defaultdict, Counter\n",
    "from typing import List, Callable, Union, Sequence, TypeVar"
   ]
  },
  {
   "cell_type": "code",
   "execution_count": 28,
   "metadata": {},
   "outputs": [
    {
     "name": "stdout",
     "output_type": "stream",
     "text": [
      "char_freq == char_freq_old: True\n",
      "char_freq_old: {'T': 1, 'h': 2, 'e': 3, ' ': 8, 'q': 1, 'u': 2, 'i': 1, 'c': 1, 'k': 1, 'b': 1, 'r': 2, 'o': 4, 'w': 1, 'n': 1, 'f': 1, 'x': 1, 'j': 1, 'm': 1, 'p': 1, 's': 1, 'v': 1, 't': 1, 'l': 1, 'a': 1, 'z': 1, 'y': 1, 'd': 1, 'g': 1}\n",
      "char_freq: defaultdict(<class 'int'>, {'T': 1, 'h': 2, 'e': 3, ' ': 8, 'q': 1, 'u': 2, 'i': 1, 'c': 1, 'k': 1, 'b': 1, 'r': 2, 'o': 4, 'w': 1, 'n': 1, 'f': 1, 'x': 1, 'j': 1, 'm': 1, 'p': 1, 's': 1, 'v': 1, 't': 1, 'l': 1, 'a': 1, 'z': 1, 'y': 1, 'd': 1, 'g': 1})\n"
     ]
    }
   ],
   "source": [
    "# defaultdict solves the key-does-not-yet-exist problem elegantly\n",
    "sentence = 'The quick brown fox jumps over the lazy dog'\n",
    "\n",
    "# old way of calculating char frequency\n",
    "char_freq_old = {}\n",
    "for char in sentence:\n",
    "    if char in char_freq_old:\n",
    "        char_freq_old[char] += 1\n",
    "    else:\n",
    "        char_freq_old[char] = 1\n",
    "\n",
    "# defaultdict way of calculating char frequency\n",
    "char_freq = defaultdict(int) # initialize each at 0\n",
    "for char in sentence:\n",
    "    char_freq[char] += 1\n",
    "\n",
    "print('char_freq == char_freq_old:', char_freq == char_freq_old)\n",
    "print('char_freq_old:', char_freq_old)\n",
    "print('char_freq:', char_freq)"
   ]
  },
  {
   "cell_type": "code",
   "execution_count": 29,
   "metadata": {},
   "outputs": [
    {
     "name": "stdout",
     "output_type": "stream",
     "text": [
      "char_freq == char_freq_old == char_freq_counter: True\n",
      "char_freq_counter Counter({' ': 8, 'o': 4, 'e': 3, 'h': 2, 'u': 2, 'r': 2, 'T': 1, 'q': 1, 'i': 1, 'c': 1, 'k': 1, 'b': 1, 'w': 1, 'n': 1, 'f': 1, 'x': 1, 'j': 1, 'm': 1, 'p': 1, 's': 1, 'v': 1, 't': 1, 'l': 1, 'a': 1, 'z': 1, 'y': 1, 'd': 1, 'g': 1})\n"
     ]
    }
   ],
   "source": [
    "# counter does the whole frequency operation on our behalf\n",
    "char_freq_counter = Counter(sentence)\n",
    "print('char_freq == char_freq_old == char_freq_counter:', char_freq == char_freq_old == char_freq_counter)\n",
    "print('char_freq_counter', char_freq_counter)\n"
   ]
  },
  {
   "cell_type": "code",
   "execution_count": 32,
   "metadata": {},
   "outputs": [],
   "source": [
    "# type annotations example. Of Note, type annotations do not actually stop computation, but \n",
    "# provide input for static analysis tools for auto-complete, error-cheching, etc.\n",
    "\n",
    "x: int = 25 # in-line variable typing\n",
    "    \n",
    "def f(x: [float, int], y: [int, float]):\n",
    "    return x * y\n",
    "\n",
    "# turns out this is bad: we loosen the typing of 'nums' if the original list was List[int] \n",
    "# and we add a float (or vice versa). Type checking won't let us call this with out \n",
    "# explicitly labelling the arg with the same type\n",
    "def f2_bad(nums: List[Union[float, int]]):\n",
    "    return sum(nums + [3.14])\n",
    "\n",
    "# we can explicitly call out the type\n",
    "Num = Union[float, int]\n",
    "def f2_explicit(nums: List[Num]):\n",
    "    return sum(nums + [3.14])\n",
    "\n",
    "# if we don't need to mutate, we can side-step by using a more limited API that won't break the invariant even with our typing\n",
    "def f2_better(nums: Sequence[Num]):\n",
    "    return sum(nums)\n",
    "\n",
    "# if we instead wish to work with a list of ints XOR floats, we can use TypeVar\n",
    "TNum = TypeVar('TNum', int, float)\n",
    "def f2_better_xor(nums: Sequence[TNum]):\n",
    "    return sum(nums)"
   ]
  },
  {
   "cell_type": "code",
   "execution_count": null,
   "metadata": {},
   "outputs": [],
   "source": []
  }
 ],
 "metadata": {
  "kernelspec": {
   "display_name": "Python 3",
   "language": "python",
   "name": "python3"
  },
  "language_info": {
   "codemirror_mode": {
    "name": "ipython",
    "version": 3
   },
   "file_extension": ".py",
   "mimetype": "text/x-python",
   "name": "python",
   "nbconvert_exporter": "python",
   "pygments_lexer": "ipython3",
   "version": "3.7.6"
  }
 },
 "nbformat": 4,
 "nbformat_minor": 4
}
